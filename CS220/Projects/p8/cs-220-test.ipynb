{
 "cells": [
  {
   "cell_type": "code",
   "execution_count": 1,
   "metadata": {
    "execution": {
     "iopub.execute_input": "2021-03-26T01:17:21.905318Z",
     "iopub.status.busy": "2021-03-26T01:17:21.904289Z",
     "iopub.status.idle": "2021-03-26T01:17:21.909292Z",
     "shell.execute_reply": "2021-03-26T01:17:21.911328Z"
    }
   },
   "outputs": [],
   "source": [
    "# project: p8\n",
    "# submitter: RMM052, RMichaelis2\n",
    "# partner: mprine2\n",
    "# hours: "
   ]
  },
  {
   "cell_type": "code",
   "execution_count": 2,
   "metadata": {
    "execution": {
     "iopub.execute_input": "2021-03-26T01:17:21.918282Z",
     "iopub.status.busy": "2021-03-26T01:17:21.917282Z",
     "iopub.status.idle": "2021-03-26T01:17:21.923316Z",
     "shell.execute_reply": "2021-03-26T01:17:21.923316Z"
    }
   },
   "outputs": [],
   "source": [
    "import csv\n",
    "\n",
    "# copied from https://automatetheboringstuff.com/chapter14/\n",
    "def process_csv(filename):\n",
    "    exampleFile = open(filename, encoding=\"utf-8\")\n",
    "    exampleReader = csv.reader(exampleFile)\n",
    "    exampleData = list(exampleReader)\n",
    "    exampleFile.close()\n",
    "    return exampleData"
   ]
  },
  {
   "cell_type": "code",
   "execution_count": 3,
   "metadata": {
    "execution": {
     "iopub.execute_input": "2021-03-26T01:17:21.928854Z",
     "iopub.status.busy": "2021-03-26T01:17:21.928854Z",
     "iopub.status.idle": "2021-03-26T01:17:21.937938Z",
     "shell.execute_reply": "2021-03-26T01:17:21.938976Z"
    }
   },
   "outputs": [
    {
     "data": {
      "text/plain": [
       "{'tt1233301': 'Ironclad',\n",
       " 'tt0090605': 'Aliens',\n",
       " 'nm0257646': 'Jonathan English',\n",
       " 'nm0000299': 'Michael Biehn',\n",
       " 'nm0000116': 'James Cameron',\n",
       " 'nm9696871': 'Brian Cox',\n",
       " 'nm0001343': 'Carrie Henn',\n",
       " 'nm0700856': 'James Purefoy',\n",
       " 'nm0544718': 'Kate Mara',\n",
       " 'nm0000244': 'Sigourney Weaver'}"
      ]
     },
     "execution_count": 1,
     "metadata": {},
     "output_type": "execute_result"
    }
   ],
   "source": [
    "#When called, the path should refer to one of the mapping files (e.g., \"small_mapping.csv\"). \n",
    "#The function should return a dictionary that maps IDs (as keys) to names (as values), based on the file referenced by path.\n",
    "def get_mapping(path):\n",
    "    # use process_csv to pull out the header and data rows\n",
    "    csv_rows = process_csv(path)\n",
    "    csv_header = csv_rows[0]\n",
    "    csv_data = csv_rows[1:]\n",
    "    \n",
    "    mapping_dictionary = {}\n",
    "    for row in csv_rows:\n",
    "        if row[0] not in mapping_dictionary:\n",
    "            mapping_dictionary[row[0]] = row[1]\n",
    "        else:\n",
    "            continue\n",
    "    return mapping_dictionary\n",
    "#q1\n",
    "#What is returned by your get_mapping(\"small_mapping.csv\") function?\n",
    "mapping = get_mapping(\"small_mapping.csv\")\n",
    "mapping"
   ]
  },
  {
   "cell_type": "code",
   "execution_count": 4,
   "metadata": {
    "execution": {
     "iopub.execute_input": "2021-03-26T01:17:21.943939Z",
     "iopub.status.busy": "2021-03-26T01:17:21.942940Z",
     "iopub.status.idle": "2021-03-26T01:17:21.947939Z",
     "shell.execute_reply": "2021-03-26T01:17:21.948973Z"
    }
   },
   "outputs": [
    {
     "data": {
      "text/plain": [
       "'Sigourney Weaver'"
      ]
     },
     "execution_count": 1,
     "metadata": {},
     "output_type": "execute_result"
    }
   ],
   "source": [
    "#q2\n",
    "#What is the value associated with the key \"nm0000244\"?\n",
    "mapping.get('nm0000244')"
   ]
  },
  {
   "cell_type": "code",
   "execution_count": 5,
   "metadata": {
    "execution": {
     "iopub.execute_input": "2021-03-26T01:17:21.953940Z",
     "iopub.status.busy": "2021-03-26T01:17:21.953940Z",
     "iopub.status.idle": "2021-03-26T01:17:21.958941Z",
     "shell.execute_reply": "2021-03-26T01:17:21.957985Z"
    }
   },
   "outputs": [
    {
     "data": {
      "text/plain": [
       "['Jonathan English',\n",
       " 'Michael Biehn',\n",
       " 'James Cameron',\n",
       " 'Brian Cox',\n",
       " 'Carrie Henn',\n",
       " 'James Purefoy',\n",
       " 'Kate Mara',\n",
       " 'Sigourney Weaver']"
      ]
     },
     "execution_count": 1,
     "metadata": {},
     "output_type": "execute_result"
    }
   ],
   "source": [
    "#q3\n",
    "#What are the values in the mapping (dictionary) associated with keys that begin with \"nm\"?\n",
    "def get_keys_with_prefix(dictionary, key_prefix):\n",
    "    keys = []\n",
    "    for key in dictionary:\n",
    "        if key.startswith(key_prefix):\n",
    "            keys.append(dictionary.get(key))\n",
    "    return keys\n",
    "get_keys_with_prefix(mapping, 'nm')"
   ]
  },
  {
   "cell_type": "code",
   "execution_count": 6,
   "metadata": {
    "execution": {
     "iopub.execute_input": "2021-03-26T01:17:21.963977Z",
     "iopub.status.busy": "2021-03-26T01:17:21.963977Z",
     "iopub.status.idle": "2021-03-26T01:17:21.968973Z",
     "shell.execute_reply": "2021-03-26T01:17:21.967977Z"
    }
   },
   "outputs": [
    {
     "data": {
      "text/plain": [
       "['nm0000116', 'nm0700856']"
      ]
     },
     "execution_count": 1,
     "metadata": {},
     "output_type": "execute_result"
    }
   ],
   "source": [
    "#q4\n",
    "#For people with \"James\" as their first name in the above mapping, which keys do they correspond to?\n",
    "def check_value_first_name(dictionary, key_prefix, fname):\n",
    "    items_lists = []\n",
    "    value_matches = []\n",
    "    for key in dictionary:\n",
    "        split_items = []\n",
    "        split_items.append(key)\n",
    "        split_value = dictionary.get(key).split()\n",
    "        #print(split_value)\n",
    "        split_items.append(split_value[0])\n",
    "        #print(split_items)\n",
    "        if fname in split_items:\n",
    "            #print(item)\n",
    "            #print(item[0])\n",
    "            value_matches.append(split_items[0])\n",
    "        items_lists.append(split_items)\n",
    "    #print(items_lists)\n",
    "    return value_matches\n",
    "check_value_first_name(mapping, 'nm', 'James')"
   ]
  },
  {
   "cell_type": "code",
   "execution_count": 7,
   "metadata": {
    "execution": {
     "iopub.execute_input": "2021-03-26T01:17:21.990965Z",
     "iopub.status.busy": "2021-03-26T01:17:21.987941Z",
     "iopub.status.idle": "2021-03-26T01:17:21.996940Z",
     "shell.execute_reply": "2021-03-26T01:17:21.996940Z"
    }
   },
   "outputs": [
    {
     "data": {
      "text/plain": [
       "[{'title': 'tt0090605',\n",
       "  'year': 1986,\n",
       "  'genres': ['Action', 'Adventure', 'Sci-Fi'],\n",
       "  'duration': 137,\n",
       "  'directors': ['nm0000116'],\n",
       "  'actors': ['nm0000244', 'nm0001343', 'nm0000299'],\n",
       "  'rating': 8.3},\n",
       " {'title': 'tt1233301',\n",
       "  'year': 2011,\n",
       "  'genres': ['Action', 'Drama', 'History'],\n",
       "  'duration': 121,\n",
       "  'directors': ['nm0257646'],\n",
       "  'actors': ['nm0700856', 'nm9696871', 'nm0544718'],\n",
       "  'rating': 6.1}]"
      ]
     },
     "execution_count": 1,
     "metadata": {},
     "output_type": "execute_result"
    }
   ],
   "source": [
    "#Build a function named get_raw_movies that takes the path to a CSV file (e.g., \"small_movies.csv\" or \"movies.csv\") \n",
    "#as the only parameter and returns a list of dictionaries where each dictionary represents a movie\n",
    "def get_raw_movies(path):\n",
    "    # use process_csv to pull out the header and data rows\n",
    "    csv_rows = process_csv(path)\n",
    "    csv_header = csv_rows[0]\n",
    "    csv_data = csv_rows[1:]\n",
    "    \n",
    "    movie_dictionary_list = []\n",
    "    for row in csv_data:\n",
    "        column_count = 0\n",
    "        movie_dictionary = {}\n",
    "        for item in row:\n",
    "            movie_dictionary[csv_header[column_count]] = item\n",
    "            #print(movie_dictionary.get('year'))\n",
    "            column_count += 1\n",
    "        movie_dictionary.update({'year' : int(movie_dictionary.get('year'))})\n",
    "        movie_dictionary.update({'duration' : int(movie_dictionary.get('duration'))})\n",
    "        movie_dictionary.update({'rating' : float(movie_dictionary.get('rating'))})\n",
    "        genre_list = list(movie_dictionary.get('genres').split(\", \"))\n",
    "        movie_dictionary.update({'genres' : genre_list})\n",
    "        director_list = list(movie_dictionary.get('directors').split(\", \"))\n",
    "        movie_dictionary.update({'directors' : director_list})\n",
    "        actor_list = list(movie_dictionary.get('actors').split(\", \"))\n",
    "        movie_dictionary.update({'actors' : actor_list})\n",
    "        #print(movie_dictionary)\n",
    "        movie_dictionary_list.append(movie_dictionary)\n",
    "    return movie_dictionary_list\n",
    "#q5\n",
    "#What does get_raw_movies(\"small_movies.csv\") return?\n",
    "movie_dictionaries = get_raw_movies(\"small_movies.csv\")\n",
    "movie_dictionaries"
   ]
  },
  {
   "cell_type": "code",
   "execution_count": 8,
   "metadata": {
    "execution": {
     "iopub.execute_input": "2021-03-26T01:17:22.000942Z",
     "iopub.status.busy": "2021-03-26T01:17:22.000942Z",
     "iopub.status.idle": "2021-03-26T01:17:22.005973Z",
     "shell.execute_reply": "2021-03-26T01:17:22.005973Z"
    }
   },
   "outputs": [
    {
     "data": {
      "text/plain": [
       "3"
      ]
     },
     "execution_count": 1,
     "metadata": {},
     "output_type": "execute_result"
    }
   ],
   "source": [
    "#q6\n",
    "#How many actors does the movie at index 1 have?\n",
    "len(movie_dictionaries[1].get('actors'))"
   ]
  },
  {
   "cell_type": "code",
   "execution_count": 9,
   "metadata": {
    "execution": {
     "iopub.execute_input": "2021-03-26T01:17:22.009940Z",
     "iopub.status.busy": "2021-03-26T01:17:22.008941Z",
     "iopub.status.idle": "2021-03-26T01:17:22.012941Z",
     "shell.execute_reply": "2021-03-26T01:17:22.011978Z"
    }
   },
   "outputs": [
    {
     "data": {
      "text/plain": [
       "'nm0000244'"
      ]
     },
     "execution_count": 1,
     "metadata": {},
     "output_type": "execute_result"
    }
   ],
   "source": [
    "#q7\n",
    "#What is the ID of the first actor listed for the movie at index 0?\n",
    "movie_dictionaries[0].get('actors')[0]"
   ]
  },
  {
   "cell_type": "code",
   "execution_count": 10,
   "metadata": {
    "execution": {
     "iopub.execute_input": "2021-03-26T01:17:22.022940Z",
     "iopub.status.busy": "2021-03-26T01:17:22.021941Z",
     "iopub.status.idle": "2021-03-26T01:17:22.027968Z",
     "shell.execute_reply": "2021-03-26T01:17:22.028975Z"
    }
   },
   "outputs": [
    {
     "data": {
      "text/plain": [
       "[{'title': 'Aliens',\n",
       "  'year': 1986,\n",
       "  'genres': ['Action', 'Adventure', 'Sci-Fi'],\n",
       "  'duration': 137,\n",
       "  'directors': ['James Cameron'],\n",
       "  'actors': ['Sigourney Weaver', 'Carrie Henn', 'Michael Biehn'],\n",
       "  'rating': 8.3},\n",
       " {'title': 'Ironclad',\n",
       "  'year': 2011,\n",
       "  'genres': ['Action', 'Drama', 'History'],\n",
       "  'duration': 121,\n",
       "  'directors': ['Jonathan English'],\n",
       "  'actors': ['James Purefoy', 'Brian Cox', 'Kate Mara'],\n",
       "  'rating': 6.1}]"
      ]
     },
     "execution_count": 1,
     "metadata": {},
     "output_type": "execute_result"
    }
   ],
   "source": [
    "#You may have noticed that actors, directors, and title are represented by IDs instead of actual names. \n",
    "#Write a function named get_movies(movies_path, mapping_path) that loads data from the movies_path file \n",
    "#using get_raw_movies and converts the IDs to names using a mapping based on the mapping_path file, \n",
    "#which you should load using your get_mapping function.\n",
    "def get_movies(movies_path, mapping_path):\n",
    "    # use process_csv to pull out the header and data rows\n",
    "    movies_csv_rows = process_csv(movies_path)\n",
    "    movies_csv_header = movies_csv_rows[0]\n",
    "    movies_csv_data = movies_csv_rows[1:]\n",
    "    \n",
    "    # use process_csv to pull out the header and data rows\n",
    "    mapping_csv_rows = process_csv(mapping_path)\n",
    "    mapping_csv_header = mapping_csv_rows[0]\n",
    "    mapping_csv_data = mapping_csv_rows[1:]\n",
    "    \n",
    "    mapping_key = get_mapping(mapping_path)\n",
    "    \n",
    "    movie_dictionary_list = []\n",
    "    for row in movies_csv_data:\n",
    "        column_count = 0\n",
    "        movie_dictionary = {}\n",
    "        #print(row)\n",
    "        for item in row:\n",
    "            movie_dictionary[movies_csv_header[column_count]] = item\n",
    "            #print(item, movies_csv_header[column_count], movie_dictionary.get('year'))\n",
    "            column_count += 1\n",
    "            \n",
    "        #build inital dictionary\n",
    "        movie_dictionary.update({'year' : int(movie_dictionary.get('year'))})\n",
    "        movie_dictionary.update({'duration' : int(movie_dictionary.get('duration'))})\n",
    "        movie_dictionary.update({'rating' : float(movie_dictionary.get('rating'))})\n",
    "        genre_list = list(movie_dictionary.get('genres').split(\", \"))\n",
    "        movie_dictionary.update({'genres' : genre_list})\n",
    "        director_list = list(movie_dictionary.get('directors').split(\", \"))\n",
    "        actor_list = list(movie_dictionary.get('actors').split(\", \"))\n",
    "        \n",
    "        #title conversion\n",
    "        movie_dictionary.update({'title' : mapping_key.get(movie_dictionary.get('title'))})\n",
    "        \n",
    "        #lookup director(s) names\n",
    "        director_name_list = []\n",
    "        for item in director_list:\n",
    "            item = item.replace(item, mapping_key.get(item))\n",
    "            director_name_list.append(item)\n",
    "        movie_dictionary.update({'directors' : director_name_list})\n",
    "        \n",
    "        #lookup actor(s) names\n",
    "        actor_name_list = []\n",
    "        for item in actor_list:\n",
    "            item = item.replace(item, mapping_key.get(item))\n",
    "            actor_name_list.append(item)\n",
    "        movie_dictionary.update({'actors' : actor_name_list})\n",
    "        \n",
    "        movie_dictionary_list.append(movie_dictionary)\n",
    "    #print(mapping_key)\n",
    "    return movie_dictionary_list\n",
    "#q8\n",
    "#What is small_data?\n",
    "small_data = get_movies(\"small_movies.csv\", \"small_mapping.csv\")\n",
    "small_data"
   ]
  },
  {
   "cell_type": "code",
   "execution_count": 11,
   "metadata": {
    "execution": {
     "iopub.execute_input": "2021-03-26T01:17:22.032941Z",
     "iopub.status.busy": "2021-03-26T01:17:22.031944Z",
     "iopub.status.idle": "2021-03-26T01:17:22.035942Z",
     "shell.execute_reply": "2021-03-26T01:17:22.035942Z"
    }
   },
   "outputs": [
    {
     "data": {
      "text/plain": [
       "'Ironclad'"
      ]
     },
     "execution_count": 1,
     "metadata": {},
     "output_type": "execute_result"
    }
   ],
   "source": [
    "#q9\n",
    "#What is small_data[1][\"title\"]?\n",
    "small_data[1][\"title\"]"
   ]
  },
  {
   "cell_type": "code",
   "execution_count": 12,
   "metadata": {
    "execution": {
     "iopub.execute_input": "2021-03-26T01:17:22.039939Z",
     "iopub.status.busy": "2021-03-26T01:17:22.039939Z",
     "iopub.status.idle": "2021-03-26T01:17:22.043942Z",
     "shell.execute_reply": "2021-03-26T01:17:22.042977Z"
    }
   },
   "outputs": [
    {
     "data": {
      "text/plain": [
       "['Sigourney Weaver', 'Carrie Henn', 'Michael Biehn']"
      ]
     },
     "execution_count": 1,
     "metadata": {},
     "output_type": "execute_result"
    }
   ],
   "source": [
    "#q10\n",
    "#What is small_data[0][\"actors\"]?\n",
    "small_data[0][\"actors\"]"
   ]
  },
  {
   "cell_type": "code",
   "execution_count": 13,
   "metadata": {
    "execution": {
     "iopub.execute_input": "2021-03-26T01:17:22.047939Z",
     "iopub.status.busy": "2021-03-26T01:17:22.046941Z",
     "iopub.status.idle": "2021-03-26T01:17:22.050975Z",
     "shell.execute_reply": "2021-03-26T01:17:22.049975Z"
    }
   },
   "outputs": [
    {
     "data": {
      "text/plain": [
       "['Jonathan English']"
      ]
     },
     "execution_count": 1,
     "metadata": {},
     "output_type": "execute_result"
    }
   ],
   "source": [
    "#q11\n",
    "#What is small_data[-1][\"directors\"]?\n",
    "small_data[-1][\"directors\"]"
   ]
  },
  {
   "cell_type": "code",
   "execution_count": 14,
   "metadata": {
    "execution": {
     "iopub.execute_input": "2021-03-26T01:17:22.054966Z",
     "iopub.status.busy": "2021-03-26T01:17:22.053942Z",
     "iopub.status.idle": "2021-03-26T01:17:22.780959Z",
     "shell.execute_reply": "2021-03-26T01:17:22.780959Z"
    },
    "scrolled": true
   },
   "outputs": [
    {
     "data": {
      "text/plain": [
       "[{'title': 'Evolution',\n",
       "  'year': 2001,\n",
       "  'genres': ['Comedy', 'Sci-Fi'],\n",
       "  'duration': 101,\n",
       "  'directors': ['Ivan Reitman'],\n",
       "  'actors': ['David Duchovny', 'Julianne Moore'],\n",
       "  'rating': 6.1},\n",
       " {'title': \"Everybody's Fine\",\n",
       "  'year': 2009,\n",
       "  'genres': ['Drama'],\n",
       "  'duration': 100,\n",
       "  'directors': ['Kirk Jones'],\n",
       "  'actors': ['Robert De Niro',\n",
       "   'Drew Barrymore',\n",
       "   'Kate Beckinsale',\n",
       "   'Sam Rockwell',\n",
       "   'Lucian Maisel'],\n",
       "  'rating': 7.1},\n",
       " {'title': 'Tales of Poe',\n",
       "  'year': 2014,\n",
       "  'genres': ['Fantasy', 'Horror', 'Thriller'],\n",
       "  'duration': 120,\n",
       "  'directors': ['Bart Mastronardi', 'Alan Rowe Kelly'],\n",
       "  'actors': ['Caroline Williams', 'Debbie Rochon', 'Adrienne King'],\n",
       "  'rating': 4.1},\n",
       " {'title': 'Ghostbusters II',\n",
       "  'year': 1989,\n",
       "  'genres': ['Action', 'Comedy', 'Fantasy'],\n",
       "  'duration': 108,\n",
       "  'directors': ['Ivan Reitman'],\n",
       "  'actors': ['Bill Murray', 'Dan Aykroyd', 'Sigourney Weaver'],\n",
       "  'rating': 6.6},\n",
       " {'title': 'Inevitable Grace',\n",
       "  'year': 1994,\n",
       "  'genres': ['Thriller'],\n",
       "  'duration': 103,\n",
       "  'directors': ['Alex Monty Canawati'],\n",
       "  'actors': ['Maxwell Caulfield', 'Stephanie Knights', 'Jennifer Nicholson'],\n",
       "  'rating': 4.8},\n",
       " {'title': 'Heavy Times',\n",
       "  'year': 2010,\n",
       "  'genres': ['Comedy'],\n",
       "  'duration': 90,\n",
       "  'directors': ['Benjamin Mark', 'Ryan McKenna'],\n",
       "  'actors': ['Melina Bartzokis', 'Jay Brunner', 'Brian D. Evans'],\n",
       "  'rating': 4.0}]"
      ]
     },
     "execution_count": 1,
     "metadata": {},
     "output_type": "execute_result"
    }
   ],
   "source": [
    "movies = get_movies(\"movies.csv\", \"mapping.csv\")\n",
    "#q12\n",
    "#What are the 500th to 505th (inclusive) rows in movies?\n",
    "movies[499:505]"
   ]
  },
  {
   "cell_type": "code",
   "execution_count": 15,
   "metadata": {
    "execution": {
     "iopub.execute_input": "2021-03-26T01:17:22.785965Z",
     "iopub.status.busy": "2021-03-26T01:17:22.785965Z",
     "iopub.status.idle": "2021-03-26T01:17:22.789960Z",
     "shell.execute_reply": "2021-03-26T01:17:22.789960Z"
    }
   },
   "outputs": [
    {
     "data": {
      "text/plain": [
       "[{'title': 'Front Cover',\n",
       "  'year': 2015,\n",
       "  'genres': ['Comedy', 'Drama', 'Romance'],\n",
       "  'duration': 87,\n",
       "  'directors': ['Ray Yeung'],\n",
       "  'actors': ['Jake Choi', 'James Chen', 'Jennifer Neala Page'],\n",
       "  'rating': 6.3},\n",
       " {'title': 'The Ape',\n",
       "  'year': 2005,\n",
       "  'genres': ['Comedy', 'Drama'],\n",
       "  'duration': 92,\n",
       "  'directors': ['James Franco'],\n",
       "  'actors': ['James Franco', 'Brian Lally', 'Allison Bibicoff'],\n",
       "  'rating': 4.5},\n",
       " {'title': 'Eastside',\n",
       "  'year': 1999,\n",
       "  'genres': ['Drama', 'Crime'],\n",
       "  'duration': 94,\n",
       "  'directors': ['Lorena David'],\n",
       "  'actors': ['Mario Lopez', 'Elizabeth Bogush', 'Mark D. Espinoza'],\n",
       "  'rating': 4.4}]"
      ]
     },
     "execution_count": 1,
     "metadata": {},
     "output_type": "execute_result"
    }
   ],
   "source": [
    "#q13\n",
    "#What are the last 3 rows in movies?\n",
    "movies[len(movies)-3:len(movies)]"
   ]
  },
  {
   "cell_type": "code",
   "execution_count": 16,
   "metadata": {
    "execution": {
     "iopub.execute_input": "2021-03-26T01:17:22.793958Z",
     "iopub.status.busy": "2021-03-26T01:17:22.793958Z",
     "iopub.status.idle": "2021-03-26T01:17:22.796960Z",
     "shell.execute_reply": "2021-03-26T01:17:22.795958Z"
    }
   },
   "outputs": [],
   "source": [
    "# you are *not* allowed to change this function\n",
    "def filter_movies_by_year(movies, year):\n",
    "    i = 0\n",
    "    while i < len(movies):\n",
    "        if movies[i][\"year\"] != year:\n",
    "            movies.pop(i)\n",
    "        else:\n",
    "            i += 1\n",
    "    return movies"
   ]
  },
  {
   "cell_type": "code",
   "execution_count": 17,
   "metadata": {
    "execution": {
     "iopub.execute_input": "2021-03-26T01:17:22.808004Z",
     "iopub.status.busy": "2021-03-26T01:17:22.803958Z",
     "iopub.status.idle": "2021-03-26T01:17:22.892960Z",
     "shell.execute_reply": "2021-03-26T01:17:22.891985Z"
    }
   },
   "outputs": [
    {
     "data": {
      "text/plain": [
       "849"
      ]
     },
     "execution_count": 1,
     "metadata": {},
     "output_type": "execute_result"
    }
   ],
   "source": [
    "#q14\n",
    "#What are the total number of movies from 2019?\n",
    "len(filter_movies_by_year(movies.copy(), 2019))"
   ]
  },
  {
   "cell_type": "code",
   "execution_count": 18,
   "metadata": {
    "execution": {
     "iopub.execute_input": "2021-03-26T01:17:22.907002Z",
     "iopub.status.busy": "2021-03-26T01:17:22.901960Z",
     "iopub.status.idle": "2021-03-26T01:17:22.994997Z",
     "shell.execute_reply": "2021-03-26T01:17:22.994997Z"
    }
   },
   "outputs": [
    {
     "data": {
      "text/plain": [
       "[{'title': 'Oh! Calcutta!',\n",
       "  'year': 1972,\n",
       "  'genres': ['Comedy', 'Musical'],\n",
       "  'duration': 123,\n",
       "  'directors': ['Jacques Levy'],\n",
       "  'actors': ['Raina Barrett', 'Mark Dempsey', 'Samantha Harper'],\n",
       "  'rating': 5.3},\n",
       " {'title': 'The Cowboys',\n",
       "  'year': 1972,\n",
       "  'genres': ['Adventure', 'Drama', 'Western'],\n",
       "  'duration': 134,\n",
       "  'directors': ['Mark Rydell'],\n",
       "  'actors': ['John Wayne', 'Roscoe Lee Browne', 'Bruce Dern'],\n",
       "  'rating': 7.4},\n",
       " {'title': 'Sleuth',\n",
       "  'year': 1972,\n",
       "  'genres': ['Mystery', 'Thriller'],\n",
       "  'duration': 138,\n",
       "  'directors': ['Joseph L. Mankiewicz'],\n",
       "  'actors': ['Laurence Olivier', 'Michael Caine', 'Alec Cawthorne'],\n",
       "  'rating': 8.0},\n",
       " {'title': 'The Great Waltz',\n",
       "  'year': 1972,\n",
       "  'genres': ['Biography', 'Drama', 'Music'],\n",
       "  'duration': 135,\n",
       "  'directors': ['Andrew L. Stone'],\n",
       "  'actors': ['Horst Buchholz',\n",
       "   'Mary Costa',\n",
       "   'Nigel Patrick',\n",
       "   'Yvonne Mitchell'],\n",
       "  'rating': 5.2},\n",
       " {'title': 'Bluebeard',\n",
       "  'year': 1972,\n",
       "  'genres': ['Crime', 'Drama', 'Thriller'],\n",
       "  'duration': 125,\n",
       "  'directors': ['Edward Dmytryk'],\n",
       "  'actors': ['Richard Burton', 'Raquel Welch', 'Virna Lisi'],\n",
       "  'rating': 5.7},\n",
       " {'title': 'Cabaret',\n",
       "  'year': 1972,\n",
       "  'genres': ['Drama', 'Musical'],\n",
       "  'duration': 124,\n",
       "  'directors': ['Bob Fosse'],\n",
       "  'actors': ['Liza Minnelli', 'Michael York', 'Helmut Griem', 'Joel Grey'],\n",
       "  'rating': 7.8},\n",
       " {'title': 'Man of La Mancha',\n",
       "  'year': 1972,\n",
       "  'genres': ['Drama', 'Fantasy', 'Musical'],\n",
       "  'duration': 132,\n",
       "  'directors': ['Arthur Hiller'],\n",
       "  'actors': [\"Peter O'Toole\", 'Sophia Loren', 'James Coco'],\n",
       "  'rating': 6.7},\n",
       " {'title': 'The Godfather',\n",
       "  'year': 1972,\n",
       "  'genres': ['Crime', 'Drama'],\n",
       "  'duration': 175,\n",
       "  'directors': ['Francis Ford Coppola'],\n",
       "  'actors': ['Marlon Brando', 'Al Pacino', 'James Caan'],\n",
       "  'rating': 9.2},\n",
       " {'title': 'The Getaway',\n",
       "  'year': 1972,\n",
       "  'genres': ['Action', 'Crime', 'Thriller'],\n",
       "  'duration': 123,\n",
       "  'directors': ['Sam Peckinpah'],\n",
       "  'actors': ['Steve McQueen',\n",
       "   'Ali MacGraw',\n",
       "   'Ben Johnson',\n",
       "   'Sally Struthers',\n",
       "   'Al Lettieri'],\n",
       "  'rating': 7.4},\n",
       " {'title': 'Lady Sings the Blues',\n",
       "  'year': 1972,\n",
       "  'genres': ['Biography', 'Drama', 'Music'],\n",
       "  'duration': 144,\n",
       "  'directors': ['Sidney J. Furie'],\n",
       "  'actors': ['Diana Ross', 'Billy Dee Williams', 'Richard Pryor'],\n",
       "  'rating': 7.1},\n",
       " {'title': 'Avanti!',\n",
       "  'year': 1972,\n",
       "  'genres': ['Comedy', 'Romance'],\n",
       "  'duration': 144,\n",
       "  'directors': ['Billy Wilder'],\n",
       "  'actors': ['Jack Lemmon', 'Juliet Mills'],\n",
       "  'rating': 7.2},\n",
       " {'title': 'Hungry Wives',\n",
       "  'year': 1972,\n",
       "  'genres': ['Drama'],\n",
       "  'duration': 130,\n",
       "  'directors': ['George A. Romero'],\n",
       "  'actors': ['Jan White', 'Raymond Laine', 'Ann Muffly'],\n",
       "  'rating': 5.5},\n",
       " {'title': '1776',\n",
       "  'year': 1972,\n",
       "  'genres': ['Drama', 'Family', 'History'],\n",
       "  'duration': 141,\n",
       "  'directors': ['Peter H. Hunt'],\n",
       "  'actors': ['William Daniels',\n",
       "   'Howard Da Silva',\n",
       "   'Ken Howard',\n",
       "   'Donald Madden'],\n",
       "  'rating': 7.6}]"
      ]
     },
     "execution_count": 1,
     "metadata": {},
     "output_type": "execute_result"
    }
   ],
   "source": [
    "#q15\n",
    "#What are the movies from 1972 with duration greater than 120 minutes?\n",
    "list(filter(lambda movies: movies['duration'] > 120, filter_movies_by_year(movies.copy(), 1972)))"
   ]
  },
  {
   "cell_type": "code",
   "execution_count": 19,
   "metadata": {
    "execution": {
     "iopub.execute_input": "2021-03-26T01:17:23.016960Z",
     "iopub.status.busy": "2021-03-26T01:17:23.013000Z",
     "iopub.status.idle": "2021-03-26T01:17:23.021993Z",
     "shell.execute_reply": "2021-03-26T01:17:23.020962Z"
    }
   },
   "outputs": [
    {
     "data": {
      "text/plain": [
       "24"
      ]
     },
     "execution_count": 1,
     "metadata": {},
     "output_type": "execute_result"
    }
   ],
   "source": [
    "#q16\n",
    "#How many unique genres are there in the dataset?\n",
    "def get_unique_values(value):\n",
    "    result = list(set(val for dic in movies.copy() for val in dic.get(value)))\n",
    "    return len(result)\n",
    "get_unique_values('genres')"
   ]
  },
  {
   "cell_type": "code",
   "execution_count": 20,
   "metadata": {
    "execution": {
     "iopub.execute_input": "2021-03-26T01:17:23.034961Z",
     "iopub.status.busy": "2021-03-26T01:17:23.029961Z",
     "iopub.status.idle": "2021-03-26T01:17:23.062961Z",
     "shell.execute_reply": "2021-03-26T01:17:23.061960Z"
    }
   },
   "outputs": [
    {
     "data": {
      "text/plain": [
       "38756"
      ]
     },
     "execution_count": 1,
     "metadata": {},
     "output_type": "execute_result"
    }
   ],
   "source": [
    "#q17\n",
    "#How many unique actor names are there in the dataset?\n",
    "get_unique_values('actors')"
   ]
  },
  {
   "cell_type": "code",
   "execution_count": 21,
   "metadata": {
    "execution": {
     "iopub.execute_input": "2021-03-26T01:17:23.082999Z",
     "iopub.status.busy": "2021-03-26T01:17:23.071994Z",
     "iopub.status.idle": "2021-03-26T01:17:23.088994Z",
     "shell.execute_reply": "2021-03-26T01:17:23.088994Z"
    }
   },
   "outputs": [
    {
     "data": {
      "text/plain": [
       "14233"
      ]
     },
     "execution_count": 1,
     "metadata": {},
     "output_type": "execute_result"
    }
   ],
   "source": [
    "#q18\n",
    "#How many unique director names are there in the dataset?\n",
    "get_unique_values('directors')"
   ]
  },
  {
   "cell_type": "code",
   "execution_count": 22,
   "metadata": {
    "execution": {
     "iopub.execute_input": "2021-03-26T01:17:23.106962Z",
     "iopub.status.busy": "2021-03-26T01:17:23.096962Z",
     "iopub.status.idle": "2021-03-26T01:17:23.110960Z",
     "shell.execute_reply": "2021-03-26T01:17:23.109960Z"
    }
   },
   "outputs": [
    {
     "data": {
      "text/plain": [
       "94.64240831369706"
      ]
     },
     "execution_count": 1,
     "metadata": {},
     "output_type": "execute_result"
    }
   ],
   "source": [
    "#q19\n",
    "#What is the average duration for all movies?\n",
    "sum(list(sub['duration'] for sub in movies.copy()))/len(list(sub['duration'] for sub in movies.copy()))"
   ]
  },
  {
   "cell_type": "code",
   "execution_count": 23,
   "metadata": {
    "execution": {
     "iopub.execute_input": "2021-03-26T01:17:23.124994Z",
     "iopub.status.busy": "2021-03-26T01:17:23.118962Z",
     "iopub.status.idle": "2021-03-26T01:17:23.151022Z",
     "shell.execute_reply": "2021-03-26T01:17:23.151022Z"
    }
   },
   "outputs": [
    {
     "data": {
      "text/plain": [
       "[{'title': 'The Tourist',\n",
       "  'year': 2010,\n",
       "  'genres': ['Action', 'Adventure', 'Crime'],\n",
       "  'duration': 103,\n",
       "  'directors': ['Florian Henckel von Donnersmarck'],\n",
       "  'actors': ['Johnny Depp', 'Angelina Jolie', 'Paul Bettany'],\n",
       "  'rating': 6.0}]"
      ]
     },
     "execution_count": 1,
     "metadata": {},
     "output_type": "execute_result"
    }
   ],
   "source": [
    "#q20\n",
    "#List the movies directed by the director with the longest name in the dataset.\n",
    "longest_director_name = max(list(set(val for dic in movies.copy() for val in dic.get('directors'))), key = len)\n",
    "list(filter(lambda movies: movies['directors'] == [longest_director_name], movies.copy()))"
   ]
  },
  {
   "cell_type": "code",
   "execution_count": null,
   "metadata": {},
   "outputs": [],
   "source": []
  }
 ],
 "metadata": {
  "kernelspec": {
   "display_name": "Python 3",
   "language": "python",
   "name": "python3"
  },
  "language_info": {
   "codemirror_mode": {
    "name": "ipython",
    "version": 3
   },
   "file_extension": ".py",
   "mimetype": "text/x-python",
   "name": "python",
   "nbconvert_exporter": "python",
   "pygments_lexer": "ipython3",
   "version": "3.8.5"
  }
 },
 "nbformat": 4,
 "nbformat_minor": 4
}
