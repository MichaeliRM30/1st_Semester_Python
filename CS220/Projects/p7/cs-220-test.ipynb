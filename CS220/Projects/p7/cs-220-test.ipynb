{
 "cells": [
  {
   "cell_type": "code",
   "execution_count": 1,
   "metadata": {
    "execution": {
     "iopub.execute_input": "2021-03-18T22:40:23.854400Z",
     "iopub.status.busy": "2021-03-18T22:40:23.853399Z",
     "iopub.status.idle": "2021-03-18T22:40:23.856399Z",
     "shell.execute_reply": "2021-03-18T22:40:23.855364Z"
    }
   },
   "outputs": [],
   "source": [
    "# project: p7\n",
    "# submitter: RMM052, RMichaelis2\n",
    "# partner: mprine2\n",
    "# hours: ????"
   ]
  },
  {
   "cell_type": "code",
   "execution_count": 2,
   "metadata": {
    "execution": {
     "iopub.execute_input": "2021-03-18T22:40:23.863367Z",
     "iopub.status.busy": "2021-03-18T22:40:23.863367Z",
     "iopub.status.idle": "2021-03-18T22:40:23.874365Z",
     "shell.execute_reply": "2021-03-18T22:40:23.875432Z"
    }
   },
   "outputs": [],
   "source": [
    "import csv\n",
    "\n",
    "# copied from https://automatetheboringstuff.com/chapter14/\n",
    "def process_csv(filename):\n",
    "    exampleFile = open(filename, encoding=\"utf-8\")\n",
    "    exampleReader = csv.reader(exampleFile)\n",
    "    exampleData = list(exampleReader)\n",
    "    exampleFile.close()\n",
    "    return exampleData\n",
    "\n",
    "# use process_csv to pull out the header and data rows\n",
    "csv_rows = process_csv(\"covid19.csv\")\n",
    "csv_header = csv_rows[0]\n",
    "csv_data = csv_rows[1:]\n",
    "\n",
    "# convert str to float/int types in columns having numerical values.\n",
    "for row in csv_data:\n",
    "    for idx in [3, 4, 5, 7, 8, 9, 10]:\n",
    "        # Fill empty cell with 0 values.\n",
    "        if row[idx] == '':\n",
    "            row[idx] = 0\n",
    "        if idx in [3, 4, 5, 7]:\n",
    "            row[idx] = int(row[idx])\n",
    "        elif idx in [8, 9, 10]:\n",
    "            row[idx] = float(row[idx])"
   ]
  },
  {
   "cell_type": "code",
   "execution_count": 3,
   "metadata": {
    "execution": {
     "iopub.execute_input": "2021-03-18T22:40:23.886397Z",
     "iopub.status.busy": "2021-03-18T22:40:23.883366Z",
     "iopub.status.idle": "2021-03-18T22:40:23.892364Z",
     "shell.execute_reply": "2021-03-18T22:40:23.892364Z"
    }
   },
   "outputs": [
    {
     "data": {
      "text/plain": [
       "'Norway'"
      ]
     },
     "execution_count": 1,
     "metadata": {},
     "output_type": "execute_result"
    }
   ],
   "source": [
    "#q1\n",
    "#Which country has the highest human_development_index?\n",
    "def highest_in_category(category, country_or_continent = 'country'):\n",
    "    highest_name = ''\n",
    "    highest_value = 0\n",
    "    category_column = 0\n",
    "    column_count = 0\n",
    "    #print(csv_header)\n",
    "    for item in csv_header:\n",
    "        #print(column_count, item)\n",
    "        if item == category:\n",
    "            category_column = column_count\n",
    "        column_count += 1\n",
    "    #print(category_column)\n",
    "    for row in csv_data:\n",
    "        #print(type(row[10]), type(highest_value))\n",
    "        #print(row[0], highest_value)\n",
    "        if row[category_column] == '':\n",
    "            continue\n",
    "        if float(row[category_column]) > highest_value:\n",
    "            highest_value = float(row[category_column])\n",
    "            if country_or_continent == 'country':\n",
    "                highest_name = row[0]\n",
    "            elif country_or_continent == 'continent':\n",
    "                highest_name = row[1]\n",
    "    return highest_name\n",
    "highest_in_category('human_development_index')"
   ]
  },
  {
   "cell_type": "code",
   "execution_count": 4,
   "metadata": {
    "execution": {
     "iopub.execute_input": "2021-03-18T22:40:23.896365Z",
     "iopub.status.busy": "2021-03-18T22:40:23.896365Z",
     "iopub.status.idle": "2021-03-18T22:40:23.901398Z",
     "shell.execute_reply": "2021-03-18T22:40:23.900424Z"
    }
   },
   "outputs": [
    {
     "data": {
      "text/plain": [
       "'Qatar'"
      ]
     },
     "execution_count": 1,
     "metadata": {},
     "output_type": "execute_result"
    }
   ],
   "source": [
    "#q2\n",
    "#Which country has the highest gdp_per_capita?\n",
    "highest_in_category('gdp_per_capita')"
   ]
  },
  {
   "cell_type": "code",
   "execution_count": 5,
   "metadata": {
    "execution": {
     "iopub.execute_input": "2021-03-18T22:40:23.905366Z",
     "iopub.status.busy": "2021-03-18T22:40:23.905366Z",
     "iopub.status.idle": "2021-03-18T22:40:23.909390Z",
     "shell.execute_reply": "2021-03-18T22:40:23.910405Z"
    }
   },
   "outputs": [
    {
     "data": {
      "text/plain": [
       "'Europe'"
      ]
     },
     "execution_count": 1,
     "metadata": {},
     "output_type": "execute_result"
    }
   ],
   "source": [
    "#q3\n",
    "#Which continent contains the country with the highest population_density?\n",
    "highest_in_category('population_density', 'continent')"
   ]
  },
  {
   "cell_type": "code",
   "execution_count": 6,
   "metadata": {
    "execution": {
     "iopub.execute_input": "2021-03-18T22:40:23.914364Z",
     "iopub.status.busy": "2021-03-18T22:40:23.914364Z",
     "iopub.status.idle": "2021-03-18T22:40:23.918412Z",
     "shell.execute_reply": "2021-03-18T22:40:23.919399Z"
    }
   },
   "outputs": [],
   "source": [
    "def get_column(col_name):\n",
    "    col_count = 0\n",
    "    col_contents = []\n",
    "    for item in csv_header:\n",
    "        if item == col_name:\n",
    "            category_column = col_count\n",
    "        col_count += 1\n",
    "    for lines in csv_data:\n",
    "        if lines == ' ':\n",
    "            continue\n",
    "        col_contents.append(lines[category_column])\n",
    "    return col_contents\n",
    "#get_column('continent')"
   ]
  },
  {
   "cell_type": "code",
   "execution_count": 7,
   "metadata": {
    "execution": {
     "iopub.execute_input": "2021-03-18T22:40:23.924365Z",
     "iopub.status.busy": "2021-03-18T22:40:23.923419Z",
     "iopub.status.idle": "2021-03-18T22:40:23.929366Z",
     "shell.execute_reply": "2021-03-18T22:40:23.929366Z"
    }
   },
   "outputs": [
    {
     "data": {
      "text/plain": [
       "196"
      ]
     },
     "execution_count": 1,
     "metadata": {},
     "output_type": "execute_result"
    }
   ],
   "source": [
    "#q4 \n",
    "#How many UNIQUE countries are listed in the dataset?\n",
    "unique_countries = set(get_column('country'))\n",
    "len(unique_countries)"
   ]
  },
  {
   "cell_type": "code",
   "execution_count": 8,
   "metadata": {
    "execution": {
     "iopub.execute_input": "2021-03-18T22:40:23.935367Z",
     "iopub.status.busy": "2021-03-18T22:40:23.934366Z",
     "iopub.status.idle": "2021-03-18T22:40:23.938365Z",
     "shell.execute_reply": "2021-03-18T22:40:23.938365Z"
    }
   },
   "outputs": [
    {
     "data": {
      "text/plain": [
       "['2021-02-12',\n",
       " '2021-02-11',\n",
       " '2021-02-10',\n",
       " '2021-02-14',\n",
       " '2021-02-15',\n",
       " '2021-02-16',\n",
       " '2021-02-13']"
      ]
     },
     "execution_count": 1,
     "metadata": {},
     "output_type": "execute_result"
    }
   ],
   "source": [
    "#q5\n",
    "#What are the different dates for which we have data in the dataset? You should return a list (order of the values in the list doesn't matter).\n",
    "def get_unique_dates():\n",
    "    unique_dates = list(set(get_column('date')))\n",
    "    return unique_dates\n",
    "get_unique_dates()"
   ]
  },
  {
   "cell_type": "code",
   "execution_count": 9,
   "metadata": {
    "execution": {
     "iopub.execute_input": "2021-03-18T22:40:23.943365Z",
     "iopub.status.busy": "2021-03-18T22:40:23.941364Z",
     "iopub.status.idle": "2021-03-18T22:40:23.947395Z",
     "shell.execute_reply": "2021-03-18T22:40:23.946364Z"
    }
   },
   "outputs": [
    {
     "data": {
      "text/plain": [
       "27684220"
      ]
     },
     "execution_count": 1,
     "metadata": {},
     "output_type": "execute_result"
    }
   ],
   "source": [
    "#q6\n",
    "#How many new vaccinations were done across the whole world on the dates included in the dataset (i.e. 2021-02-10 to 2021-02-16)?\n",
    "def get_new_vaccinations():\n",
    "    new_vaccinations_sum = sum(list(map(int, get_column('new_vaccinations'))))\n",
    "    return new_vaccinations_sum\n",
    "get_new_vaccinations()"
   ]
  },
  {
   "cell_type": "code",
   "execution_count": 10,
   "metadata": {
    "execution": {
     "iopub.execute_input": "2021-03-18T22:40:23.958369Z",
     "iopub.status.busy": "2021-03-18T22:40:23.957364Z",
     "iopub.status.idle": "2021-03-18T22:40:23.962365Z",
     "shell.execute_reply": "2021-03-18T22:40:23.962365Z"
    }
   },
   "outputs": [
    {
     "data": {
      "text/plain": [
       "[1439323774.0, 1380004385.0, 331002647.0, 273523621.0, 220892331.0]"
      ]
     },
     "execution_count": 1,
     "metadata": {},
     "output_type": "execute_result"
    }
   ],
   "source": [
    "#q7\n",
    "#What are the population counts of top 5 populous countries (Having the highest population)?\n",
    "def top_in_category(category, number = 0):\n",
    "    highest_list = {}\n",
    "    sorted_highest_list = {}\n",
    "    category_column = 0\n",
    "    column_count = 0\n",
    "    row_count = 0\n",
    "    for item in csv_header:\n",
    "        if item == category:\n",
    "            category_column = column_count\n",
    "        column_count += 1\n",
    "    for row in csv_data:\n",
    "        if row[category_column] == '':\n",
    "            continue\n",
    "        highest_list[row[0]] = float(row[category_column])\n",
    "    #print(highest_list)\n",
    "    sorted_keys = sorted(highest_list, key=highest_list.get, reverse=True)[:number]\n",
    "    for i in sorted_keys:\n",
    "        sorted_highest_list[i] = highest_list[i]\n",
    "    return sorted_highest_list\n",
    "\n",
    "list(top_in_category('population', 5).values())"
   ]
  },
  {
   "cell_type": "code",
   "execution_count": 11,
   "metadata": {
    "execution": {
     "iopub.execute_input": "2021-03-18T22:40:23.968367Z",
     "iopub.status.busy": "2021-03-18T22:40:23.967373Z",
     "iopub.status.idle": "2021-03-18T22:40:23.972366Z",
     "shell.execute_reply": "2021-03-18T22:40:23.973366Z"
    }
   },
   "outputs": [
    {
     "data": {
      "text/plain": [
       "[116935.6, 94277.965, 85535.383, 71809.251, 67335.293]"
      ]
     },
     "execution_count": 1,
     "metadata": {},
     "output_type": "execute_result"
    }
   ],
   "source": [
    "#q8\n",
    "#What the are gdp_per_capita values for top 5 gdp_per_capita countries?\n",
    "list(top_in_category('gdp_per_capita', 5).values())"
   ]
  },
  {
   "cell_type": "code",
   "execution_count": 12,
   "metadata": {
    "execution": {
     "iopub.execute_input": "2021-03-18T22:40:23.980364Z",
     "iopub.status.busy": "2021-03-18T22:40:23.980364Z",
     "iopub.status.idle": "2021-03-18T22:40:23.983398Z",
     "shell.execute_reply": "2021-03-18T22:40:23.984397Z"
    }
   },
   "outputs": [
    {
     "data": {
      "text/plain": [
       "['Sinopharm/Beijing',\n",
       " 'Covaxin',\n",
       " 'Sinovac',\n",
       " 'Sputnik V',\n",
       " 'Moderna',\n",
       " 'Oxford/AstraZeneca',\n",
       " 'Pfizer/BioNTech']"
      ]
     },
     "execution_count": 1,
     "metadata": {},
     "output_type": "execute_result"
    }
   ],
   "source": [
    "#q9\n",
    "#What are the different vaccines used? You should output a list (order of the values in the list doesn't matter).\n",
    "def get_vaccine_names():\n",
    "    vaccine_names = list(set(get_column('vaccine_used')))\n",
    "    for item in vaccine_names:\n",
    "        if item == '':\n",
    "            vaccine_names.remove(item)\n",
    "    return vaccine_names\n",
    "get_vaccine_names()"
   ]
  },
  {
   "cell_type": "code",
   "execution_count": 13,
   "metadata": {
    "execution": {
     "iopub.execute_input": "2021-03-18T22:40:23.996363Z",
     "iopub.status.busy": "2021-03-18T22:40:23.993366Z",
     "iopub.status.idle": "2021-03-18T22:40:24.002448Z",
     "shell.execute_reply": "2021-03-18T22:40:24.003511Z"
    }
   },
   "outputs": [
    {
     "data": {
      "text/plain": [
       "{'Afghanistan': 0,\n",
       " 'Albania': 0,\n",
       " 'Algeria': 0,\n",
       " 'Andorra': 9037,\n",
       " 'Angola': 0,\n",
       " 'Anguilla': 5364,\n",
       " 'Antigua and Barbuda': 0,\n",
       " 'Argentina': 4136673,\n",
       " 'Armenia': 0,\n",
       " 'Australia': 0,\n",
       " 'Austria': 2537574,\n",
       " 'Azerbaijan': 0,\n",
       " 'Bahamas': 0,\n",
       " 'Bahrain': 1672025,\n",
       " 'Bangladesh': 5148344,\n",
       " 'Barbados': 0,\n",
       " 'Belarus': 0,\n",
       " 'Belgium': 3891182,\n",
       " 'Belize': 0,\n",
       " 'Benin': 0,\n",
       " 'Bermuda': 26310,\n",
       " 'Bhutan': 0,\n",
       " 'Bolivia': 61002,\n",
       " 'Bosnia and Herzegovina': 0,\n",
       " 'Botswana': 0,\n",
       " 'Brazil': 34489368,\n",
       " 'Brunei': 0,\n",
       " 'Bulgaria': 521462,\n",
       " 'Burkina Faso': 0,\n",
       " 'Burundi': 0,\n",
       " 'Cambodia': 10444,\n",
       " 'Cameroon': 0,\n",
       " 'Canada': 8584717,\n",
       " 'Cape Verde': 0,\n",
       " 'Cayman Islands': 105887,\n",
       " 'Central African Republic': 0,\n",
       " 'Chad': 0,\n",
       " 'Chile': 13295588,\n",
       " 'China': 0,\n",
       " 'Colombia': 0,\n",
       " 'Comoros': 0,\n",
       " 'Congo': 0,\n",
       " 'Costa Rica': 193896,\n",
       " \"Cote d'Ivoire\": 0,\n",
       " 'Croatia': 692302,\n",
       " 'Cuba': 0,\n",
       " 'Cyprus': 334038,\n",
       " 'Czechia': 3113855,\n",
       " 'Democratic Republic of Congo': 0,\n",
       " 'Denmark': 2772158,\n",
       " 'Djibouti': 0,\n",
       " 'Dominica': 0,\n",
       " 'Dominican Republic': 0,\n",
       " 'Ecuador': 0,\n",
       " 'Egypt': 0,\n",
       " 'El Salvador': 0,\n",
       " 'Equatorial Guinea': 0,\n",
       " 'Eritrea': 0,\n",
       " 'Estonia': 460208,\n",
       " 'Eswatini': 0,\n",
       " 'Ethiopia': 0,\n",
       " 'Faeroe Islands': 37485,\n",
       " 'Fiji': 0,\n",
       " 'Finland': 1853349,\n",
       " 'France': 19839551,\n",
       " 'Gabon': 0,\n",
       " 'Gambia': 0,\n",
       " 'Georgia': 0,\n",
       " 'Germany': 28348134,\n",
       " 'Ghana': 0,\n",
       " 'Gibraltar': 173283,\n",
       " 'Greece': 3631238,\n",
       " 'Grenada': 0,\n",
       " 'Guatemala': 0,\n",
       " 'Guinea': 0,\n",
       " 'Guinea-Bissau': 0,\n",
       " 'Guyana': 1336,\n",
       " 'Haiti': 0,\n",
       " 'Honduras': 0,\n",
       " 'Hungary': 3184578,\n",
       " 'Iceland': 98747,\n",
       " 'India': 56758976,\n",
       " 'Indonesia': 10181346,\n",
       " 'Iran': 0,\n",
       " 'Iraq': 0,\n",
       " 'Ireland': 1857195,\n",
       " 'Isle of Man': 93309,\n",
       " 'Israel': 44572227,\n",
       " 'Italy': 20726952,\n",
       " 'Jamaica': 0,\n",
       " 'Japan': 0,\n",
       " 'Jordan': 0,\n",
       " 'Kazakhstan': 0,\n",
       " 'Kenya': 0,\n",
       " 'Kosovo': 0,\n",
       " 'Kuwait': 274000,\n",
       " 'Kyrgyzstan': 0,\n",
       " 'Laos': 0,\n",
       " 'Latvia': 257581,\n",
       " 'Lebanon': 0,\n",
       " 'Lesotho': 0,\n",
       " 'Liberia': 0,\n",
       " 'Libya': 0,\n",
       " 'Liechtenstein': 7567,\n",
       " 'Lithuania': 1055108,\n",
       " 'Luxembourg': 155036,\n",
       " 'Madagascar': 0,\n",
       " 'Malawi': 0,\n",
       " 'Malaysia': 0,\n",
       " 'Maldives': 238416,\n",
       " 'Mali': 0,\n",
       " 'Malta': 348526,\n",
       " 'Marshall Islands': 0,\n",
       " 'Mauritania': 0,\n",
       " 'Mauritius': 0,\n",
       " 'Mexico': 5293847,\n",
       " 'Micronesia (country)': 0,\n",
       " 'Moldova': 0,\n",
       " 'Monaco': 0,\n",
       " 'Mongolia': 0,\n",
       " 'Montenegro': 0,\n",
       " 'Morocco': 9101875,\n",
       " 'Mozambique': 0,\n",
       " 'Myanmar': 0,\n",
       " 'Namibia': 0,\n",
       " 'Nepal': 0,\n",
       " 'Netherlands': 3824970,\n",
       " 'New Zealand': 0,\n",
       " 'Nicaragua': 0,\n",
       " 'Niger': 0,\n",
       " 'Nigeria': 0,\n",
       " 'North Macedonia': 0,\n",
       " 'Norway': 2071841,\n",
       " 'Oman': 552198,\n",
       " 'Pakistan': 190596,\n",
       " 'Palestine': 0,\n",
       " 'Panama': 87087,\n",
       " 'Papua New Guinea': 0,\n",
       " 'Paraguay': 0,\n",
       " 'Peru': 428481,\n",
       " 'Philippines': 0,\n",
       " 'Poland': 12612374,\n",
       " 'Portugal': 3402256,\n",
       " 'Qatar': 0,\n",
       " 'Romania': 7575459,\n",
       " 'Russia': 27300000,\n",
       " 'Rwanda': 0,\n",
       " 'Saint Kitts and Nevis': 0,\n",
       " 'Saint Lucia': 0,\n",
       " 'Saint Vincent and the Grenadines': 0,\n",
       " 'Samoa': 0,\n",
       " 'San Marino': 0,\n",
       " 'Sao Tome and Principe': 0,\n",
       " 'Saudi Arabia': 2690087,\n",
       " 'Senegal': 0,\n",
       " 'Serbia': 5151874,\n",
       " 'Seychelles': 375619,\n",
       " 'Sierra Leone': 0,\n",
       " 'Singapore': 1792000,\n",
       " 'Slovakia': 2017472,\n",
       " 'Slovenia': 808170,\n",
       " 'Solomon Islands': 0,\n",
       " 'Somalia': 0,\n",
       " 'South Africa': 0,\n",
       " 'South Korea': 0,\n",
       " 'South Sudan': 0,\n",
       " 'Spain': 17400274,\n",
       " 'Sri Lanka': 1299113,\n",
       " 'Sudan': 0,\n",
       " 'Suriname': 0,\n",
       " 'Sweden': 3172813,\n",
       " 'Switzerland': 3545818,\n",
       " 'Syria': 0,\n",
       " 'Taiwan': 0,\n",
       " 'Tajikistan': 0,\n",
       " 'Tanzania': 0,\n",
       " 'Thailand': 0,\n",
       " 'Timor': 0,\n",
       " 'Togo': 0,\n",
       " 'Trinidad and Tobago': 0,\n",
       " 'Tunisia': 0,\n",
       " 'Turkey': 25393403,\n",
       " 'Uganda': 0,\n",
       " 'Ukraine': 0,\n",
       " 'United Arab Emirates': 34724716,\n",
       " 'United Kingdom': 107351798,\n",
       " 'United States': 351201758,\n",
       " 'Uruguay': 0,\n",
       " 'Uzbekistan': 0,\n",
       " 'Vanuatu': 0,\n",
       " 'Vatican': 0,\n",
       " 'Venezuela': 0,\n",
       " 'Vietnam': 0,\n",
       " 'Yemen': 0,\n",
       " 'Zambia': 0,\n",
       " 'Zimbabwe': 0}"
      ]
     },
     "execution_count": 1,
     "metadata": {},
     "output_type": "execute_result"
    }
   ],
   "source": [
    "#this was again me not interpreting the data correctly\n",
    "def total_vaccinations_by_country():\n",
    "    total_vaccinations = {}\n",
    "    for row in csv_data:\n",
    "        if row[0] not in total_vaccinations.keys():\n",
    "            total_vaccinations[row[0]] = int(row[4])\n",
    "        elif row[0] in total_vaccinations.keys():\n",
    "            total_vaccinations[row[0]] = total_vaccinations.get(row[0]) + (int(row[4]))\n",
    "    return total_vaccinations\n",
    "total_vaccinations_by_country()"
   ]
  },
  {
   "cell_type": "code",
   "execution_count": 14,
   "metadata": {
    "execution": {
     "iopub.execute_input": "2021-03-18T22:40:24.015411Z",
     "iopub.status.busy": "2021-03-18T22:40:24.013365Z",
     "iopub.status.idle": "2021-03-18T22:40:24.020365Z",
     "shell.execute_reply": "2021-03-18T22:40:24.020365Z"
    }
   },
   "outputs": [
    {
     "data": {
      "text/plain": [
       "{'Afghanistan': 0,\n",
       " 'Albania': 0,\n",
       " 'Algeria': 0,\n",
       " 'Andorra': 1291,\n",
       " 'Angola': 0,\n",
       " 'Anguilla': 1341,\n",
       " 'Antigua and Barbuda': 0,\n",
       " 'Argentina': 611169,\n",
       " 'Armenia': 0,\n",
       " 'Australia': 0,\n",
       " 'Austria': 378205,\n",
       " 'Azerbaijan': 0,\n",
       " 'Bahamas': 0,\n",
       " 'Bahrain': 252990,\n",
       " 'Bangladesh': 1359613,\n",
       " 'Barbados': 0,\n",
       " 'Belarus': 0,\n",
       " 'Belgium': 573774,\n",
       " 'Belize': 0,\n",
       " 'Benin': 0,\n",
       " 'Bermuda': 13155,\n",
       " 'Bhutan': 0,\n",
       " 'Bolivia': 10167,\n",
       " 'Bosnia and Herzegovina': 0,\n",
       " 'Botswana': 0,\n",
       " 'Brazil': 5609937,\n",
       " 'Brunei': 0,\n",
       " 'Bulgaria': 81338,\n",
       " 'Burkina Faso': 0,\n",
       " 'Burundi': 0,\n",
       " 'Cambodia': 1492,\n",
       " 'Cameroon': 0,\n",
       " 'Canada': 1306784,\n",
       " 'Cape Verde': 0,\n",
       " 'Cayman Islands': 15543,\n",
       " 'Central African Republic': 0,\n",
       " 'Chad': 0,\n",
       " 'Chile': 2375725,\n",
       " 'China': 0,\n",
       " 'Colombia': 0,\n",
       " 'Comoros': 0,\n",
       " 'Congo': 0,\n",
       " 'Costa Rica': 96948,\n",
       " \"Cote d'Ivoire\": 0,\n",
       " 'Croatia': 120603,\n",
       " 'Cuba': 0,\n",
       " 'Cyprus': 55673,\n",
       " 'Czechia': 466578,\n",
       " 'Democratic Republic of Congo': 0,\n",
       " 'Denmark': 421827,\n",
       " 'Djibouti': 0,\n",
       " 'Dominica': 0,\n",
       " 'Dominican Republic': 0,\n",
       " 'Ecuador': 0,\n",
       " 'Egypt': 0,\n",
       " 'El Salvador': 0,\n",
       " 'Equatorial Guinea': 0,\n",
       " 'Eritrea': 0,\n",
       " 'Estonia': 69313,\n",
       " 'Eswatini': 0,\n",
       " 'Ethiopia': 0,\n",
       " 'Faeroe Islands': 5355,\n",
       " 'Fiji': 0,\n",
       " 'Finland': 283926,\n",
       " 'France': 3014973,\n",
       " 'Gabon': 0,\n",
       " 'Gambia': 0,\n",
       " 'Georgia': 0,\n",
       " 'Germany': 4284554,\n",
       " 'Ghana': 0,\n",
       " 'Gibraltar': 26379,\n",
       " 'Greece': 575766,\n",
       " 'Grenada': 0,\n",
       " 'Guatemala': 0,\n",
       " 'Guinea': 0,\n",
       " 'Guinea-Bissau': 0,\n",
       " 'Guyana': 668,\n",
       " 'Haiti': 0,\n",
       " 'Honduras': 0,\n",
       " 'Hungary': 483751,\n",
       " 'Iceland': 20031,\n",
       " 'India': 8999230,\n",
       " 'Indonesia': 1658110,\n",
       " 'Iran': 0,\n",
       " 'Iraq': 0,\n",
       " 'Ireland': 268551,\n",
       " 'Isle of Man': 14272,\n",
       " 'Israel': 6758861,\n",
       " 'Italy': 3122631,\n",
       " 'Jamaica': 0,\n",
       " 'Japan': 0,\n",
       " 'Jordan': 0,\n",
       " 'Kazakhstan': 0,\n",
       " 'Kenya': 0,\n",
       " 'Kosovo': 0,\n",
       " 'Kuwait': 137000,\n",
       " 'Kyrgyzstan': 0,\n",
       " 'Laos': 0,\n",
       " 'Latvia': 39299,\n",
       " 'Lebanon': 0,\n",
       " 'Lesotho': 0,\n",
       " 'Liberia': 0,\n",
       " 'Libya': 0,\n",
       " 'Liechtenstein': 1165,\n",
       " 'Lithuania': 157304,\n",
       " 'Luxembourg': 24024,\n",
       " 'Madagascar': 0,\n",
       " 'Malawi': 0,\n",
       " 'Malaysia': 0,\n",
       " 'Maldives': 50047,\n",
       " 'Mali': 0,\n",
       " 'Malta': 53647,\n",
       " 'Marshall Islands': 0,\n",
       " 'Mauritania': 0,\n",
       " 'Mauritius': 0,\n",
       " 'Mexico': 915383,\n",
       " 'Micronesia (country)': 0,\n",
       " 'Moldova': 0,\n",
       " 'Monaco': 0,\n",
       " 'Mongolia': 0,\n",
       " 'Montenegro': 0,\n",
       " 'Morocco': 1904169,\n",
       " 'Mozambique': 0,\n",
       " 'Myanmar': 0,\n",
       " 'Namibia': 0,\n",
       " 'Nepal': 0,\n",
       " 'Netherlands': 623539,\n",
       " 'New Zealand': 0,\n",
       " 'Nicaragua': 0,\n",
       " 'Niger': 0,\n",
       " 'Nigeria': 0,\n",
       " 'North Macedonia': 0,\n",
       " 'Norway': 304780,\n",
       " 'Oman': 109014,\n",
       " 'Pakistan': 27228,\n",
       " 'Palestine': 0,\n",
       " 'Panama': 12441,\n",
       " 'Papua New Guinea': 0,\n",
       " 'Paraguay': 0,\n",
       " 'Peru': 109498,\n",
       " 'Philippines': 0,\n",
       " 'Poland': 2159146,\n",
       " 'Portugal': 539786,\n",
       " 'Qatar': 0,\n",
       " 'Romania': 1197089,\n",
       " 'Russia': 3900000,\n",
       " 'Rwanda': 0,\n",
       " 'Saint Kitts and Nevis': 0,\n",
       " 'Saint Lucia': 0,\n",
       " 'Saint Vincent and the Grenadines': 0,\n",
       " 'Samoa': 0,\n",
       " 'San Marino': 0,\n",
       " 'Sao Tome and Principe': 0,\n",
       " 'Saudi Arabia': 462812,\n",
       " 'Senegal': 0,\n",
       " 'Serbia': 817000,\n",
       " 'Seychelles': 55980,\n",
       " 'Sierra Leone': 0,\n",
       " 'Singapore': 256000,\n",
       " 'Slovakia': 311299,\n",
       " 'Slovenia': 119346,\n",
       " 'Solomon Islands': 0,\n",
       " 'Somalia': 0,\n",
       " 'South Africa': 0,\n",
       " 'South Korea': 0,\n",
       " 'South Sudan': 0,\n",
       " 'Spain': 2624512,\n",
       " 'Sri Lanka': 196163,\n",
       " 'Sudan': 0,\n",
       " 'Suriname': 0,\n",
       " 'Sweden': 505898,\n",
       " 'Switzerland': 540066,\n",
       " 'Syria': 0,\n",
       " 'Taiwan': 0,\n",
       " 'Tajikistan': 0,\n",
       " 'Tanzania': 0,\n",
       " 'Thailand': 0,\n",
       " 'Timor': 0,\n",
       " 'Togo': 0,\n",
       " 'Trinidad and Tobago': 0,\n",
       " 'Tunisia': 0,\n",
       " 'Turkey': 4630784,\n",
       " 'Uganda': 0,\n",
       " 'Ukraine': 0,\n",
       " 'United Arab Emirates': 5198725,\n",
       " 'United Kingdom': 16122272,\n",
       " 'United States': 55220364,\n",
       " 'Uruguay': 0,\n",
       " 'Uzbekistan': 0,\n",
       " 'Vanuatu': 0,\n",
       " 'Vatican': 0,\n",
       " 'Venezuela': 0,\n",
       " 'Vietnam': 0,\n",
       " 'Yemen': 0,\n",
       " 'Zambia': 0,\n",
       " 'Zimbabwe': 0}"
      ]
     },
     "execution_count": 1,
     "metadata": {},
     "output_type": "execute_result"
    }
   ],
   "source": [
    "#q10 \n",
    "#How many total vaccination doses were administered by 2021-02-16 for each country? You should output a dictionary.\n",
    "def total_vaccinations_by_country_by_date(date):\n",
    "    vaccination_totals = {}\n",
    "    for row in csv_data:\n",
    "        #print(row[2], date)\n",
    "        if row[2] != date:\n",
    "            continue\n",
    "        vaccination_totals[row[0]] = int(row[4])\n",
    "    return vaccination_totals\n",
    "total_vaccinations_by_country_by_date('2021-02-16')"
   ]
  },
  {
   "cell_type": "code",
   "execution_count": 15,
   "metadata": {
    "execution": {
     "iopub.execute_input": "2021-03-18T22:40:24.026364Z",
     "iopub.status.busy": "2021-03-18T22:40:24.026364Z",
     "iopub.status.idle": "2021-03-18T22:40:24.029365Z",
     "shell.execute_reply": "2021-03-18T22:40:24.029365Z"
    }
   },
   "outputs": [
    {
     "data": {
      "text/plain": [
       "'Afghanistan'"
      ]
     },
     "execution_count": 1,
     "metadata": {},
     "output_type": "execute_result"
    }
   ],
   "source": [
    "#I DID IT AGAIN\n",
    "def max_vaccinated_countries_by_date(date):\n",
    "    max_vaccinated_countries = []\n",
    "    vaccination_totals = total_vaccinations_by_country_by_date(date)\n",
    "    #print(vaccination_totals)\n",
    "    for key in vaccination_totals:\n",
    "        #print(key)\n",
    "        for row in csv_data:\n",
    "            #print(key, vaccination_totals[key])\n",
    "            if key == row[0]:\n",
    "                #print(row[0], vaccination_totals[key], row[5])\n",
    "                if vaccination_totals[key] == int(row[5]):\n",
    "                    #print(row[0])\n",
    "                    if row[0] not in max_vaccinated_countries:\n",
    "                        #max_vaccinated_countries.append(row[0])\n",
    "                        return row[0]\n",
    "    #return max_vaccinated_countries\n",
    "max_vaccinated_countries_by_date('2021-02-16')"
   ]
  },
  {
   "cell_type": "code",
   "execution_count": 16,
   "metadata": {
    "execution": {
     "iopub.execute_input": "2021-03-18T22:40:24.033398Z",
     "iopub.status.busy": "2021-03-18T22:40:24.033398Z",
     "iopub.status.idle": "2021-03-18T22:40:24.036365Z",
     "shell.execute_reply": "2021-03-18T22:40:24.035409Z"
    }
   },
   "outputs": [
    {
     "data": {
      "text/plain": [
       "'United States'"
      ]
     },
     "execution_count": 1,
     "metadata": {},
     "output_type": "execute_result"
    }
   ],
   "source": [
    "#q11\n",
    "#Which country has administered the maximum number of total_vaccinations by 2021-02-16?\n",
    "vaccination_totals = total_vaccinations_by_country_by_date('2021-02-16')\n",
    "max(vaccination_totals, key=vaccination_totals.get)"
   ]
  },
  {
   "cell_type": "code",
   "execution_count": 17,
   "metadata": {
    "execution": {
     "iopub.execute_input": "2021-03-18T22:40:24.039363Z",
     "iopub.status.busy": "2021-03-18T22:40:24.039363Z",
     "iopub.status.idle": "2021-03-18T22:40:24.043406Z",
     "shell.execute_reply": "2021-03-18T22:40:24.044365Z"
    }
   },
   "outputs": [],
   "source": [
    "#Again...\n",
    "#def vaccinations_not_started(date):\n",
    "    #vaccinations_not_started = []\n",
    "    #vaccination_totals = total_vaccinations_by_country_by_date(date)\n",
    "    #for key in vaccination_totals:\n",
    "        #for row in csv_data:\n",
    "            #if key == row[0]:\n",
    "                #print(key, row[0])\n",
    "                #if int(row[5]) == 0:\n",
    "                    #print(row[5])\n",
    "                    #if row[0] not in vaccinations_not_started:\n",
    "                        #vaccinations_not_started.append(row[0])\n",
    "    #return vaccinations_not_started\n",
    "#vaccinations_not_started('2021-02-16')"
   ]
  },
  {
   "cell_type": "code",
   "execution_count": 18,
   "metadata": {
    "execution": {
     "iopub.execute_input": "2021-03-18T22:40:24.050397Z",
     "iopub.status.busy": "2021-03-18T22:40:24.050397Z",
     "iopub.status.idle": "2021-03-18T22:40:24.053397Z",
     "shell.execute_reply": "2021-03-18T22:40:24.052368Z"
    }
   },
   "outputs": [
    {
     "data": {
      "text/plain": [
       "['Afghanistan',\n",
       " 'Albania',\n",
       " 'Algeria',\n",
       " 'Angola',\n",
       " 'Antigua and Barbuda',\n",
       " 'Armenia',\n",
       " 'Australia',\n",
       " 'Azerbaijan',\n",
       " 'Bahamas',\n",
       " 'Barbados',\n",
       " 'Belarus',\n",
       " 'Belize',\n",
       " 'Benin',\n",
       " 'Bhutan',\n",
       " 'Bosnia and Herzegovina',\n",
       " 'Botswana',\n",
       " 'Brunei',\n",
       " 'Burkina Faso',\n",
       " 'Burundi',\n",
       " 'Cameroon',\n",
       " 'Cape Verde',\n",
       " 'Central African Republic',\n",
       " 'Chad',\n",
       " 'China',\n",
       " 'Colombia',\n",
       " 'Comoros',\n",
       " 'Congo',\n",
       " \"Cote d'Ivoire\",\n",
       " 'Cuba',\n",
       " 'Democratic Republic of Congo',\n",
       " 'Djibouti',\n",
       " 'Dominica',\n",
       " 'Dominican Republic',\n",
       " 'Ecuador',\n",
       " 'Egypt',\n",
       " 'El Salvador',\n",
       " 'Equatorial Guinea',\n",
       " 'Eritrea',\n",
       " 'Eswatini',\n",
       " 'Ethiopia',\n",
       " 'Fiji',\n",
       " 'Gabon',\n",
       " 'Gambia',\n",
       " 'Georgia',\n",
       " 'Ghana',\n",
       " 'Grenada',\n",
       " 'Guatemala',\n",
       " 'Guinea',\n",
       " 'Guinea-Bissau',\n",
       " 'Haiti',\n",
       " 'Honduras',\n",
       " 'Iran',\n",
       " 'Iraq',\n",
       " 'Jamaica',\n",
       " 'Japan',\n",
       " 'Jordan',\n",
       " 'Kazakhstan',\n",
       " 'Kenya',\n",
       " 'Kosovo',\n",
       " 'Kyrgyzstan',\n",
       " 'Laos',\n",
       " 'Lebanon',\n",
       " 'Lesotho',\n",
       " 'Liberia',\n",
       " 'Libya',\n",
       " 'Madagascar',\n",
       " 'Malawi',\n",
       " 'Malaysia',\n",
       " 'Mali',\n",
       " 'Marshall Islands',\n",
       " 'Mauritania',\n",
       " 'Mauritius',\n",
       " 'Micronesia (country)',\n",
       " 'Moldova',\n",
       " 'Monaco',\n",
       " 'Mongolia',\n",
       " 'Montenegro',\n",
       " 'Mozambique',\n",
       " 'Myanmar',\n",
       " 'Namibia',\n",
       " 'Nepal',\n",
       " 'New Zealand',\n",
       " 'Nicaragua',\n",
       " 'Niger',\n",
       " 'Nigeria',\n",
       " 'North Macedonia',\n",
       " 'Palestine',\n",
       " 'Papua New Guinea',\n",
       " 'Paraguay',\n",
       " 'Philippines',\n",
       " 'Qatar',\n",
       " 'Rwanda',\n",
       " 'Saint Kitts and Nevis',\n",
       " 'Saint Lucia',\n",
       " 'Saint Vincent and the Grenadines',\n",
       " 'Samoa',\n",
       " 'San Marino',\n",
       " 'Sao Tome and Principe',\n",
       " 'Senegal',\n",
       " 'Sierra Leone',\n",
       " 'Solomon Islands',\n",
       " 'Somalia',\n",
       " 'South Africa',\n",
       " 'South Korea',\n",
       " 'South Sudan',\n",
       " 'Sudan',\n",
       " 'Suriname',\n",
       " 'Syria',\n",
       " 'Taiwan',\n",
       " 'Tajikistan',\n",
       " 'Tanzania',\n",
       " 'Thailand',\n",
       " 'Timor',\n",
       " 'Togo',\n",
       " 'Trinidad and Tobago',\n",
       " 'Tunisia',\n",
       " 'Uganda',\n",
       " 'Ukraine',\n",
       " 'Uruguay',\n",
       " 'Uzbekistan',\n",
       " 'Vanuatu',\n",
       " 'Vatican',\n",
       " 'Venezuela',\n",
       " 'Vietnam',\n",
       " 'Yemen',\n",
       " 'Zambia',\n",
       " 'Zimbabwe']"
      ]
     },
     "execution_count": 1,
     "metadata": {},
     "output_type": "execute_result"
    }
   ],
   "source": [
    "#q12\n",
    "#Which countries hadn't started vaccination according to the dataset?\n",
    "def vaccinations_not_started(date):\n",
    "    vaccinations_not_started = []\n",
    "    vaccination_totals = total_vaccinations_by_country_by_date(date)\n",
    "    for key in vaccination_totals:\n",
    "        if vaccination_totals[key] == 0:\n",
    "            if key not in vaccinations_not_started:\n",
    "                vaccinations_not_started.append(key)\n",
    "    return vaccinations_not_started\n",
    "vaccinations_not_started('2021-02-16')"
   ]
  },
  {
   "cell_type": "code",
   "execution_count": 19,
   "metadata": {
    "execution": {
     "iopub.execute_input": "2021-03-18T22:40:24.059396Z",
     "iopub.status.busy": "2021-03-18T22:40:24.058365Z",
     "iopub.status.idle": "2021-03-18T22:40:24.062367Z",
     "shell.execute_reply": "2021-03-18T22:40:24.062367Z"
    }
   },
   "outputs": [
    {
     "data": {
      "text/plain": [
       "{'country': 'United States',\n",
       " 'continent': 'North America',\n",
       " 'date': '2021-02-16',\n",
       " 'new_vaccinations': 0,\n",
       " 'total_vaccinations': 55220364,\n",
       " 'people_fully_vaccinated': 15015434,\n",
       " 'vaccine_used': 'Moderna',\n",
       " 'population': 331002647,\n",
       " 'population_density': 35.608,\n",
       " 'gdp_per_capita': 54225.446,\n",
       " 'human_development_index': 0.926}"
      ]
     },
     "execution_count": 1,
     "metadata": {},
     "output_type": "execute_result"
    }
   ],
   "source": [
    "#q13\n",
    "#What were the stats for the United States as on 2021-02-16?\n",
    "def country_stats_to_dict(country, date):\n",
    "    country_stats = {}\n",
    "    for row in csv_data:\n",
    "        column_count = 0\n",
    "        if row[csv_header.index('country')] == country and row[csv_header.index('date')] == date:\n",
    "                for item in row:\n",
    "                    country_stats[csv_header[column_count]] = item\n",
    "                    column_count += 1\n",
    "    return country_stats\n",
    "country_stats_to_dict('United States', '2021-02-16')"
   ]
  },
  {
   "cell_type": "code",
   "execution_count": 20,
   "metadata": {
    "execution": {
     "iopub.execute_input": "2021-03-18T22:40:24.067363Z",
     "iopub.status.busy": "2021-03-18T22:40:24.066365Z",
     "iopub.status.idle": "2021-03-18T22:40:24.070397Z",
     "shell.execute_reply": "2021-03-18T22:40:24.071398Z"
    }
   },
   "outputs": [
    {
     "data": {
      "text/plain": [
       "{'country': 'India',\n",
       " 'continent': 'Asia',\n",
       " 'date': '2021-02-14',\n",
       " 'new_vaccinations': 21437,\n",
       " 'total_vaccinations': 8285295,\n",
       " 'people_fully_vaccinated': 0,\n",
       " 'vaccine_used': 'Covaxin',\n",
       " 'population': 1380004385,\n",
       " 'population_density': 450.419,\n",
       " 'gdp_per_capita': 6426.674,\n",
       " 'human_development_index': 0.645}"
      ]
     },
     "execution_count": 1,
     "metadata": {},
     "output_type": "execute_result"
    }
   ],
   "source": [
    "#q14\n",
    "#What were the stats for India as on 2021-02-14?\n",
    "country_stats_to_dict('India', '2021-02-14')"
   ]
  },
  {
   "cell_type": "code",
   "execution_count": 21,
   "metadata": {
    "execution": {
     "iopub.execute_input": "2021-03-18T22:40:24.075365Z",
     "iopub.status.busy": "2021-03-18T22:40:24.074363Z",
     "iopub.status.idle": "2021-03-18T22:40:24.079365Z",
     "shell.execute_reply": "2021-03-18T22:40:24.078362Z"
    }
   },
   "outputs": [
    {
     "data": {
      "text/plain": [
       "'Moderna'"
      ]
     },
     "execution_count": 1,
     "metadata": {},
     "output_type": "execute_result"
    }
   ],
   "source": [
    "#q15\n",
    "#Which vaccine was used in the United States on 2021-02-16?\n",
    "country_stats_to_dict('United States', '2021-02-16').get('vaccine_used')"
   ]
  },
  {
   "cell_type": "code",
   "execution_count": 22,
   "metadata": {
    "execution": {
     "iopub.execute_input": "2021-03-18T22:40:24.086365Z",
     "iopub.status.busy": "2021-03-18T22:40:24.085364Z",
     "iopub.status.idle": "2021-03-18T22:40:24.089397Z",
     "shell.execute_reply": "2021-03-18T22:40:24.088361Z"
    }
   },
   "outputs": [
    {
     "data": {
      "text/plain": [
       "{'2021-02-10': 4611211,\n",
       " '2021-02-11': 4638600,\n",
       " '2021-02-12': 5429665,\n",
       " '2021-02-13': 4715774,\n",
       " '2021-02-14': 3383538,\n",
       " '2021-02-15': 2465118,\n",
       " '2021-02-16': 2440314}"
      ]
     },
     "execution_count": 1,
     "metadata": {},
     "output_type": "execute_result"
    }
   ],
   "source": [
    "#q16\n",
    "#How many new vaccination doses (refer new_vaccinations column) were administered from 2021-02-10 to 2021-02-16? You should output a dictionary with (key, value) pair as (date, sum of new_vaccinations on that particular date)\n",
    "def new_vaccinations_within_time_frame(date1, date2):\n",
    "    total_new_vaccinations = {}\n",
    "    for row in csv_data:\n",
    "        if date1 <= row[csv_header.index('date')] <= date2:\n",
    "            if row[csv_header.index('date')] not in total_new_vaccinations:\n",
    "                total_new_vaccinations[row[csv_header.index('date')]] = 0\n",
    "            else:\n",
    "                total_new_vaccinations[row[csv_header.index('date')]] += row[csv_header.index('new_vaccinations')]\n",
    "    return total_new_vaccinations\n",
    "new_vaccinations_within_time_frame('2021-02-10', '2021-02-16')"
   ]
  },
  {
   "cell_type": "code",
   "execution_count": 23,
   "metadata": {
    "execution": {
     "iopub.execute_input": "2021-03-18T22:40:24.098367Z",
     "iopub.status.busy": "2021-03-18T22:40:24.097401Z",
     "iopub.status.idle": "2021-03-18T22:40:24.101397Z",
     "shell.execute_reply": "2021-03-18T22:40:24.100362Z"
    }
   },
   "outputs": [
    {
     "data": {
      "text/plain": [
       "{'Afghanistan': 0.0,\n",
       " 'Albania': 0.0,\n",
       " 'Algeria': 0.0,\n",
       " 'Andorra': 0.0,\n",
       " 'Angola': 0.0,\n",
       " 'Anguilla': 0.0,\n",
       " 'Antigua and Barbuda': 0.0,\n",
       " 'Argentina': 0.5264120141136195,\n",
       " 'Armenia': 0.0,\n",
       " 'Australia': 0.0,\n",
       " 'Austria': 1.6818817729614497,\n",
       " 'Azerbaijan': 0.0,\n",
       " 'Bahamas': 0.0,\n",
       " 'Bahrain': 0.0,\n",
       " 'Bangladesh': 0.0,\n",
       " 'Barbados': 0.0,\n",
       " 'Belarus': 0.0,\n",
       " 'Belgium': 1.7580824075620796,\n",
       " 'Belize': 0.0,\n",
       " 'Benin': 0.0,\n",
       " 'Bermuda': 0.0,\n",
       " 'Bhutan': 0.0,\n",
       " 'Bolivia': 0.0,\n",
       " 'Bosnia and Herzegovina': 0.0,\n",
       " 'Botswana': 0.0,\n",
       " 'Brazil': 0.1343718451908191,\n",
       " 'Brunei': 0.0,\n",
       " 'Bulgaria': 0.32778556928924385,\n",
       " 'Burkina Faso': 0.0,\n",
       " 'Burundi': 0.0,\n",
       " 'Cambodia': 0.0,\n",
       " 'Cameroon': 0.0,\n",
       " 'Canada': 0.0,\n",
       " 'Cape Verde': 0.0,\n",
       " 'Cayman Islands': 9.694157029823494,\n",
       " 'Central African Republic': 0.0,\n",
       " 'Chad': 0.0,\n",
       " 'Chile': 0.28786042253461447,\n",
       " 'China': 0.0,\n",
       " 'Colombia': 0.0,\n",
       " 'Comoros': 0.0,\n",
       " 'Congo': 0.0,\n",
       " 'Costa Rica': 0.8353366257606328,\n",
       " \"Cote d'Ivoire\": 0.0,\n",
       " 'Croatia': 1.285616432349849,\n",
       " 'Cuba': 0.0,\n",
       " 'Cyprus': 1.5983578015273452,\n",
       " 'Czechia': 1.6179782541421772,\n",
       " 'Democratic Republic of Congo': 0.0,\n",
       " 'Denmark': 2.961343033039415,\n",
       " 'Djibouti': 0.0,\n",
       " 'Dominica': 0.0,\n",
       " 'Dominican Republic': 0.0,\n",
       " 'Ecuador': 0.0,\n",
       " 'Egypt': 0.0,\n",
       " 'El Salvador': 0.0,\n",
       " 'Equatorial Guinea': 0.0,\n",
       " 'Eritrea': 0.0,\n",
       " 'Estonia': 1.7016461634373359,\n",
       " 'Eswatini': 0.0,\n",
       " 'Ethiopia': 0.0,\n",
       " 'Faeroe Islands': 2.498720965926532,\n",
       " 'Fiji': 0.0,\n",
       " 'Finland': 1.2175858796639714,\n",
       " 'France': 1.0982816429426994,\n",
       " 'Gabon': 0.0,\n",
       " 'Gambia': 0.0,\n",
       " 'Georgia': 0.0,\n",
       " 'Germany': 1.7554938478965152,\n",
       " 'Ghana': 0.0,\n",
       " 'Gibraltar': 30.405746341752995,\n",
       " 'Greece': 1.707042541074326,\n",
       " 'Grenada': 0.0,\n",
       " 'Guatemala': 0.0,\n",
       " 'Guinea': 0.0,\n",
       " 'Guinea-Bissau': 0.0,\n",
       " 'Guyana': 0.0,\n",
       " 'Haiti': 0.0,\n",
       " 'Honduras': 0.0,\n",
       " 'Hungary': 1.3956430150046324,\n",
       " 'Iceland': 1.741831501831502,\n",
       " 'India': 0.0,\n",
       " 'Indonesia': 0.19638048006098896,\n",
       " 'Iran': 0.0,\n",
       " 'Iraq': 0.0,\n",
       " 'Ireland': 1.8555849613876314,\n",
       " 'Isle of Man': 4.226644086931978,\n",
       " 'Israel': 31.047961069100126,\n",
       " 'Italy': 2.142697372629885,\n",
       " 'Jamaica': 0.0,\n",
       " 'Japan': 0.0,\n",
       " 'Jordan': 0.0,\n",
       " 'Kazakhstan': 0.0,\n",
       " 'Kenya': 0.0,\n",
       " 'Kosovo': 0.0,\n",
       " 'Kuwait': 0.0,\n",
       " 'Kyrgyzstan': 0.0,\n",
       " 'Laos': 0.0,\n",
       " 'Latvia': 0.8703203580528491,\n",
       " 'Lebanon': 0.0,\n",
       " 'Lesotho': 0.0,\n",
       " 'Liberia': 0.0,\n",
       " 'Libya': 0.0,\n",
       " 'Liechtenstein': 0.0,\n",
       " 'Lithuania': 2.022267274145196,\n",
       " 'Luxembourg': 0.9535509348601223,\n",
       " 'Madagascar': 0.0,\n",
       " 'Malawi': 0.0,\n",
       " 'Malaysia': 0.0,\n",
       " 'Maldives': 0.0,\n",
       " 'Mali': 0.0,\n",
       " 'Malta': 3.873270537823386,\n",
       " 'Marshall Islands': 0.0,\n",
       " 'Mauritania': 0.0,\n",
       " 'Mauritius': 0.0,\n",
       " 'Mexico': 0.0668550061907078,\n",
       " 'Micronesia (country)': 0.0,\n",
       " 'Moldova': 0.0,\n",
       " 'Monaco': 0.0,\n",
       " 'Mongolia': 0.0,\n",
       " 'Montenegro': 0.0,\n",
       " 'Morocco': 0.0,\n",
       " 'Mozambique': 0.0,\n",
       " 'Myanmar': 0.0,\n",
       " 'Namibia': 0.0,\n",
       " 'Nepal': 0.0,\n",
       " 'Netherlands': 0.0,\n",
       " 'New Zealand': 0.0,\n",
       " 'Nicaragua': 0.0,\n",
       " 'Niger': 0.0,\n",
       " 'Nigeria': 0.0,\n",
       " 'North Macedonia': 0.0,\n",
       " 'Norway': 1.3173733989369965,\n",
       " 'Oman': 0.37243798346539064,\n",
       " 'Pakistan': 0.0,\n",
       " 'Palestine': 0.0,\n",
       " 'Panama': 0.0,\n",
       " 'Papua New Guinea': 0.0,\n",
       " 'Paraguay': 0.0,\n",
       " 'Peru': 0.0,\n",
       " 'Philippines': 0.0,\n",
       " 'Poland': 1.7392180883859991,\n",
       " 'Portugal': 1.993643634165422,\n",
       " 'Qatar': 0.0,\n",
       " 'Romania': 2.5020737945455176,\n",
       " 'Russia': 1.1649064929558104,\n",
       " 'Rwanda': 0.0,\n",
       " 'Saint Kitts and Nevis': 0.0,\n",
       " 'Saint Lucia': 0.0,\n",
       " 'Saint Vincent and the Grenadines': 0.0,\n",
       " 'Samoa': 0.0,\n",
       " 'San Marino': 0.0,\n",
       " 'Sao Tome and Principe': 0.0,\n",
       " 'Saudi Arabia': 0.0,\n",
       " 'Senegal': 0.0,\n",
       " 'Serbia': 2.6746628308278697,\n",
       " 'Seychelles': 14.420378279438681,\n",
       " 'Sierra Leone': 0.0,\n",
       " 'Singapore': 0.10255808932912139,\n",
       " 'Slovakia': 1.27105380333476,\n",
       " 'Slovenia': 2.301710686063806,\n",
       " 'Solomon Islands': 0.0,\n",
       " 'Somalia': 0.0,\n",
       " 'South Africa': 0.0,\n",
       " 'South Korea': 0.0,\n",
       " 'South Sudan': 0.0,\n",
       " 'Spain': 2.3461171876254885,\n",
       " 'Sri Lanka': 0.0,\n",
       " 'Sudan': 0.0,\n",
       " 'Suriname': 0.0,\n",
       " 'Sweden': 1.4038440402128074,\n",
       " 'Switzerland': 0.0,\n",
       " 'Syria': 0.0,\n",
       " 'Taiwan': 0.0,\n",
       " 'Tajikistan': 0.0,\n",
       " 'Tanzania': 0.0,\n",
       " 'Thailand': 0.0,\n",
       " 'Timor': 0.0,\n",
       " 'Togo': 0.0,\n",
       " 'Trinidad and Tobago': 0.0,\n",
       " 'Tunisia': 0.0,\n",
       " 'Turkey': 0.766147911026808,\n",
       " 'Uganda': 0.0,\n",
       " 'Ukraine': 0.0,\n",
       " 'United Arab Emirates': 0.0,\n",
       " 'United Kingdom': 0.8045325513636065,\n",
       " 'United States': 4.536348617175863,\n",
       " 'Uruguay': 0.0,\n",
       " 'Uzbekistan': 0.0,\n",
       " 'Vanuatu': 0.0,\n",
       " 'Vatican': 0.0,\n",
       " 'Venezuela': 0.0,\n",
       " 'Vietnam': 0.0,\n",
       " 'Yemen': 0.0,\n",
       " 'Zambia': 0.0,\n",
       " 'Zimbabwe': 0.0}"
      ]
     },
     "execution_count": 1,
     "metadata": {},
     "output_type": "execute_result"
    }
   ],
   "source": [
    "#q17\n",
    "#What percentage of people have been fully vaccinated in each country as per the latest (2021-02-16) details? You should return a dict with (country, percentage_fully_vaccinated) pair. For example, if US has fully vaccinated 1% people and Canada has vaccinated 0.5% people, your output dictionary should look like this (No % sign in the output)\n",
    "def percent_vaccinated(date):\n",
    "    percent_vaccinated = {}\n",
    "    for row in csv_data:\n",
    "        if row[csv_header.index('date')] == date:\n",
    "            if row[csv_header.index('country')] not in percent_vaccinated:\n",
    "                percent_vaccinated[row[csv_header.index('country')]] = ((row[csv_header.index('people_fully_vaccinated')]/row[csv_header.index('population')]) * 100)\n",
    "    return percent_vaccinated\n",
    "percent_vaccinated('2021-02-16')"
   ]
  },
  {
   "cell_type": "code",
   "execution_count": null,
   "metadata": {},
   "outputs": [],
   "source": []
  }
 ],
 "metadata": {
  "kernelspec": {
   "display_name": "Python 3",
   "language": "python",
   "name": "python3"
  },
  "language_info": {
   "codemirror_mode": {
    "name": "ipython",
    "version": 3
   },
   "file_extension": ".py",
   "mimetype": "text/x-python",
   "name": "python",
   "nbconvert_exporter": "python",
   "pygments_lexer": "ipython3",
   "version": "3.8.5"
  }
 },
 "nbformat": 4,
 "nbformat_minor": 4
}
