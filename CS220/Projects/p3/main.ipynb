{
 "cells": [
  {
   "cell_type": "code",
   "execution_count": 1,
   "metadata": {},
   "outputs": [],
   "source": [
    "# project: p3\n",
    "# submitter: RMM052/RMichaelis2\n",
    "# partner: N/A\n",
    "# hours: 3"
   ]
  },
  {
   "cell_type": "code",
   "execution_count": 2,
   "metadata": {},
   "outputs": [
    {
     "data": {
      "text/plain": [
       "['__DictReader',\n",
       " '__agency_to_id',\n",
       " '__builtins__',\n",
       " '__cached__',\n",
       " '__data',\n",
       " '__doc__',\n",
       " '__file__',\n",
       " '__loader__',\n",
       " '__name__',\n",
       " '__package__',\n",
       " '__spec__',\n",
       " 'dump',\n",
       " 'get_id',\n",
       " 'get_spending',\n",
       " 'init']"
      ]
     },
     "execution_count": 2,
     "metadata": {},
     "output_type": "execute_result"
    }
   ],
   "source": [
    "import project\n",
    "dir(project)"
   ]
  },
  {
   "cell_type": "code",
   "execution_count": 3,
   "metadata": {},
   "outputs": [],
   "source": [
    "project.init(\"madison.csv\")"
   ]
  },
  {
   "cell_type": "code",
   "execution_count": 4,
   "metadata": {},
   "outputs": [
    {
     "name": "stdout",
     "output_type": "stream",
     "text": [
      "governments [ID 15]\n",
      "  2017: $25.368880 MILLION\n",
      "  2018: $28.228622 MILLION\n",
      "  2019: $26.655754 MILLION\n",
      "  2020: $27.798934 MILLION\n",
      "\n",
      "gyms    [ID 6]\n",
      "  2017: $49.737579 MILLION\n",
      "  2018: $51.968340 MILLION\n",
      "  2019: $53.144053 MILLION\n",
      "  2020: $55.215007 MILLION\n",
      "\n",
      "restaurants [ID 7]\n",
      "  2017: $16.965434 MILLION\n",
      "  2018: $18.125521 MILLION\n",
      "  2019: $19.136348 MILLION\n",
      "  2020: $19.845066 MILLION\n",
      "\n",
      "schools [ID 3]\n",
      "  2017: $68.063469 MILLION\n",
      "  2018: $71.325756 MILLION\n",
      "  2019: $73.247948 MILLION\n",
      "  2020: $77.875535 MILLION\n",
      "\n",
      "stores  [ID 122]\n",
      "  2017: $180.371421 MILLION\n",
      "  2018: $19.159243 MILLION\n",
      "  2019: $19.316837 MILLION\n",
      "  2020: $19.760710 MILLION\n",
      "\n"
     ]
    }
   ],
   "source": [
    "project.dump()"
   ]
  },
  {
   "cell_type": "code",
   "execution_count": 5,
   "metadata": {},
   "outputs": [],
   "source": [
    "governments_id = project.get_id(\"governments\")\n",
    "gyms_id = project.get_id(\"gyms\")\n",
    "restaurants_id = project.get_id(\"restaurants\")\n",
    "schools_id = project.get_id(\"schools\")\n",
    "stores_id = project.get_id(\"stores\")"
   ]
  },
  {
   "cell_type": "code",
   "execution_count": 6,
   "metadata": {},
   "outputs": [
    {
     "data": {
      "text/plain": [
       "6"
      ]
     },
     "execution_count": 6,
     "metadata": {},
     "output_type": "execute_result"
    }
   ],
   "source": [
    "#q1\n",
    "project.get_id(\"gyms\")\n",
    "\n",
    "# agencyName = agency\n",
    "# idNumber = __agency_to_id[agency]\n",
    "# idResult = str(agencyName).capitalize() + \" ID = \" + str(idNumber)\n",
    "# return idResult"
   ]
  },
  {
   "cell_type": "code",
   "execution_count": 7,
   "metadata": {},
   "outputs": [
    {
     "data": {
      "text/plain": [
       "19.159243279999995"
      ]
     },
     "execution_count": 7,
     "metadata": {},
     "output_type": "execute_result"
    }
   ],
   "source": [
    "#q2\n",
    "project.get_spending(122, 2018)\n",
    "\n",
    "# Tried like 9 ways to reformat and it did not go well.\n",
    "# date = year\n",
    "# expense = __data[(agency_id, year)]\n",
    "# spendingResult = str(year) + \": $\" + str(expense) + \" Million in Expense\"\n",
    "# return spendingResult"
   ]
  },
  {
   "cell_type": "code",
   "execution_count": 8,
   "metadata": {},
   "outputs": [
    {
     "data": {
      "text/plain": [
       "19.76071"
      ]
     },
     "execution_count": 8,
     "metadata": {},
     "output_type": "execute_result"
    }
   ],
   "source": [
    "#q3\n",
    "project.get_spending(stores_id, 2020)"
   ]
  },
  {
   "cell_type": "code",
   "execution_count": 9,
   "metadata": {},
   "outputs": [],
   "source": [
    "def year_min(year):\n",
    "    # grab the spending by each agency in the given year\n",
    "    governments_spending = project.get_spending(project.get_id(\"governments\"), year)\n",
    "    gyms_spending = project.get_spending(project.get_id(\"gyms\"), year)\n",
    "    restaurants_spending = project.get_spending(project.get_id(\"restaurants\"), year)\n",
    "    schools_spending = project.get_spending(project.get_id(\"schools\"), year)\n",
    "    stores_spending = project.get_spending(project.get_id(\"stores\"), year)\n",
    "\n",
    "    # use builtin min function to get the largest of the five values\n",
    "    return min(governments_spending, gyms_spending, restaurants_spending, schools_spending, stores_spending)"
   ]
  },
  {
   "cell_type": "code",
   "execution_count": 10,
   "metadata": {},
   "outputs": [
    {
     "data": {
      "text/plain": [
       "18.12552139"
      ]
     },
     "execution_count": 10,
     "metadata": {},
     "output_type": "execute_result"
    }
   ],
   "source": [
    "#q4\n",
    "year_min(2018)\n",
    "\n",
    "#Ooof - overthought that one."
   ]
  },
  {
   "cell_type": "code",
   "execution_count": 11,
   "metadata": {},
   "outputs": [
    {
     "data": {
      "text/plain": [
       "19.76071"
      ]
     },
     "execution_count": 11,
     "metadata": {},
     "output_type": "execute_result"
    }
   ],
   "source": [
    "#q5\n",
    "year_min(2020)"
   ]
  },
  {
   "cell_type": "code",
   "execution_count": 12,
   "metadata": {},
   "outputs": [],
   "source": [
    "def agency_max(agency):\n",
    "    agency_id = project.get_id(agency)\n",
    "    y17 = project.get_spending(agency_id, 2017)\n",
    "    y18 = project.get_spending(agency_id, 2018)\n",
    "    # grab the other years\n",
    "    y19 = project.get_spending(agency_id, 2019)\n",
    "    y20 = project.get_spending(agency_id, 2020)\n",
    "\n",
    "    # use the max function (similar to the min function)\n",
    "    # to get the maximum across the four years\n",
    "    # and return that value\n",
    "    return max(y17, y18, y19, y20)"
   ]
  },
  {
   "cell_type": "code",
   "execution_count": 13,
   "metadata": {},
   "outputs": [
    {
     "data": {
      "text/plain": [
       "77.87553504"
      ]
     },
     "execution_count": 13,
     "metadata": {},
     "output_type": "execute_result"
    }
   ],
   "source": [
    "#q6\n",
    "agency_max(\"schools\")"
   ]
  },
  {
   "cell_type": "code",
   "execution_count": 14,
   "metadata": {},
   "outputs": [
    {
     "data": {
      "text/plain": [
       "28.2286218"
      ]
     },
     "execution_count": 14,
     "metadata": {},
     "output_type": "execute_result"
    }
   ],
   "source": [
    "#q7\n",
    "agency_max(\"governments\")"
   ]
  },
  {
   "cell_type": "code",
   "execution_count": 15,
   "metadata": {},
   "outputs": [],
   "source": [
    "def agency_avg(agency):\n",
    "    agency_id = project.get_id(agency)\n",
    "    y17 = project.get_spending(agency_id, 2017)\n",
    "    y18 = project.get_spending(agency_id, 2018)\n",
    "    y19 = project.get_spending(agency_id, 2019)\n",
    "    y20 = project.get_spending(agency_id, 2020)\n",
    "\n",
    "    # This function will compute the average (over the four datapoints) that the given agency spends per year.\n",
    "    return round(((y17 + y18 + y19 + y20) / 4), 2)"
   ]
  },
  {
   "cell_type": "code",
   "execution_count": 16,
   "metadata": {},
   "outputs": [
    {
     "data": {
      "text/plain": [
       "59.65"
      ]
     },
     "execution_count": 16,
     "metadata": {},
     "output_type": "execute_result"
    }
   ],
   "source": [
    "#q8\n",
    "agency_avg(\"stores\")"
   ]
  },
  {
   "cell_type": "code",
   "execution_count": 17,
   "metadata": {},
   "outputs": [
    {
     "data": {
      "text/plain": [
       "52.52"
      ]
     },
     "execution_count": 17,
     "metadata": {},
     "output_type": "execute_result"
    }
   ],
   "source": [
    "#q9 \n",
    "agency_avg(\"gyms\")"
   ]
  },
  {
   "cell_type": "code",
   "execution_count": 18,
   "metadata": {},
   "outputs": [
    {
     "data": {
      "text/plain": [
       "1.03"
      ]
     },
     "execution_count": 18,
     "metadata": {},
     "output_type": "execute_result"
    }
   ],
   "source": [
    "#q10\n",
    "round(project.get_spending(restaurants_id, 2019)/agency_avg(\"restaurants\"), 2)"
   ]
  },
  {
   "cell_type": "code",
   "execution_count": 19,
   "metadata": {},
   "outputs": [],
   "source": [
    "def year_avg(year=2018):\n",
    "    pass # TODO: replace this line with your code\n",
    "    governments_spending = project.get_spending(governments_id, year)\n",
    "    gyms_spending = project.get_spending(gyms_id, year)\n",
    "    restaurants_spending = project.get_spending(restaurants_id, year)\n",
    "    schools_spending = project.get_spending(schools_id, year)\n",
    "    stores_spending = project.get_spending(stores_id, year)\n",
    "    \n",
    "    # This function will compute the average spending (over the five agencies) in a given year.\n",
    "    return round(((governments_spending + gyms_spending + restaurants_spending + schools_spending + stores_spending) / 5), 2)"
   ]
  },
  {
   "cell_type": "code",
   "execution_count": 20,
   "metadata": {},
   "outputs": [
    {
     "data": {
      "text/plain": [
       "37.76"
      ]
     },
     "execution_count": 20,
     "metadata": {},
     "output_type": "execute_result"
    }
   ],
   "source": [
    "#q11\n",
    "year_avg()\n",
    "\n",
    "# I'd like to take a moment to thank Excel for its reassurance and support"
   ]
  },
  {
   "cell_type": "code",
   "execution_count": 21,
   "metadata": {},
   "outputs": [
    {
     "data": {
      "text/plain": [
       "40.1"
      ]
     },
     "execution_count": 21,
     "metadata": {},
     "output_type": "execute_result"
    }
   ],
   "source": [
    "#q12\n",
    "year_avg(2020)"
   ]
  },
  {
   "cell_type": "code",
   "execution_count": 22,
   "metadata": {},
   "outputs": [],
   "source": [
    "def change_per_year(agency, start_year=2017, end_year=2020):\n",
    "    pass # TODO: replace this line with your code\n",
    "    agency_id = project.get_id(agency)\n",
    "    first_year = project.get_spending(agency_id, start_year)\n",
    "    last_year = project.get_spending(agency_id, end_year)\n",
    "    years_passed = abs(start_year - end_year)\n",
    "    # Reallllllyyyy hope that + 1 doesn't bite me. Saw your Function 6 explanation - freaked out. Took out + 1.S\n",
    "    \n",
    "    #This function returns the average increase in spending (could be negative if there's a decrease) over the period from start_year to end_year for the specified agency.\n",
    "    return round(((last_year - first_year)/years_passed), 2)"
   ]
  },
  {
   "cell_type": "code",
   "execution_count": 23,
   "metadata": {},
   "outputs": [
    {
     "data": {
      "text/plain": [
       "0.81"
      ]
     },
     "execution_count": 23,
     "metadata": {},
     "output_type": "execute_result"
    }
   ],
   "source": [
    "#q13\n",
    "change_per_year(\"governments\")"
   ]
  },
  {
   "cell_type": "code",
   "execution_count": 24,
   "metadata": {},
   "outputs": [
    {
     "data": {
      "text/plain": [
       "1.7"
      ]
     },
     "execution_count": 24,
     "metadata": {},
     "output_type": "execute_result"
    }
   ],
   "source": [
    "#q14\n",
    "change_per_year(\"gyms\", end_year=2019)"
   ]
  },
  {
   "cell_type": "code",
   "execution_count": 25,
   "metadata": {},
   "outputs": [],
   "source": [
    "def extrapolate(agency, year1, year2, year3):\n",
    "    pass # TODO: replace this line with your code\n",
    "    agency_id = project.get_id(agency)\n",
    "    first_year = project.get_spending(agency_id, year1)\n",
    "    second_year = project.get_spending(agency_id, year2)\n",
    "    \n",
    "    actual_years_passed = abs(year2 - year1)\n",
    "    extrapolated_years_passed = abs(year3 - year2)\n",
    "    \n",
    "    percent_increase = ((second_year - first_year)/actual_years_passed)\n",
    "    \n",
    "    extrapolated_amount = second_year + (percent_increase * extrapolated_years_passed)\n",
    "    \n",
    "    \n",
    "    #This function returns the average increase in spending (could be negative if there's a decrease) over the period from start_year to end_year for the specified agency.\n",
    "    return round((extrapolated_amount), 2)"
   ]
  },
  {
   "cell_type": "code",
   "execution_count": 26,
   "metadata": {},
   "outputs": [
    {
     "data": {
      "text/plain": [
       "77.09"
      ]
     },
     "execution_count": 26,
     "metadata": {},
     "output_type": "execute_result"
    }
   ],
   "source": [
    "#q15\n",
    "extrapolate(\"schools\", 2018, 2019, 2021)\n",
    "\n",
    "# Oof dah."
   ]
  },
  {
   "cell_type": "code",
   "execution_count": 27,
   "metadata": {},
   "outputs": [
    {
     "data": {
      "text/plain": [
       "43.52"
      ]
     },
     "execution_count": 27,
     "metadata": {},
     "output_type": "execute_result"
    }
   ],
   "source": [
    "#q16\n",
    "extrapolate(\"stores\", 2018, 2020, 2099)"
   ]
  },
  {
   "cell_type": "code",
   "execution_count": 28,
   "metadata": {},
   "outputs": [
    {
     "data": {
      "text/plain": [
       "-20324.26"
      ]
     },
     "execution_count": 28,
     "metadata": {},
     "output_type": "execute_result"
    }
   ],
   "source": [
    "#q17\n",
    "extrapolate(\"stores\", 2017, 2020, 2400)"
   ]
  },
  {
   "cell_type": "code",
   "execution_count": 29,
   "metadata": {},
   "outputs": [],
   "source": [
    "def extrapolate_error(agency, start_year, end_year, extrapolate_year):\n",
    "    extrapolated_amount = extrapolate(agency, start_year, end_year, extrapolate_year)\n",
    "    agency_id = project.get_id(agency)\n",
    "    actual_amount = round(project.get_spending(agency_id, extrapolate_year), 2)\n",
    "    \n",
    "    return round((extrapolated_amount - actual_amount), 2)"
   ]
  },
  {
   "cell_type": "code",
   "execution_count": 30,
   "metadata": {},
   "outputs": [
    {
     "data": {
      "text/plain": [
       "6.15"
      ]
     },
     "execution_count": 30,
     "metadata": {},
     "output_type": "execute_result"
    }
   ],
   "source": [
    "#q18\n",
    "extrapolate_error(\"governments\", 2017, 2018, 2020)\n",
    "\n",
    "# Well that's unfair. Gotta give good data to recieve good data."
   ]
  },
  {
   "cell_type": "code",
   "execution_count": 31,
   "metadata": {},
   "outputs": [
    {
     "data": {
      "text/plain": [
       "-2.619414483821264"
      ]
     },
     "execution_count": 31,
     "metadata": {},
     "output_type": "execute_result"
    }
   ],
   "source": [
    "#q19\n",
    "((extrapolate_error(\"schools\", 2017, 2019, 2020)) * 100) / (round(project.get_spending(schools_id, 2020), 2))"
   ]
  },
  {
   "cell_type": "code",
   "execution_count": 32,
   "metadata": {},
   "outputs": [
    {
     "data": {
      "text/plain": [
       "1.08"
      ]
     },
     "execution_count": 32,
     "metadata": {},
     "output_type": "execute_result"
    }
   ],
   "source": [
    "#q20\n",
    "\n",
    "def population_standard_deviation(agency):\n",
    "    agency_id = project.get_id(agency)\n",
    "    import statistics\n",
    "    \n",
    "    return round(statistics.pstdev([project.get_spending(agency_id, 2017), project.get_spending(agency_id, 2018), project.get_spending(agency_id, 2019), project.get_spending(agency_id, 2020)]), 2)\n",
    "    \n",
    "    # I want to try making a for loop to account for new years, but I'm already late. Sad face.\n",
    "    \n",
    "population_standard_deviation(\"restaurants\")"
   ]
  }
 ],
 "metadata": {
  "kernelspec": {
   "display_name": "Python 3",
   "language": "python",
   "name": "python3"
  },
  "language_info": {
   "codemirror_mode": {
    "name": "ipython",
    "version": 3
   },
   "file_extension": ".py",
   "mimetype": "text/x-python",
   "name": "python",
   "nbconvert_exporter": "python",
   "pygments_lexer": "ipython3",
   "version": "3.8.5"
  }
 },
 "nbformat": 4,
 "nbformat_minor": 4
}
