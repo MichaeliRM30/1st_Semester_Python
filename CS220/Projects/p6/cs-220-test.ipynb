{
 "cells": [
  {
   "cell_type": "code",
   "execution_count": 1,
   "metadata": {
    "execution": {
     "iopub.execute_input": "2021-03-12T06:33:49.580189Z",
     "iopub.status.busy": "2021-03-12T06:33:49.578145Z",
     "iopub.status.idle": "2021-03-12T06:33:49.584175Z",
     "shell.execute_reply": "2021-03-12T06:33:49.583139Z"
    }
   },
   "outputs": [],
   "source": [
    "# project: p6\n",
    "# submitter: RMM052/RMichaelis2\n",
    "# partner: mprine2\n",
    "# hours: "
   ]
  },
  {
   "cell_type": "code",
   "execution_count": 2,
   "metadata": {
    "execution": {
     "iopub.execute_input": "2021-03-12T06:33:49.594171Z",
     "iopub.status.busy": "2021-03-12T06:33:49.593175Z",
     "iopub.status.idle": "2021-03-12T06:33:49.768130Z",
     "shell.execute_reply": "2021-03-12T06:33:49.769132Z"
    }
   },
   "outputs": [],
   "source": [
    "import csv\n",
    "\n",
    "# copied from https://automatetheboringstuff.com/chapter14/\n",
    "def process_csv(filename):\n",
    "    exampleFile = open(filename, encoding=\"utf-8\")\n",
    "    exampleReader = csv.reader(exampleFile)\n",
    "    exampleData = list(exampleReader)\n",
    "    exampleFile.close()\n",
    "    return exampleData\n",
    "\n",
    "# use process_csv to pull out the header and data rows\n",
    "csv_rows = process_csv(\"airbnb.csv\")\n",
    "csv_header = csv_rows[0]\n",
    "csv_data = csv_rows[1:]\n",
    "\n",
    "# slice the airbnb data to get rid of the header row\n",
    "# airbnb_nh is the list of lists with \"no header\"\n",
    "airbnb_nh = csv_rows[1:]"
   ]
  },
  {
   "cell_type": "code",
   "execution_count": 3,
   "metadata": {
    "execution": {
     "iopub.execute_input": "2021-03-12T06:33:49.790165Z",
     "iopub.status.busy": "2021-03-12T06:33:49.784168Z",
     "iopub.status.idle": "2021-03-12T06:33:49.805136Z",
     "shell.execute_reply": "2021-03-12T06:33:49.804132Z"
    }
   },
   "outputs": [
    {
     "data": {
      "text/plain": [
       "['Private room', 'Entire home/apt', 'Shared room']"
      ]
     },
     "execution_count": 1,
     "metadata": {},
     "output_type": "execute_result"
    }
   ],
   "source": [
    "#q1\n",
    "# What room types are present in the airbnb dataset?\n",
    "def room_types():\n",
    "    room_types = []\n",
    "    for row in airbnb_nh:\n",
    "        row = row[8].strip()\n",
    "        if row not in room_types:\n",
    "            room_types.append(row)\n",
    "    return room_types\n",
    "room_types()"
   ]
  },
  {
   "cell_type": "code",
   "execution_count": 4,
   "metadata": {
    "execution": {
     "iopub.execute_input": "2021-03-12T06:33:49.819132Z",
     "iopub.status.busy": "2021-03-12T06:33:49.813131Z",
     "iopub.status.idle": "2021-03-12T06:33:49.837675Z",
     "shell.execute_reply": "2021-03-12T06:33:49.837675Z"
    }
   },
   "outputs": [
    {
     "data": {
      "text/plain": [
       "152.721"
      ]
     },
     "execution_count": 1,
     "metadata": {},
     "output_type": "execute_result"
    }
   ],
   "source": [
    "#q2\n",
    "# What is the average price?\n",
    "def average_price():\n",
    "    price_total = 0\n",
    "    row_total = 0\n",
    "    average_price = 0\n",
    "    for row in airbnb_nh:\n",
    "        price_total += float(row[9])\n",
    "        row_total += 1\n",
    "    average_price = price_total/row_total\n",
    "    return average_price\n",
    "round(average_price(), 3)"
   ]
  },
  {
   "cell_type": "code",
   "execution_count": 5,
   "metadata": {
    "execution": {
     "iopub.execute_input": "2021-03-12T06:33:49.850673Z",
     "iopub.status.busy": "2021-03-12T06:33:49.840677Z",
     "iopub.status.idle": "2021-03-12T06:33:49.853671Z",
     "shell.execute_reply": "2021-03-12T06:33:49.852707Z"
    }
   },
   "outputs": [
    {
     "data": {
      "text/plain": [
       "70"
      ]
     },
     "execution_count": 1,
     "metadata": {},
     "output_type": "execute_result"
    }
   ],
   "source": [
    "#q3\n",
    "# Count the number of rooms located in neighborhood \"Kingsbridge\"? (neighborhood==\"Kingsbridge\")\n",
    "def rooms_in_neighborhood(neighborhood):\n",
    "    room_count = 0\n",
    "    for row in airbnb_nh:\n",
    "        if row[5] == neighborhood:\n",
    "            room_count += 1\n",
    "    return room_count\n",
    "rooms_in_neighborhood('Kingsbridge')"
   ]
  },
  {
   "cell_type": "code",
   "execution_count": 6,
   "metadata": {
    "execution": {
     "iopub.execute_input": "2021-03-12T06:33:49.897674Z",
     "iopub.status.busy": "2021-03-12T06:33:49.894674Z",
     "iopub.status.idle": "2021-03-12T06:33:49.901672Z",
     "shell.execute_reply": "2021-03-12T06:33:49.901672Z"
    }
   },
   "outputs": [
    {
     "data": {
      "text/plain": [
       "15"
      ]
     },
     "execution_count": 1,
     "metadata": {},
     "output_type": "execute_result"
    }
   ],
   "source": [
    "#x\n",
    "# x\n",
    "def count_word_room_name(word):\n",
    "        word_count = 0\n",
    "        for row in airbnb_nh:\n",
    "            split_name = row[1].lower().split(\" \")\n",
    "            if word.lower() in split_name:\n",
    "                word_count += 1\n",
    "        return word_count\n",
    "count_word_room_name('superbowl')"
   ]
  },
  {
   "cell_type": "code",
   "execution_count": 7,
   "metadata": {
    "execution": {
     "iopub.execute_input": "2021-03-12T06:33:49.914673Z",
     "iopub.status.busy": "2021-03-12T06:33:49.904674Z",
     "iopub.status.idle": "2021-03-12T06:33:49.970676Z",
     "shell.execute_reply": "2021-03-12T06:33:49.969734Z"
    }
   },
   "outputs": [
    {
     "data": {
      "text/plain": [
       "['UWS MANHATTAN APT FOR SUPERBOWL WE',\n",
       " 'SuperBowl West Village Apartment',\n",
       " 'SUPERBOWL!! 2 Bd, 2 Ba w Roof Deck!',\n",
       " '1500 sq ft apt sleeps 8 - SuperBowl',\n",
       " 'Superbowl Studio Upper West Side',\n",
       " '1BR Superbowl rental Hells Kitchen',\n",
       " 'Superbowl - NYC Apartment',\n",
       " 'Tribeca Loft for Superbowl Wknd',\n",
       " 'NYC SuperBowl Wk 5 Bdrs River View ',\n",
       " 'Downtown NY Apt - SuperBowl Weekend',\n",
       " 'SuperBowl Penthouse Loft 3,000 sqft',\n",
       " 'Superbowl in the West Village',\n",
       " 'SUPERBOWLSUNDAY! 3BLOCK FROM TIMESQ',\n",
       " 'Super Apt for Superbowl',\n",
       " 'PERFECT SUPERBOWL STAY',\n",
       " 'MANHATTAN SUPERBOWL ACCOMODATION',\n",
       " 'SuperBowl Weekend Rental! 3 BR/1ba']"
      ]
     },
     "execution_count": 1,
     "metadata": {},
     "output_type": "execute_result"
    }
   ],
   "source": [
    "#q4\n",
    "# Find the room names containing \"superbowl\" (case insensitive)\n",
    "import re\n",
    "from re import search\n",
    "def find_word_room_name(word):\n",
    "        name_list = []\n",
    "        for row in airbnb_nh:\n",
    "            if search(word.lower(), row[1].lower()):\n",
    "                if row[1] not in name_list:\n",
    "                    name_list.append(row[1])\n",
    "        return name_list\n",
    "find_word_room_name('superbowl')"
   ]
  },
  {
   "cell_type": "code",
   "execution_count": 8,
   "metadata": {
    "execution": {
     "iopub.execute_input": "2021-03-12T06:33:49.979678Z",
     "iopub.status.busy": "2021-03-12T06:33:49.978678Z",
     "iopub.status.idle": "2021-03-12T06:33:50.228703Z",
     "shell.execute_reply": "2021-03-12T06:33:50.227709Z"
    }
   },
   "outputs": [
    {
     "data": {
      "text/plain": [
       "['*NO GUEST SERVICE FEE* Beekman Tower One Bedroom Suite with Queen Bed & Free Wifi',\n",
       " '*NO GUEST SERVICE FEE* Beekman Tower Studio with Queen Bed & Free Wifi',\n",
       " '1 bedroom furnished with WIFI and cable. Murr Hill',\n",
       " '2Bed/ 2Bath Impeccable Stylish Brooklyn Home',\n",
       " '5min walk to L train - Free WiFi & Cleaning',\n",
       " 'BIG BEDROOM CLOSE TO LA GUARDIA AIRPORT FREE WIFI',\n",
       " 'Cable and wfi, L/G included.',\n",
       " 'Coney Island  Amphitheat  MCU 1 br  Wifi Cable **',\n",
       " 'Coney Island MCU Park Wi fi Cable Apt****',\n",
       " 'Cozy, impeccable, sunlit West Village studio',\n",
       " 'Cozy,budget friendly, cable inc, private entrance!',\n",
       " 'Explore NYC From Our Private Studio w/Free Wifi',\n",
       " 'Great Chelsea Location, Couch/2nd bed, Free WiFi',\n",
       " 'Historic Turret Retreat (Smart TV/Cable/Wifi)',\n",
       " 'Huge 1bdrm w pt Doorman, WiFi/Cable, Bottled Water',\n",
       " 'Impeccable Private one&half bedroom and full bath',\n",
       " 'J- **LUXURY SHARED ROOM 2PPL FREE WIFI+CABLE+AC',\n",
       " 'J- *LUXURY SHARED ROOM AC FREE WIFI CABLE, GARDEN',\n",
       " 'J- COZY ROOM FOR 1 FEMALE FREE WIFI & COFFEE',\n",
       " 'J- HOTEL STYLE SHARE ROOM FOR 2PPL FREE CABLE WIFI',\n",
       " 'J- HOTEL STYLE SHARE ROOM FOR 2PPL FREE WIFI CABLE',\n",
       " 'J- LUXURY SHARED ROOM, AC FREE WIFI+CABLE GARDEN',\n",
       " 'Landmark 1 Bedroom has 2 beds, Free WiFi',\n",
       " 'Luxury condo- private room + bath w cable TV/W/D',\n",
       " 'Modern and Safe Place,Free Wifi',\n",
       " 'Newly renovated 2 bedroom with FREE WIFI',\n",
       " 'One Bedroom Mini studio - Free WIFI',\n",
       " 'PRIVATE 1BR APT: Free WIFI & DIRECT TV',\n",
       " 'Private 2 BR APT: Free WIFI & JACUZZI',\n",
       " 'Private Bedroom in MANHATTAN (Free Wifi)',\n",
       " 'Private Studio: Landmark Dt (Smart TV/Wifi/Cable)',\n",
       " 'Pvt entrance lower level apt w/cable-wi-fi pvt bth',\n",
       " 'ROOM AC WI-FI PARKING CABLE FOR 2',\n",
       " 'Staten Island - Free Wifi, Parking Space, Near NYC',\n",
       " 'Sunny Hudson Yards/ Chelsea Studio, Free WiFi',\n",
       " 'Tudor Studio (Wifi/Premium Cable) w Private Entry']"
      ]
     },
     "execution_count": 1,
     "metadata": {},
     "output_type": "execute_result"
    }
   ],
   "source": [
    "#q5\n",
    "# Find the room names containing \"free wifi\" (case insensitive) or \"cable\" (case insensitive)\n",
    "import re\n",
    "import numpy\n",
    "def find_strings_room_name(string1, string2 = ' '):\n",
    "        name_list1 = find_word_room_name(string1)\n",
    "        name_list2 = find_word_room_name(string2)\n",
    "        final_name_list = numpy.unique(name_list1+name_list2)\n",
    "        return final_name_list.tolist()\n",
    "find_strings_room_name('free wifi', 'cable')"
   ]
  },
  {
   "cell_type": "code",
   "execution_count": 9,
   "metadata": {
    "execution": {
     "iopub.execute_input": "2021-03-12T06:33:50.258667Z",
     "iopub.status.busy": "2021-03-12T06:33:50.235702Z",
     "iopub.status.idle": "2021-03-12T06:33:50.304668Z",
     "shell.execute_reply": "2021-03-12T06:33:50.303667Z"
    }
   },
   "outputs": [
    {
     "data": {
      "text/plain": [
       "['Orlando', 'Ronaldo', 'Rolando']"
      ]
     },
     "execution_count": 1,
     "metadata": {},
     "output_type": "execute_result"
    }
   ],
   "source": [
    "#q6\n",
    "# Which host names (host_name column) are anagrams of the phrase \"loondar\"?\n",
    "import re\n",
    "def find_anagram_room_name(string):\n",
    "    anagram_list = []\n",
    "    for row in airbnb_nh:\n",
    "        host_name = str(row[3]).lower()\n",
    "        string = string.lower()\n",
    "        if(sorted(string) == sorted(host_name)):\n",
    "            if row[3] not in anagram_list:\n",
    "                anagram_list.append(row[3])   \n",
    "    return anagram_list\n",
    "find_anagram_room_name('loondar')"
   ]
  },
  {
   "cell_type": "code",
   "execution_count": 10,
   "metadata": {
    "execution": {
     "iopub.execute_input": "2021-03-12T06:33:50.323667Z",
     "iopub.status.busy": "2021-03-12T06:33:50.312667Z",
     "iopub.status.idle": "2021-03-12T06:33:50.330667Z",
     "shell.execute_reply": "2021-03-12T06:33:50.329702Z"
    }
   },
   "outputs": [
    {
     "data": {
      "text/plain": [
       "['568684',\n",
       " '1615764',\n",
       " '4204302',\n",
       " '5431845',\n",
       " '6169897',\n",
       " '8341919',\n",
       " '8668115',\n",
       " '10053943',\n",
       " '11096888',\n",
       " '12888849',\n",
       " '20990053',\n",
       " '27362309',\n",
       " '30378211',\n",
       " '35834935']"
      ]
     },
     "execution_count": 1,
     "metadata": {},
     "output_type": "execute_result"
    }
   ],
   "source": [
    "#q7\n",
    "# List all room ids that require the minimum nights greater than 365 days (minimum_nights > 365)\n",
    "def find_minimum_nights(nights):\n",
    "    room_id_list = []\n",
    "    for row in airbnb_nh:\n",
    "        minimum_nights = int(row[10])\n",
    "        if minimum_nights > nights:\n",
    "            if row[10] not in room_id_list:\n",
    "                room_id_list.append(row[0])   \n",
    "    return room_id_list\n",
    "find_minimum_nights(365)"
   ]
  },
  {
   "cell_type": "code",
   "execution_count": 11,
   "metadata": {
    "execution": {
     "iopub.execute_input": "2021-03-12T06:33:50.343690Z",
     "iopub.status.busy": "2021-03-12T06:33:50.339669Z",
     "iopub.status.idle": "2021-03-12T06:33:50.368666Z",
     "shell.execute_reply": "2021-03-12T06:33:50.369666Z"
    }
   },
   "outputs": [
    {
     "data": {
      "text/plain": [
       "['1475015',\n",
       " '7503643',\n",
       " '16098958',\n",
       " '30283594',\n",
       " '61391963',\n",
       " '22541573',\n",
       " '107434423',\n",
       " '12243051',\n",
       " '137358866',\n",
       " '200380610',\n",
       " '219517861']"
      ]
     },
     "execution_count": 1,
     "metadata": {},
     "output_type": "execute_result"
    }
   ],
   "source": [
    "#q8\n",
    "# List all host ids who are hosting greater than 50 rooms. (calculated_host_listings_count > 50)\n",
    "def top_hosts_by_property(properties):\n",
    "    host_id_list = {}\n",
    "    final_host_id_list = []\n",
    "    for row in airbnb_nh:\n",
    "        if row[2] not in host_id_list:\n",
    "            host_id_list[row[2]] = int(row[14])\n",
    "    for key in host_id_list:\n",
    "        if host_id_list.get(key) > properties:\n",
    "            if key not in final_host_id_list:\n",
    "                final_host_id_list.append(key)\n",
    "    return final_host_id_list\n",
    "top_hosts_by_property(50)"
   ]
  },
  {
   "cell_type": "code",
   "execution_count": 12,
   "metadata": {
    "execution": {
     "iopub.execute_input": "2021-03-12T06:33:50.377669Z",
     "iopub.status.busy": "2021-03-12T06:33:50.372666Z",
     "iopub.status.idle": "2021-03-12T06:33:50.389666Z",
     "shell.execute_reply": "2021-03-12T06:33:50.389666Z"
    }
   },
   "outputs": [
    {
     "data": {
      "text/plain": [
       "2.372"
      ]
     },
     "execution_count": 1,
     "metadata": {},
     "output_type": "execute_result"
    }
   ],
   "source": [
    "#q9\n",
    "# What percentage of rooms are shared rooms? (room_type == \"Shared room\")\n",
    "def percentage_room_by_type(type):\n",
    "    search_type_total = float(0)\n",
    "    room_total = float(0)\n",
    "    for row in airbnb_nh:\n",
    "        room_total += 1\n",
    "        if row[8] == type:\n",
    "            search_type_total += 1\n",
    "    return round(((search_type_total/room_total) * 100), 3)\n",
    "percentage_room_by_type('Shared room')"
   ]
  },
  {
   "cell_type": "code",
   "execution_count": 13,
   "metadata": {
    "execution": {
     "iopub.execute_input": "2021-03-12T06:33:50.401709Z",
     "iopub.status.busy": "2021-03-12T06:33:50.396709Z",
     "iopub.status.idle": "2021-03-12T06:33:50.412703Z",
     "shell.execute_reply": "2021-03-12T06:33:50.413665Z"
    }
   },
   "outputs": [
    {
     "data": {
      "text/plain": [
       "['Huge Brooklyn Brownstone Living, Close to it all.',\n",
       " 'MARTIAL LOFT 3: REDEMPTION (upstairs, 2nd room)',\n",
       " 'Sunny, Quiet Room in Greenpoint',\n",
       " 'Modern apartment in the heart of Williamsburg',\n",
       " 'Spacious comfortable master bedroom with nice view',\n",
       " 'Contemporary bedroom in brownstone with nice view',\n",
       " 'Cozy yet spacious private brownstone bedroom',\n",
       " 'Coliving in Brooklyn! Modern design / Shared room',\n",
       " 'Best Coliving space ever! Shared room.']"
      ]
     },
     "execution_count": 1,
     "metadata": {},
     "output_type": "execute_result"
    }
   ],
   "source": [
    "#q10\n",
    "# What are the names of the cheapest rooms in Brooklyn (neighborhood_group == \"Brooklyn\")\n",
    "def cheapest_room_by_neighborhood_group(neighborhood_group):\n",
    "    cheapest_room_price = float(0)\n",
    "    cheapest_room_name = []\n",
    "    for row in airbnb_nh:\n",
    "        if row[4] == neighborhood_group:\n",
    "            if cheapest_room_price == 0:\n",
    "                cheapest_room_price = row[9]\n",
    "                if row[1] not in cheapest_room_name:\n",
    "                    cheapest_room_name.append(row[1])\n",
    "            elif row[9] < cheapest_room_price:\n",
    "                cheapest_room_price = row[9]\n",
    "                cheapest_room_name.clear()\n",
    "                if row[1] not in cheapest_room_name:\n",
    "                    cheapest_room_name.append(row[1])\n",
    "            elif row[9] == cheapest_room_price:\n",
    "                if row[1] not in cheapest_room_name:\n",
    "                    cheapest_room_name.append(row[1])\n",
    "    return cheapest_room_name\n",
    "cheapest_room_by_neighborhood_group('Brooklyn')"
   ]
  },
  {
   "cell_type": "code",
   "execution_count": 14,
   "metadata": {
    "execution": {
     "iopub.execute_input": "2021-03-12T06:33:50.428663Z",
     "iopub.status.busy": "2021-03-12T06:33:50.426665Z",
     "iopub.status.idle": "2021-03-12T06:33:50.432667Z",
     "shell.execute_reply": "2021-03-12T06:33:50.431689Z"
    }
   },
   "outputs": [
    {
     "data": {
      "text/plain": [
       "['the best you can find']"
      ]
     },
     "execution_count": 1,
     "metadata": {},
     "output_type": "execute_result"
    }
   ],
   "source": [
    "#q11\n",
    "# What are the names of the cheapest rooms in Manhattan (neighborhood_group == \"Manhattan\")\n",
    "cheapest_room_by_neighborhood_group('Manhattan')"
   ]
  },
  {
   "cell_type": "code",
   "execution_count": 15,
   "metadata": {
    "execution": {
     "iopub.execute_input": "2021-03-12T06:33:50.449664Z",
     "iopub.status.busy": "2021-03-12T06:33:50.439666Z",
     "iopub.status.idle": "2021-03-12T06:33:50.480668Z",
     "shell.execute_reply": "2021-03-12T06:33:50.479669Z"
    }
   },
   "outputs": [
    {
     "data": {
      "text/plain": [
       "1.022"
      ]
     },
     "execution_count": 1,
     "metadata": {},
     "output_type": "execute_result"
    }
   ],
   "source": [
    "#q12\n",
    "# What is the average ratio of the number of reviews to availability? (Ignore rooms that has availability_365==0)\n",
    "def average_reviews_to_availability_ratio():\n",
    "    ratio_list = []\n",
    "    for row in airbnb_nh:\n",
    "        if float(row[15]) != 0:\n",
    "            ratio_list.append(float(row[11])/float(row[15]))\n",
    "        else:\n",
    "            continue\n",
    "    return round((sum(ratio_list)/len(ratio_list)), 3)\n",
    "average_reviews_to_availability_ratio()"
   ]
  },
  {
   "cell_type": "code",
   "execution_count": 16,
   "metadata": {
    "execution": {
     "iopub.execute_input": "2021-03-12T06:33:50.505698Z",
     "iopub.status.busy": "2021-03-12T06:33:50.493664Z",
     "iopub.status.idle": "2021-03-12T06:33:50.543171Z",
     "shell.execute_reply": "2021-03-12T06:33:50.543171Z"
    }
   },
   "outputs": [
    {
     "data": {
      "text/plain": [
       "['22463977']"
      ]
     },
     "execution_count": 1,
     "metadata": {},
     "output_type": "execute_result"
    }
   ],
   "source": [
    "#q13\n",
    "# Which room ids have the highest reviews_per_month among rooms within (40.50 <= latitude <= 40.75, -74.00 <= longitude <= -73.95)\n",
    "def highest_reviews_per_month_by_coordinates(lat1, lat2, long1, long2):\n",
    "    highest_reviews = 0\n",
    "    highest_reviews_id = []\n",
    "    for row in airbnb_nh:\n",
    "        latitude = float(row[6])\n",
    "        longitude = float(row[7])\n",
    "        #print(latitude, longitude, reviews)\n",
    "        if row[13] == '' or row[13] == 0:\n",
    "            continue\n",
    "        if lat1 <= latitude <= lat2 and abs(long1) >= abs(longitude) >= abs(long2):\n",
    "            reviews = float(row[13])\n",
    "            #print(row[1], lat1, latitude, lat2, long1, longitude, long2, row[13])\n",
    "            #print(type(row[13]))\n",
    "            #print(abs(longitude))\n",
    "            #print(abs(-74.00) >= abs(-73.97023) >= abs(-73.95))\n",
    "            if highest_reviews == 0:\n",
    "                highest_reviews = reviews\n",
    "                if row[0] not in highest_reviews_id:\n",
    "                    highest_reviews_id.append(row[0])\n",
    "            elif highest_reviews < reviews:\n",
    "                highest_reviews = reviews\n",
    "                highest_reviews_id.clear()\n",
    "                if row[0] not in highest_reviews_id:\n",
    "                    highest_reviews_id.append(row[0])\n",
    "            elif reviews == highest_reviews:\n",
    "                if row[0] not in highest_reviews_id:\n",
    "                    highest_reviews_id.append(row[0])\n",
    "        #print(highest_reviews_name)\n",
    "    return highest_reviews_id\n",
    "highest_reviews_per_month_by_coordinates(40.50, 40.75, -74.00, -73.95)"
   ]
  },
  {
   "cell_type": "code",
   "execution_count": 17,
   "metadata": {
    "execution": {
     "iopub.execute_input": "2021-03-12T06:33:50.589169Z",
     "iopub.status.busy": "2021-03-12T06:33:50.574171Z",
     "iopub.status.idle": "2021-03-12T06:33:50.592195Z",
     "shell.execute_reply": "2021-03-12T06:33:50.591211Z"
    }
   },
   "outputs": [
    {
     "data": {
      "text/plain": [
       "['16276632']"
      ]
     },
     "execution_count": 1,
     "metadata": {},
     "output_type": "execute_result"
    }
   ],
   "source": [
    "#q14\n",
    "# Which room ids have the highest reviews_per_month among rooms within (40.75 <= latitude <= 41.00, -73.95 <= longitude <= -73.85)\n",
    "highest_reviews_per_month_by_coordinates(40.75, 41.00, -73.95, -73.85)"
   ]
  },
  {
   "cell_type": "code",
   "execution_count": 18,
   "metadata": {
    "execution": {
     "iopub.execute_input": "2021-03-12T06:33:50.607170Z",
     "iopub.status.busy": "2021-03-12T06:33:50.607170Z",
     "iopub.status.idle": "2021-03-12T06:33:50.611169Z",
     "shell.execute_reply": "2021-03-12T06:33:50.611169Z"
    }
   },
   "outputs": [
    {
     "data": {
      "text/plain": [
       "['32363', '59121', '479285', '679633', '766964']"
      ]
     },
     "execution_count": 1,
     "metadata": {},
     "output_type": "execute_result"
    }
   ],
   "source": [
    "def get_year(date):\n",
    "    '''Returns the year when the date is the in the 'mm/dd/yyyy' format'''\n",
    "    pass #TODO: Use string slicing to return the year\n",
    "    return int(date[:4])\n",
    "\n",
    "#q15\n",
    "# Which room ids in Queens (neighborhood_group == \"Queens\") have not received a review since 2013?\n",
    "def last_review_year(neighborhood_group, year):\n",
    "    room_ids = []\n",
    "    for row in airbnb_nh:\n",
    "        #print(row[12], get_year(row[12]))\n",
    "        if not row[12] or row[4] != neighborhood_group:\n",
    "            continue\n",
    "        else:\n",
    "            if get_year(row[12]) < year:\n",
    "                if row[0] not in room_ids:\n",
    "                    room_ids.append(row[0])\n",
    "    return room_ids\n",
    "last_review_year('Queens', 2013)"
   ]
  },
  {
   "cell_type": "code",
   "execution_count": 19,
   "metadata": {
    "execution": {
     "iopub.execute_input": "2021-03-12T06:33:50.615168Z",
     "iopub.status.busy": "2021-03-12T06:33:50.614170Z",
     "iopub.status.idle": "2021-03-12T06:33:50.618195Z",
     "shell.execute_reply": "2021-03-12T06:33:50.617217Z"
    }
   },
   "outputs": [],
   "source": [
    "#q16"
   ]
  },
  {
   "cell_type": "code",
   "execution_count": 20,
   "metadata": {
    "execution": {
     "iopub.execute_input": "2021-03-12T06:33:50.621168Z",
     "iopub.status.busy": "2021-03-12T06:33:50.621168Z",
     "iopub.status.idle": "2021-03-12T06:33:50.624170Z",
     "shell.execute_reply": "2021-03-12T06:33:50.623204Z"
    }
   },
   "outputs": [],
   "source": [
    "#q17"
   ]
  },
  {
   "cell_type": "code",
   "execution_count": 21,
   "metadata": {
    "execution": {
     "iopub.execute_input": "2021-03-12T06:33:50.627170Z",
     "iopub.status.busy": "2021-03-12T06:33:50.627170Z",
     "iopub.status.idle": "2021-03-12T06:33:50.630194Z",
     "shell.execute_reply": "2021-03-12T06:33:50.630194Z"
    }
   },
   "outputs": [],
   "source": [
    "#q18"
   ]
  },
  {
   "cell_type": "code",
   "execution_count": 22,
   "metadata": {
    "execution": {
     "iopub.execute_input": "2021-03-12T06:33:50.633195Z",
     "iopub.status.busy": "2021-03-12T06:33:50.632204Z",
     "iopub.status.idle": "2021-03-12T06:33:50.636169Z",
     "shell.execute_reply": "2021-03-12T06:33:50.636169Z"
    }
   },
   "outputs": [],
   "source": [
    "#q19"
   ]
  },
  {
   "cell_type": "code",
   "execution_count": 23,
   "metadata": {
    "execution": {
     "iopub.execute_input": "2021-03-12T06:33:50.640207Z",
     "iopub.status.busy": "2021-03-12T06:33:50.639201Z",
     "iopub.status.idle": "2021-03-12T06:33:50.642194Z",
     "shell.execute_reply": "2021-03-12T06:33:50.641221Z"
    }
   },
   "outputs": [],
   "source": [
    "#q20"
   ]
  }
 ],
 "metadata": {
  "kernelspec": {
   "display_name": "Python 3",
   "language": "python",
   "name": "python3"
  },
  "language_info": {
   "codemirror_mode": {
    "name": "ipython",
    "version": 3
   },
   "file_extension": ".py",
   "mimetype": "text/x-python",
   "name": "python",
   "nbconvert_exporter": "python",
   "pygments_lexer": "ipython3",
   "version": "3.8.5"
  }
 },
 "nbformat": 4,
 "nbformat_minor": 4
}
