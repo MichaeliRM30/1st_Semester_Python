{
 "cells": [
  {
   "cell_type": "code",
   "execution_count": 1,
   "metadata": {},
   "outputs": [],
   "source": [
    "# project: p4\n",
    "# submitter: RMM052/RMichaelis2\n",
    "# partner: N/A\n",
    "# hours: 2.25"
   ]
  },
  {
   "cell_type": "code",
   "execution_count": 2,
   "metadata": {},
   "outputs": [],
   "source": [
    "import project"
   ]
  },
  {
   "cell_type": "code",
   "execution_count": 3,
   "metadata": {},
   "outputs": [
    {
     "data": {
      "text/plain": [
       "['__builtins__',\n",
       " '__cached__',\n",
       " '__doc__',\n",
       " '__file__',\n",
       " '__init__',\n",
       " '__loader__',\n",
       " '__name__',\n",
       " '__package__',\n",
       " '__pokemon__',\n",
       " '__spec__',\n",
       " 'get_attack',\n",
       " 'get_defense',\n",
       " 'get_hp',\n",
       " 'get_region',\n",
       " 'get_sp_atk',\n",
       " 'get_sp_def',\n",
       " 'get_speed',\n",
       " 'get_type1',\n",
       " 'get_type2',\n",
       " 'print_stats']"
      ]
     },
     "execution_count": 3,
     "metadata": {},
     "output_type": "execute_result"
    }
   ],
   "source": [
    "dir(project)"
   ]
  },
  {
   "cell_type": "code",
   "execution_count": 4,
   "metadata": {},
   "outputs": [
    {
     "name": "stdout",
     "output_type": "stream",
     "text": [
      "Name :  Jigglypuff\n",
      "Attack :  45\n",
      "Defense :  20\n",
      "HP :  115\n",
      "Region :  Kanto\n",
      "Sp. Atk :  45\n",
      "Sp. Def :  25\n",
      "Speed :  20\n",
      "Type 1 :  Normal\n",
      "Type 2 :  Fairy\n"
     ]
    }
   ],
   "source": [
    "project.print_stats('Jigglypuff')"
   ]
  },
  {
   "cell_type": "code",
   "execution_count": 5,
   "metadata": {},
   "outputs": [
    {
     "name": "stdout",
     "output_type": "stream",
     "text": [
      "Name :  Squirtle\n",
      "Attack :  48\n",
      "Defense :  65\n",
      "HP :  44\n",
      "Region :  Kanto\n",
      "Sp. Atk :  50\n",
      "Sp. Def :  64\n",
      "Speed :  43\n",
      "Type 1 :  Water\n"
     ]
    }
   ],
   "source": [
    "project.print_stats('Squirtle')"
   ]
  },
  {
   "cell_type": "code",
   "execution_count": 6,
   "metadata": {},
   "outputs": [],
   "source": [
    "def simple_battle(pkmn1, pkmn2):\n",
    "    \n",
    "    #TODO: For the first few questions, we will try to simulate a very simple 'battle'. Create a function simple_battle(pkmn1, pkmn2) which simply returns the name of the Pokémon with the highest stat total.\n",
    "    \n",
    "    total_stats_pkmn1 = sum([project.get_hp(pkmn1), project.get_attack(pkmn1), project.get_defense(pkmn1), project.get_sp_atk(pkmn1), project.get_sp_def(pkmn1), project.get_speed(pkmn1)])\n",
    "    \n",
    "    total_stats_pkmn2 = sum([project.get_hp(pkmn2), project.get_attack(pkmn2), project.get_defense(pkmn2), project.get_sp_atk(pkmn2), project.get_sp_def(pkmn2), project.get_speed(pkmn2)])\n",
    "    \n",
    "    if total_stats_pkmn1 > total_stats_pkmn2:\n",
    "        \n",
    "        if total_stats_pkmn1 - total_stats_pkmn2 > 300:\n",
    "            \n",
    "            return pkmn2 + ' ran away'\n",
    "        \n",
    "        return pkmn1\n",
    "    \n",
    "    elif total_stats_pkmn1 < total_stats_pkmn2:\n",
    "        \n",
    "        if total_stats_pkmn2 - total_stats_pkmn1 > 300:\n",
    "            \n",
    "            return pkmn1 + ' ran away'\n",
    "        \n",
    "        return pkmn2\n",
    "    \n",
    "    else:\n",
    "        \n",
    "        # In such cases, we want our function to return the string 'Draw' instead of choosing between the two Pokémon.\n",
    "        \n",
    "        return 'Draw'"
   ]
  },
  {
   "cell_type": "code",
   "execution_count": 7,
   "metadata": {},
   "outputs": [
    {
     "data": {
      "text/plain": [
       "'Squirtle'"
      ]
     },
     "execution_count": 7,
     "metadata": {},
     "output_type": "execute_result"
    }
   ],
   "source": [
    "#q1\n",
    "\n",
    "simple_battle('Jigglypuff', 'Squirtle')"
   ]
  },
  {
   "cell_type": "code",
   "execution_count": 8,
   "metadata": {},
   "outputs": [
    {
     "data": {
      "text/plain": [
       "'Steelix'"
      ]
     },
     "execution_count": 8,
     "metadata": {},
     "output_type": "execute_result"
    }
   ],
   "source": [
    "#q2\n",
    "\n",
    "simple_battle('Steelix', 'Mankey')"
   ]
  },
  {
   "cell_type": "code",
   "execution_count": 9,
   "metadata": {},
   "outputs": [
    {
     "data": {
      "text/plain": [
       "'Draw'"
      ]
     },
     "execution_count": 9,
     "metadata": {},
     "output_type": "execute_result"
    }
   ],
   "source": [
    "#q3\n",
    "\n",
    "simple_battle('Krabby', 'Seel')"
   ]
  },
  {
   "cell_type": "code",
   "execution_count": 10,
   "metadata": {},
   "outputs": [
    {
     "data": {
      "text/plain": [
       "'Piplup ran away'"
      ]
     },
     "execution_count": 10,
     "metadata": {},
     "output_type": "execute_result"
    }
   ],
   "source": [
    "#q4\n",
    "\n",
    "simple_battle('Piplup', 'Arceus')"
   ]
  },
  {
   "cell_type": "code",
   "execution_count": 11,
   "metadata": {},
   "outputs": [
    {
     "data": {
      "text/plain": [
       "'Azurill ran away'"
      ]
     },
     "execution_count": 11,
     "metadata": {},
     "output_type": "execute_result"
    }
   ],
   "source": [
    "#q5\n",
    "\n",
    "simple_battle('Weavile', 'Azurill')"
   ]
  },
  {
   "cell_type": "code",
   "execution_count": 12,
   "metadata": {},
   "outputs": [
    {
     "data": {
      "text/plain": [
       "12.0968"
      ]
     },
     "execution_count": 12,
     "metadata": {},
     "output_type": "execute_result"
    }
   ],
   "source": [
    "def most_damage(attacker, defender):\n",
    "    \n",
    "    physical_damage = round(10 * project.get_attack(attacker)/project.get_defense(defender), 4)\n",
    "    \n",
    "    special_damage = round(10 * project.get_sp_atk(attacker)/project.get_sp_def(defender), 4)\n",
    "    \n",
    "    if physical_damage > special_damage:\n",
    "        \n",
    "        return physical_damage\n",
    "    \n",
    "    else:\n",
    "        \n",
    "        return special_damage\n",
    "    \n",
    "most_damage('Scraggy', 'Tranquill')"
   ]
  },
  {
   "cell_type": "code",
   "execution_count": 13,
   "metadata": {},
   "outputs": [
    {
     "data": {
      "text/plain": [
       "25.0"
      ]
     },
     "execution_count": 13,
     "metadata": {},
     "output_type": "execute_result"
    }
   ],
   "source": [
    "#q6\n",
    "\n",
    "most_damage('Sudowoodo', 'Mareep')"
   ]
  },
  {
   "cell_type": "code",
   "execution_count": 14,
   "metadata": {},
   "outputs": [
    {
     "data": {
      "text/plain": [
       "42.5"
      ]
     },
     "execution_count": 14,
     "metadata": {},
     "output_type": "execute_result"
    }
   ],
   "source": [
    "#q7\n",
    "\n",
    "most_damage('Blastoise', 'Weedle')"
   ]
  },
  {
   "cell_type": "code",
   "execution_count": 15,
   "metadata": {},
   "outputs": [],
   "source": [
    "import math\n",
    "\n",
    "def num_hits(attacker, defender):\n",
    "    \n",
    "    return math.ceil(project.get_hp(defender)/most_damage(attacker, defender))"
   ]
  },
  {
   "cell_type": "code",
   "execution_count": 16,
   "metadata": {},
   "outputs": [
    {
     "data": {
      "text/plain": [
       "2"
      ]
     },
     "execution_count": 16,
     "metadata": {},
     "output_type": "execute_result"
    }
   ],
   "source": [
    "#q8\n",
    "\n",
    "num_hits('Wartortle', 'Caterpie')"
   ]
  },
  {
   "cell_type": "code",
   "execution_count": 17,
   "metadata": {},
   "outputs": [
    {
     "data": {
      "text/plain": [
       "9"
      ]
     },
     "execution_count": 17,
     "metadata": {},
     "output_type": "execute_result"
    }
   ],
   "source": [
    "#q9\n",
    "\n",
    "num_hits('Pikachu', 'Aggron')"
   ]
  },
  {
   "cell_type": "code",
   "execution_count": 18,
   "metadata": {},
   "outputs": [
    {
     "data": {
      "text/plain": [
       "2"
      ]
     },
     "execution_count": 18,
     "metadata": {},
     "output_type": "execute_result"
    }
   ],
   "source": [
    "#q10\n",
    "\n",
    "num_hits('Aggron', 'Pikachu')"
   ]
  },
  {
   "cell_type": "code",
   "execution_count": 19,
   "metadata": {},
   "outputs": [],
   "source": [
    "def battle(pkmn1, pkmn2):\n",
    "    \n",
    "    # Make sure the function says the Pokémon that can take less hits ran away!\n",
    "    \n",
    "    num_hits_pkmn1_can_take = num_hits(pkmn2, pkmn1)\n",
    "    \n",
    "    num_hits_pkmn2_can_take = num_hits(pkmn1, pkmn2)\n",
    "    \n",
    "    #TODO: Return the name of the pkmn that can take more hits from the other pkmn. If both pkmn faint within the same number of moves, return the string 'Draw'\n",
    "\n",
    "    if num_hits(pkmn1, pkmn2) < num_hits(pkmn2, pkmn1):\n",
    "        \n",
    "        if abs(num_hits_pkmn1_can_take - num_hits_pkmn2_can_take) > 10:\n",
    "        \n",
    "            return pkmn2 + ' ran away'\n",
    "        \n",
    "        return pkmn1\n",
    "        \n",
    "    elif num_hits(pkmn1, pkmn2) > num_hits(pkmn2, pkmn1):\n",
    "        \n",
    "        if abs(num_hits_pkmn2_can_take - num_hits_pkmn1_can_take) > 10:\n",
    "        \n",
    "            return pkmn1 + ' ran away'\n",
    "        \n",
    "        return pkmn2\n",
    "    \n",
    "    elif num_hits(pkmn1, pkmn2) == num_hits(pkmn2, pkmn1):\n",
    "        \n",
    "        if project.get_speed(pkmn1) > project.get_speed(pkmn2):\n",
    "            \n",
    "            return pkmn1\n",
    "        \n",
    "        elif project.get_speed(pkmn1) < project.get_speed(pkmn2):\n",
    "            \n",
    "            return pkmn2\n",
    "        \n",
    "        else:\n",
    "        \n",
    "            return 'Draw'"
   ]
  },
  {
   "cell_type": "code",
   "execution_count": 20,
   "metadata": {},
   "outputs": [
    {
     "data": {
      "text/plain": [
       "'Scraggy'"
      ]
     },
     "execution_count": 20,
     "metadata": {},
     "output_type": "execute_result"
    }
   ],
   "source": [
    "#q11\n",
    "\n",
    "battle('Krabby', 'Scraggy')"
   ]
  },
  {
   "cell_type": "code",
   "execution_count": 21,
   "metadata": {},
   "outputs": [
    {
     "data": {
      "text/plain": [
       "'Charizard'"
      ]
     },
     "execution_count": 21,
     "metadata": {},
     "output_type": "execute_result"
    }
   ],
   "source": [
    "#q12\n",
    "\n",
    "battle('Charizard','Krabby')"
   ]
  },
  {
   "cell_type": "code",
   "execution_count": 22,
   "metadata": {},
   "outputs": [
    {
     "data": {
      "text/plain": [
       "'Shellder'"
      ]
     },
     "execution_count": 22,
     "metadata": {},
     "output_type": "execute_result"
    }
   ],
   "source": [
    "#q13\n",
    "\n",
    "battle('Shuckle', 'Shellder')"
   ]
  },
  {
   "cell_type": "code",
   "execution_count": 23,
   "metadata": {},
   "outputs": [
    {
     "data": {
      "text/plain": [
       "'Charmander'"
      ]
     },
     "execution_count": 23,
     "metadata": {},
     "output_type": "execute_result"
    }
   ],
   "source": [
    "#q14\n",
    "\n",
    "battle('Charmander', 'Tympole')"
   ]
  },
  {
   "cell_type": "code",
   "execution_count": 24,
   "metadata": {},
   "outputs": [
    {
     "data": {
      "text/plain": [
       "'Draw'"
      ]
     },
     "execution_count": 24,
     "metadata": {},
     "output_type": "execute_result"
    }
   ],
   "source": [
    "#q15\n",
    "\n",
    "battle('Mudkip', 'Gulpin')"
   ]
  },
  {
   "cell_type": "code",
   "execution_count": 25,
   "metadata": {
    "scrolled": true
   },
   "outputs": [
    {
     "data": {
      "text/plain": [
       "'Shuckle ran away'"
      ]
     },
     "execution_count": 25,
     "metadata": {},
     "output_type": "execute_result"
    }
   ],
   "source": [
    "#q16\n",
    "\n",
    "battle('Shuckle', 'Ursaring')"
   ]
  },
  {
   "cell_type": "code",
   "execution_count": 26,
   "metadata": {},
   "outputs": [
    {
     "data": {
      "text/plain": [
       "'Noibat ran away'"
      ]
     },
     "execution_count": 26,
     "metadata": {},
     "output_type": "execute_result"
    }
   ],
   "source": [
    "#q17\n",
    "\n",
    "battle('Metagross', 'Noibat')"
   ]
  },
  {
   "cell_type": "code",
   "execution_count": 35,
   "metadata": {},
   "outputs": [],
   "source": [
    "def final_battle(pkmn1, pkmn2):\n",
    "    \n",
    "    #Create a new function final_battle(pkmn1, pkmn2) so that if two Pokémon from different regions try to fight each other, the function returns 'Cannot battle'. If both Pokémon are from the same region, the battle proceeds as before.\n",
    "    \n",
    "    if project.get_region(pkmn1) != project.get_region(pkmn2):\n",
    "        \n",
    "        if project.get_type1(pkmn1) == 'Flying' or project.get_type2(pkmn1) == 'Flying' and project.get_type1(pkmn2) == 'Flying' or project.get_type2(pkmn2) == 'Flying':\n",
    "        \n",
    "            return battle(pkmn1, pkmn2)\n",
    "    \n",
    "    return 'Cannot battle'"
   ]
  },
  {
   "cell_type": "code",
   "execution_count": 36,
   "metadata": {},
   "outputs": [
    {
     "data": {
      "text/plain": [
       "'Cannot battle'"
      ]
     },
     "execution_count": 36,
     "metadata": {},
     "output_type": "execute_result"
    }
   ],
   "source": [
    "#q18\n",
    "\n",
    "final_battle('Geodude', 'Snivy')"
   ]
  },
  {
   "cell_type": "code",
   "execution_count": 37,
   "metadata": {},
   "outputs": [
    {
     "data": {
      "text/plain": [
       "'Cannot battle'"
      ]
     },
     "execution_count": 37,
     "metadata": {},
     "output_type": "execute_result"
    }
   ],
   "source": [
    "#q19\n",
    "\n",
    "final_battle('Zapdos', 'Foongus')"
   ]
  },
  {
   "cell_type": "code",
   "execution_count": 38,
   "metadata": {},
   "outputs": [
    {
     "data": {
      "text/plain": [
       "'Starly'"
      ]
     },
     "execution_count": 38,
     "metadata": {},
     "output_type": "execute_result"
    }
   ],
   "source": [
    "#q20\n",
    "\n",
    "final_battle('Starly', 'Pidgey')"
   ]
  },
  {
   "cell_type": "code",
   "execution_count": null,
   "metadata": {},
   "outputs": [],
   "source": []
  }
 ],
 "metadata": {
  "kernelspec": {
   "display_name": "Python 3",
   "language": "python",
   "name": "python3"
  },
  "language_info": {
   "codemirror_mode": {
    "name": "ipython",
    "version": 3
   },
   "file_extension": ".py",
   "mimetype": "text/x-python",
   "name": "python",
   "nbconvert_exporter": "python",
   "pygments_lexer": "ipython3",
   "version": "3.8.5"
  }
 },
 "nbformat": 4,
 "nbformat_minor": 4
}
