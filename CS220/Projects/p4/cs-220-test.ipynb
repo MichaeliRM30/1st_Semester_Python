{
 "cells": [
  {
   "cell_type": "code",
   "execution_count": 1,
   "metadata": {
    "execution": {
     "iopub.execute_input": "2021-02-25T21:34:45.680469Z",
     "iopub.status.busy": "2021-02-25T21:34:45.680469Z",
     "iopub.status.idle": "2021-02-25T21:34:45.683470Z",
     "shell.execute_reply": "2021-02-25T21:34:45.684471Z"
    }
   },
   "outputs": [],
   "source": [
    "# project: p4\n",
    "# submitter: RMM052/RMichaelis2\n",
    "# partner: N/A\n",
    "# hours: 2.25"
   ]
  },
  {
   "cell_type": "code",
   "execution_count": 2,
   "metadata": {
    "execution": {
     "iopub.execute_input": "2021-02-25T21:34:45.690471Z",
     "iopub.status.busy": "2021-02-25T21:34:45.689472Z",
     "iopub.status.idle": "2021-02-25T21:34:45.703469Z",
     "shell.execute_reply": "2021-02-25T21:34:45.703469Z"
    }
   },
   "outputs": [],
   "source": [
    "import project"
   ]
  },
  {
   "cell_type": "code",
   "execution_count": 3,
   "metadata": {
    "execution": {
     "iopub.execute_input": "2021-02-25T21:34:45.713468Z",
     "iopub.status.busy": "2021-02-25T21:34:45.712465Z",
     "iopub.status.idle": "2021-02-25T21:34:45.716496Z",
     "shell.execute_reply": "2021-02-25T21:34:45.715466Z"
    }
   },
   "outputs": [
    {
     "data": {
      "text/plain": [
       "['__builtins__',\n",
       " '__cached__',\n",
       " '__doc__',\n",
       " '__file__',\n",
       " '__init__',\n",
       " '__loader__',\n",
       " '__name__',\n",
       " '__package__',\n",
       " '__pokemon__',\n",
       " '__spec__',\n",
       " 'get_attack',\n",
       " 'get_defense',\n",
       " 'get_hp',\n",
       " 'get_region',\n",
       " 'get_sp_atk',\n",
       " 'get_sp_def',\n",
       " 'get_speed',\n",
       " 'get_type1',\n",
       " 'get_type2',\n",
       " 'print_stats']"
      ]
     },
     "execution_count": 1,
     "metadata": {},
     "output_type": "execute_result"
    }
   ],
   "source": [
    "dir(project)"
   ]
  },
  {
   "cell_type": "code",
   "execution_count": 4,
   "metadata": {
    "execution": {
     "iopub.execute_input": "2021-02-25T21:34:45.721469Z",
     "iopub.status.busy": "2021-02-25T21:34:45.720469Z",
     "iopub.status.idle": "2021-02-25T21:34:45.728507Z",
     "shell.execute_reply": "2021-02-25T21:34:45.727467Z"
    }
   },
   "outputs": [
    {
     "name": "stdout",
     "output_type": "stream",
     "text": [
      "Name :  Jigglypuff\n",
      "Attack :  45\n",
      "Defense :  20\n",
      "HP :  115\n",
      "Region :  Kanto\n",
      "Sp. Atk :  45\n",
      "Sp. Def :  25\n",
      "Speed :  20\n",
      "Type 1 :  Normal\n",
      "Type 2 :  Fairy\n"
     ]
    }
   ],
   "source": [
    "project.print_stats('Jigglypuff')"
   ]
  },
  {
   "cell_type": "code",
   "execution_count": 5,
   "metadata": {
    "execution": {
     "iopub.execute_input": "2021-02-25T21:34:45.731469Z",
     "iopub.status.busy": "2021-02-25T21:34:45.731469Z",
     "iopub.status.idle": "2021-02-25T21:34:45.735469Z",
     "shell.execute_reply": "2021-02-25T21:34:45.735469Z"
    }
   },
   "outputs": [
    {
     "name": "stdout",
     "output_type": "stream",
     "text": [
      "Name :  Squirtle\n",
      "Attack :  48\n",
      "Defense :  65\n",
      "HP :  44\n",
      "Region :  Kanto\n",
      "Sp. Atk :  50\n",
      "Sp. Def :  64\n",
      "Speed :  43\n",
      "Type 1 :  Water\n"
     ]
    }
   ],
   "source": [
    "project.print_stats('Squirtle')"
   ]
  },
  {
   "cell_type": "code",
   "execution_count": 6,
   "metadata": {
    "execution": {
     "iopub.execute_input": "2021-02-25T21:34:45.741467Z",
     "iopub.status.busy": "2021-02-25T21:34:45.741467Z",
     "iopub.status.idle": "2021-02-25T21:34:45.746503Z",
     "shell.execute_reply": "2021-02-25T21:34:45.745467Z"
    }
   },
   "outputs": [],
   "source": [
    "def simple_battle(pkmn1, pkmn2):\n",
    "    \n",
    "    #TODO: For the first few questions, we will try to simulate a very simple 'battle'. Create a function simple_battle(pkmn1, pkmn2) which simply returns the name of the Pokémon with the highest stat total.\n",
    "    \n",
    "    total_stats_pkmn1 = sum([project.get_hp(pkmn1), project.get_attack(pkmn1), project.get_defense(pkmn1), project.get_sp_atk(pkmn1), project.get_sp_def(pkmn1), project.get_speed(pkmn1)])\n",
    "    \n",
    "    total_stats_pkmn2 = sum([project.get_hp(pkmn2), project.get_attack(pkmn2), project.get_defense(pkmn2), project.get_sp_atk(pkmn2), project.get_sp_def(pkmn2), project.get_speed(pkmn2)])\n",
    "    \n",
    "    if total_stats_pkmn1 > total_stats_pkmn2:\n",
    "        \n",
    "        if total_stats_pkmn1 - total_stats_pkmn2 > 300:\n",
    "            \n",
    "            return pkmn2 + ' ran away'\n",
    "        \n",
    "        return pkmn1\n",
    "    \n",
    "    elif total_stats_pkmn1 < total_stats_pkmn2:\n",
    "        \n",
    "        if total_stats_pkmn2 - total_stats_pkmn1 > 300:\n",
    "            \n",
    "            return pkmn1 + ' ran away'\n",
    "        \n",
    "        return pkmn2\n",
    "    \n",
    "    else:\n",
    "        \n",
    "        # In such cases, we want our function to return the string 'Draw' instead of choosing between the two Pokémon.\n",
    "        \n",
    "        return 'Draw'"
   ]
  },
  {
   "cell_type": "code",
   "execution_count": 7,
   "metadata": {
    "execution": {
     "iopub.execute_input": "2021-02-25T21:34:45.750501Z",
     "iopub.status.busy": "2021-02-25T21:34:45.749470Z",
     "iopub.status.idle": "2021-02-25T21:34:45.753502Z",
     "shell.execute_reply": "2021-02-25T21:34:45.752465Z"
    }
   },
   "outputs": [
    {
     "data": {
      "text/plain": [
       "'Squirtle'"
      ]
     },
     "execution_count": 1,
     "metadata": {},
     "output_type": "execute_result"
    }
   ],
   "source": [
    "#q1\n",
    "\n",
    "simple_battle('Jigglypuff', 'Squirtle')"
   ]
  },
  {
   "cell_type": "code",
   "execution_count": 8,
   "metadata": {
    "execution": {
     "iopub.execute_input": "2021-02-25T21:34:45.756464Z",
     "iopub.status.busy": "2021-02-25T21:34:45.756464Z",
     "iopub.status.idle": "2021-02-25T21:34:45.760469Z",
     "shell.execute_reply": "2021-02-25T21:34:45.761465Z"
    }
   },
   "outputs": [
    {
     "data": {
      "text/plain": [
       "'Steelix'"
      ]
     },
     "execution_count": 1,
     "metadata": {},
     "output_type": "execute_result"
    }
   ],
   "source": [
    "#q2\n",
    "\n",
    "simple_battle('Steelix', 'Mankey')"
   ]
  },
  {
   "cell_type": "code",
   "execution_count": 9,
   "metadata": {
    "execution": {
     "iopub.execute_input": "2021-02-25T21:34:45.765477Z",
     "iopub.status.busy": "2021-02-25T21:34:45.764466Z",
     "iopub.status.idle": "2021-02-25T21:34:45.767466Z",
     "shell.execute_reply": "2021-02-25T21:34:45.768503Z"
    }
   },
   "outputs": [
    {
     "data": {
      "text/plain": [
       "'Draw'"
      ]
     },
     "execution_count": 1,
     "metadata": {},
     "output_type": "execute_result"
    }
   ],
   "source": [
    "#q3\n",
    "\n",
    "simple_battle('Krabby', 'Seel')"
   ]
  },
  {
   "cell_type": "code",
   "execution_count": 10,
   "metadata": {
    "execution": {
     "iopub.execute_input": "2021-02-25T21:34:45.772470Z",
     "iopub.status.busy": "2021-02-25T21:34:45.771467Z",
     "iopub.status.idle": "2021-02-25T21:34:45.777469Z",
     "shell.execute_reply": "2021-02-25T21:34:45.776473Z"
    }
   },
   "outputs": [
    {
     "data": {
      "text/plain": [
       "'Piplup ran away'"
      ]
     },
     "execution_count": 1,
     "metadata": {},
     "output_type": "execute_result"
    }
   ],
   "source": [
    "#q4\n",
    "\n",
    "simple_battle('Piplup', 'Arceus')"
   ]
  },
  {
   "cell_type": "code",
   "execution_count": 11,
   "metadata": {
    "execution": {
     "iopub.execute_input": "2021-02-25T21:34:45.781469Z",
     "iopub.status.busy": "2021-02-25T21:34:45.780468Z",
     "iopub.status.idle": "2021-02-25T21:34:45.786505Z",
     "shell.execute_reply": "2021-02-25T21:34:45.785469Z"
    }
   },
   "outputs": [
    {
     "data": {
      "text/plain": [
       "'Azurill ran away'"
      ]
     },
     "execution_count": 1,
     "metadata": {},
     "output_type": "execute_result"
    }
   ],
   "source": [
    "#q5\n",
    "\n",
    "simple_battle('Weavile', 'Azurill')"
   ]
  },
  {
   "cell_type": "code",
   "execution_count": 12,
   "metadata": {
    "execution": {
     "iopub.execute_input": "2021-02-25T21:34:45.792466Z",
     "iopub.status.busy": "2021-02-25T21:34:45.791470Z",
     "iopub.status.idle": "2021-02-25T21:34:45.794465Z",
     "shell.execute_reply": "2021-02-25T21:34:45.795470Z"
    }
   },
   "outputs": [
    {
     "data": {
      "text/plain": [
       "12.0968"
      ]
     },
     "execution_count": 1,
     "metadata": {},
     "output_type": "execute_result"
    }
   ],
   "source": [
    "def most_damage(attacker, defender):\n",
    "    \n",
    "    physical_damage = round(10 * project.get_attack(attacker)/project.get_defense(defender), 4)\n",
    "    \n",
    "    special_damage = round(10 * project.get_sp_atk(attacker)/project.get_sp_def(defender), 4)\n",
    "    \n",
    "    if physical_damage > special_damage:\n",
    "        \n",
    "        return physical_damage\n",
    "    \n",
    "    else:\n",
    "        \n",
    "        return special_damage\n",
    "    \n",
    "most_damage('Scraggy', 'Tranquill')"
   ]
  },
  {
   "cell_type": "code",
   "execution_count": 13,
   "metadata": {
    "execution": {
     "iopub.execute_input": "2021-02-25T21:34:45.799470Z",
     "iopub.status.busy": "2021-02-25T21:34:45.799470Z",
     "iopub.status.idle": "2021-02-25T21:34:45.801466Z",
     "shell.execute_reply": "2021-02-25T21:34:45.802465Z"
    }
   },
   "outputs": [
    {
     "data": {
      "text/plain": [
       "25.0"
      ]
     },
     "execution_count": 1,
     "metadata": {},
     "output_type": "execute_result"
    }
   ],
   "source": [
    "#q6\n",
    "\n",
    "most_damage('Sudowoodo', 'Mareep')"
   ]
  },
  {
   "cell_type": "code",
   "execution_count": 14,
   "metadata": {
    "execution": {
     "iopub.execute_input": "2021-02-25T21:34:45.806470Z",
     "iopub.status.busy": "2021-02-25T21:34:45.805501Z",
     "iopub.status.idle": "2021-02-25T21:34:45.811465Z",
     "shell.execute_reply": "2021-02-25T21:34:45.810469Z"
    }
   },
   "outputs": [
    {
     "data": {
      "text/plain": [
       "42.5"
      ]
     },
     "execution_count": 1,
     "metadata": {},
     "output_type": "execute_result"
    }
   ],
   "source": [
    "#q7\n",
    "\n",
    "most_damage('Blastoise', 'Weedle')"
   ]
  },
  {
   "cell_type": "code",
   "execution_count": 15,
   "metadata": {
    "execution": {
     "iopub.execute_input": "2021-02-25T21:34:45.815504Z",
     "iopub.status.busy": "2021-02-25T21:34:45.814466Z",
     "iopub.status.idle": "2021-02-25T21:34:45.816466Z",
     "shell.execute_reply": "2021-02-25T21:34:45.817471Z"
    }
   },
   "outputs": [],
   "source": [
    "import math\n",
    "\n",
    "def num_hits(attacker, defender):\n",
    "    \n",
    "    return math.ceil(project.get_hp(defender)/most_damage(attacker, defender))"
   ]
  },
  {
   "cell_type": "code",
   "execution_count": 16,
   "metadata": {
    "execution": {
     "iopub.execute_input": "2021-02-25T21:34:45.821468Z",
     "iopub.status.busy": "2021-02-25T21:34:45.820471Z",
     "iopub.status.idle": "2021-02-25T21:34:45.825502Z",
     "shell.execute_reply": "2021-02-25T21:34:45.826504Z"
    }
   },
   "outputs": [
    {
     "data": {
      "text/plain": [
       "2"
      ]
     },
     "execution_count": 1,
     "metadata": {},
     "output_type": "execute_result"
    }
   ],
   "source": [
    "#q8\n",
    "\n",
    "num_hits('Wartortle', 'Caterpie')"
   ]
  },
  {
   "cell_type": "code",
   "execution_count": 17,
   "metadata": {
    "execution": {
     "iopub.execute_input": "2021-02-25T21:34:45.829469Z",
     "iopub.status.busy": "2021-02-25T21:34:45.829469Z",
     "iopub.status.idle": "2021-02-25T21:34:45.832477Z",
     "shell.execute_reply": "2021-02-25T21:34:45.831506Z"
    }
   },
   "outputs": [
    {
     "data": {
      "text/plain": [
       "9"
      ]
     },
     "execution_count": 1,
     "metadata": {},
     "output_type": "execute_result"
    }
   ],
   "source": [
    "#q9\n",
    "\n",
    "num_hits('Pikachu', 'Aggron')"
   ]
  },
  {
   "cell_type": "code",
   "execution_count": 18,
   "metadata": {
    "execution": {
     "iopub.execute_input": "2021-02-25T21:34:45.835469Z",
     "iopub.status.busy": "2021-02-25T21:34:45.835469Z",
     "iopub.status.idle": "2021-02-25T21:34:45.841501Z",
     "shell.execute_reply": "2021-02-25T21:34:45.840502Z"
    }
   },
   "outputs": [
    {
     "data": {
      "text/plain": [
       "2"
      ]
     },
     "execution_count": 1,
     "metadata": {},
     "output_type": "execute_result"
    }
   ],
   "source": [
    "#q10\n",
    "\n",
    "num_hits('Aggron', 'Pikachu')"
   ]
  },
  {
   "cell_type": "code",
   "execution_count": 19,
   "metadata": {
    "execution": {
     "iopub.execute_input": "2021-02-25T21:34:45.847468Z",
     "iopub.status.busy": "2021-02-25T21:34:45.847468Z",
     "iopub.status.idle": "2021-02-25T21:34:45.850469Z",
     "shell.execute_reply": "2021-02-25T21:34:45.850469Z"
    }
   },
   "outputs": [],
   "source": [
    "def battle(pkmn1, pkmn2):\n",
    "    \n",
    "    # Make sure the function says the Pokémon that can take less hits ran away!\n",
    "    \n",
    "    num_hits_pkmn1_can_take = num_hits(pkmn2, pkmn1)\n",
    "    \n",
    "    num_hits_pkmn2_can_take = num_hits(pkmn1, pkmn2)\n",
    "    \n",
    "    #TODO: Return the name of the pkmn that can take more hits from the other pkmn. If both pkmn faint within the same number of moves, return the string 'Draw'\n",
    "\n",
    "    if num_hits(pkmn1, pkmn2) < num_hits(pkmn2, pkmn1):\n",
    "        \n",
    "        if abs(num_hits_pkmn1_can_take - num_hits_pkmn2_can_take) > 10:\n",
    "        \n",
    "            return pkmn2 + ' ran away'\n",
    "        \n",
    "        return pkmn1\n",
    "        \n",
    "    elif num_hits(pkmn1, pkmn2) > num_hits(pkmn2, pkmn1):\n",
    "        \n",
    "        if abs(num_hits_pkmn2_can_take - num_hits_pkmn1_can_take) > 10:\n",
    "        \n",
    "            return pkmn1 + ' ran away'\n",
    "        \n",
    "        return pkmn2\n",
    "    \n",
    "    elif num_hits(pkmn1, pkmn2) == num_hits(pkmn2, pkmn1):\n",
    "        \n",
    "        if project.get_speed(pkmn1) > project.get_speed(pkmn2):\n",
    "            \n",
    "            return pkmn1\n",
    "        \n",
    "        elif project.get_speed(pkmn1) < project.get_speed(pkmn2):\n",
    "            \n",
    "            return pkmn2\n",
    "        \n",
    "        else:\n",
    "        \n",
    "            return 'Draw'"
   ]
  },
  {
   "cell_type": "code",
   "execution_count": 20,
   "metadata": {
    "execution": {
     "iopub.execute_input": "2021-02-25T21:34:45.854501Z",
     "iopub.status.busy": "2021-02-25T21:34:45.853469Z",
     "iopub.status.idle": "2021-02-25T21:34:45.856468Z",
     "shell.execute_reply": "2021-02-25T21:34:45.857511Z"
    }
   },
   "outputs": [
    {
     "data": {
      "text/plain": [
       "'Scraggy'"
      ]
     },
     "execution_count": 1,
     "metadata": {},
     "output_type": "execute_result"
    }
   ],
   "source": [
    "#q11\n",
    "\n",
    "battle('Krabby', 'Scraggy')"
   ]
  },
  {
   "cell_type": "code",
   "execution_count": 21,
   "metadata": {
    "execution": {
     "iopub.execute_input": "2021-02-25T21:34:45.861467Z",
     "iopub.status.busy": "2021-02-25T21:34:45.860469Z",
     "iopub.status.idle": "2021-02-25T21:34:45.865469Z",
     "shell.execute_reply": "2021-02-25T21:34:45.865469Z"
    }
   },
   "outputs": [
    {
     "data": {
      "text/plain": [
       "'Charizard'"
      ]
     },
     "execution_count": 1,
     "metadata": {},
     "output_type": "execute_result"
    }
   ],
   "source": [
    "#q12\n",
    "\n",
    "battle('Charizard','Krabby')"
   ]
  },
  {
   "cell_type": "code",
   "execution_count": 22,
   "metadata": {
    "execution": {
     "iopub.execute_input": "2021-02-25T21:34:45.869508Z",
     "iopub.status.busy": "2021-02-25T21:34:45.868502Z",
     "iopub.status.idle": "2021-02-25T21:34:45.874502Z",
     "shell.execute_reply": "2021-02-25T21:34:45.873503Z"
    }
   },
   "outputs": [
    {
     "data": {
      "text/plain": [
       "'Shellder'"
      ]
     },
     "execution_count": 1,
     "metadata": {},
     "output_type": "execute_result"
    }
   ],
   "source": [
    "#q13\n",
    "\n",
    "battle('Shuckle', 'Shellder')"
   ]
  },
  {
   "cell_type": "code",
   "execution_count": 23,
   "metadata": {
    "execution": {
     "iopub.execute_input": "2021-02-25T21:34:45.878469Z",
     "iopub.status.busy": "2021-02-25T21:34:45.877471Z",
     "iopub.status.idle": "2021-02-25T21:34:45.882474Z",
     "shell.execute_reply": "2021-02-25T21:34:45.883502Z"
    }
   },
   "outputs": [
    {
     "data": {
      "text/plain": [
       "'Charmander'"
      ]
     },
     "execution_count": 1,
     "metadata": {},
     "output_type": "execute_result"
    }
   ],
   "source": [
    "#q14\n",
    "\n",
    "battle('Charmander', 'Tympole')"
   ]
  },
  {
   "cell_type": "code",
   "execution_count": 24,
   "metadata": {
    "execution": {
     "iopub.execute_input": "2021-02-25T21:34:45.886469Z",
     "iopub.status.busy": "2021-02-25T21:34:45.886469Z",
     "iopub.status.idle": "2021-02-25T21:34:45.891502Z",
     "shell.execute_reply": "2021-02-25T21:34:45.890472Z"
    }
   },
   "outputs": [
    {
     "data": {
      "text/plain": [
       "'Draw'"
      ]
     },
     "execution_count": 1,
     "metadata": {},
     "output_type": "execute_result"
    }
   ],
   "source": [
    "#q15\n",
    "\n",
    "battle('Mudkip', 'Gulpin')"
   ]
  },
  {
   "cell_type": "code",
   "execution_count": 25,
   "metadata": {
    "execution": {
     "iopub.execute_input": "2021-02-25T21:34:45.894990Z",
     "iopub.status.busy": "2021-02-25T21:34:45.894990Z",
     "iopub.status.idle": "2021-02-25T21:34:45.896990Z",
     "shell.execute_reply": "2021-02-25T21:34:45.898024Z"
    },
    "scrolled": true
   },
   "outputs": [
    {
     "data": {
      "text/plain": [
       "'Shuckle ran away'"
      ]
     },
     "execution_count": 1,
     "metadata": {},
     "output_type": "execute_result"
    }
   ],
   "source": [
    "#q16\n",
    "\n",
    "battle('Shuckle', 'Ursaring')"
   ]
  },
  {
   "cell_type": "code",
   "execution_count": 26,
   "metadata": {
    "execution": {
     "iopub.execute_input": "2021-02-25T21:34:45.901991Z",
     "iopub.status.busy": "2021-02-25T21:34:45.900988Z",
     "iopub.status.idle": "2021-02-25T21:34:45.907026Z",
     "shell.execute_reply": "2021-02-25T21:34:45.906024Z"
    }
   },
   "outputs": [
    {
     "data": {
      "text/plain": [
       "'Noibat ran away'"
      ]
     },
     "execution_count": 1,
     "metadata": {},
     "output_type": "execute_result"
    }
   ],
   "source": [
    "#q17\n",
    "\n",
    "battle('Metagross', 'Noibat')"
   ]
  },
  {
   "cell_type": "code",
   "execution_count": 27,
   "metadata": {
    "execution": {
     "iopub.execute_input": "2021-02-25T21:34:45.911992Z",
     "iopub.status.busy": "2021-02-25T21:34:45.910989Z",
     "iopub.status.idle": "2021-02-25T21:34:45.914022Z",
     "shell.execute_reply": "2021-02-25T21:34:45.914022Z"
    }
   },
   "outputs": [],
   "source": [
    "def final_battle(pkmn1, pkmn2):\n",
    "    \n",
    "    #Create a new function final_battle(pkmn1, pkmn2) so that if two Pokémon from different regions try to fight each other, the function returns 'Cannot battle'. If both Pokémon are from the same region, the battle proceeds as before.\n",
    "    \n",
    "    if project.get_region(pkmn1) != project.get_region(pkmn2):\n",
    "        \n",
    "        if project.get_type1(pkmn1) == 'Flying' or project.get_type2(pkmn1) == 'Flying' and project.get_type1(pkmn2) == 'Flying' or project.get_type2(pkmn2) == 'Flying':\n",
    "        \n",
    "            return battle(pkmn1, pkmn2)\n",
    "    \n",
    "    return 'Cannot battle'"
   ]
  },
  {
   "cell_type": "code",
   "execution_count": 28,
   "metadata": {
    "execution": {
     "iopub.execute_input": "2021-02-25T21:34:45.917990Z",
     "iopub.status.busy": "2021-02-25T21:34:45.916989Z",
     "iopub.status.idle": "2021-02-25T21:34:45.922008Z",
     "shell.execute_reply": "2021-02-25T21:34:45.922985Z"
    }
   },
   "outputs": [
    {
     "data": {
      "text/plain": [
       "'Cannot battle'"
      ]
     },
     "execution_count": 1,
     "metadata": {},
     "output_type": "execute_result"
    }
   ],
   "source": [
    "#q18\n",
    "\n",
    "final_battle('Geodude', 'Snivy')"
   ]
  },
  {
   "cell_type": "code",
   "execution_count": 29,
   "metadata": {
    "execution": {
     "iopub.execute_input": "2021-02-25T21:34:45.926990Z",
     "iopub.status.busy": "2021-02-25T21:34:45.926024Z",
     "iopub.status.idle": "2021-02-25T21:34:45.931989Z",
     "shell.execute_reply": "2021-02-25T21:34:45.931025Z"
    }
   },
   "outputs": [
    {
     "data": {
      "text/plain": [
       "'Cannot battle'"
      ]
     },
     "execution_count": 1,
     "metadata": {},
     "output_type": "execute_result"
    }
   ],
   "source": [
    "#q19\n",
    "\n",
    "final_battle('Zapdos', 'Foongus')"
   ]
  },
  {
   "cell_type": "code",
   "execution_count": 30,
   "metadata": {
    "execution": {
     "iopub.execute_input": "2021-02-25T21:34:45.934989Z",
     "iopub.status.busy": "2021-02-25T21:34:45.934989Z",
     "iopub.status.idle": "2021-02-25T21:34:45.941025Z",
     "shell.execute_reply": "2021-02-25T21:34:45.939991Z"
    }
   },
   "outputs": [
    {
     "data": {
      "text/plain": [
       "'Starly'"
      ]
     },
     "execution_count": 1,
     "metadata": {},
     "output_type": "execute_result"
    }
   ],
   "source": [
    "#q20\n",
    "\n",
    "final_battle('Starly', 'Pidgey')"
   ]
  },
  {
   "cell_type": "code",
   "execution_count": null,
   "metadata": {},
   "outputs": [],
   "source": []
  }
 ],
 "metadata": {
  "kernelspec": {
   "display_name": "Python 3",
   "language": "python",
   "name": "python3"
  },
  "language_info": {
   "codemirror_mode": {
    "name": "ipython",
    "version": 3
   },
   "file_extension": ".py",
   "mimetype": "text/x-python",
   "name": "python",
   "nbconvert_exporter": "python",
   "pygments_lexer": "ipython3",
   "version": "3.8.5"
  }
 },
 "nbformat": 4,
 "nbformat_minor": 4
}
