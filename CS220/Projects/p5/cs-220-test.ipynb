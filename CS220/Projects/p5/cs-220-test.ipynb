{
 "cells": [
  {
   "cell_type": "code",
   "execution_count": 1,
   "metadata": {
    "execution": {
     "iopub.execute_input": "2021-03-05T05:34:45.430203Z",
     "iopub.status.busy": "2021-03-05T05:34:45.429206Z",
     "iopub.status.idle": "2021-03-05T05:34:45.432202Z",
     "shell.execute_reply": "2021-03-05T05:34:45.433199Z"
    }
   },
   "outputs": [],
   "source": [
    "# project: p5\n",
    "# submitter: RMM052/RMichaelis2\n",
    "# partner: mprine2\n",
    "# hours: "
   ]
  },
  {
   "cell_type": "code",
   "execution_count": 2,
   "metadata": {
    "execution": {
     "iopub.execute_input": "2021-03-05T05:34:45.438203Z",
     "iopub.status.busy": "2021-03-05T05:34:45.438203Z",
     "iopub.status.idle": "2021-03-05T05:34:45.451210Z",
     "shell.execute_reply": "2021-03-05T05:34:45.452200Z"
    }
   },
   "outputs": [
    {
     "data": {
      "text/plain": [
       "['__builtins__',\n",
       " '__cached__',\n",
       " '__doc__',\n",
       " '__file__',\n",
       " '__hurricane__',\n",
       " '__init__',\n",
       " '__loader__',\n",
       " '__name__',\n",
       " '__package__',\n",
       " '__spec__',\n",
       " 'count',\n",
       " 'get_damage',\n",
       " 'get_deaths',\n",
       " 'get_dissipated',\n",
       " 'get_formed',\n",
       " 'get_mph',\n",
       " 'get_name']"
      ]
     },
     "execution_count": 1,
     "metadata": {},
     "output_type": "execute_result"
    }
   ],
   "source": [
    "import project\n",
    "dir(project)"
   ]
  },
  {
   "cell_type": "code",
   "execution_count": 3,
   "metadata": {
    "execution": {
     "iopub.execute_input": "2021-03-05T05:34:45.455199Z",
     "iopub.status.busy": "2021-03-05T05:34:45.455199Z",
     "iopub.status.idle": "2021-03-05T05:34:45.459225Z",
     "shell.execute_reply": "2021-03-05T05:34:45.460200Z"
    }
   },
   "outputs": [
    {
     "data": {
      "text/plain": [
       "133"
      ]
     },
     "execution_count": 1,
     "metadata": {},
     "output_type": "execute_result"
    }
   ],
   "source": [
    "#q1\n",
    "# How many records are in the dataset?\n",
    "project.count()"
   ]
  },
  {
   "cell_type": "code",
   "execution_count": 4,
   "metadata": {
    "execution": {
     "iopub.execute_input": "2021-03-05T05:34:45.464239Z",
     "iopub.status.busy": "2021-03-05T05:34:45.463200Z",
     "iopub.status.idle": "2021-03-05T05:34:45.469201Z",
     "shell.execute_reply": "2021-03-05T05:34:45.469201Z"
    }
   },
   "outputs": [
    {
     "data": {
      "text/plain": [
       "'Dora'"
      ]
     },
     "execution_count": 1,
     "metadata": {},
     "output_type": "execute_result"
    }
   ],
   "source": [
    "#q2\n",
    "# What is the name of the hurricane at index 20?\n",
    "project.get_name(20)"
   ]
  },
  {
   "cell_type": "code",
   "execution_count": 5,
   "metadata": {
    "execution": {
     "iopub.execute_input": "2021-03-05T05:34:45.473214Z",
     "iopub.status.busy": "2021-03-05T05:34:45.473214Z",
     "iopub.status.idle": "2021-03-05T05:34:45.477201Z",
     "shell.execute_reply": "2021-03-05T05:34:45.478234Z"
    }
   },
   "outputs": [
    {
     "data": {
      "text/plain": [
       "1"
      ]
     },
     "execution_count": 1,
     "metadata": {},
     "output_type": "execute_result"
    }
   ],
   "source": [
    "#q3\n",
    "# How many deaths were caused by the hurricane at the last index?\n",
    "project.get_deaths(project.count() - 1)"
   ]
  },
  {
   "cell_type": "code",
   "execution_count": 6,
   "metadata": {
    "execution": {
     "iopub.execute_input": "2021-03-05T05:34:45.483198Z",
     "iopub.status.busy": "2021-03-05T05:34:45.482200Z",
     "iopub.status.idle": "2021-03-05T05:34:45.486201Z",
     "shell.execute_reply": "2021-03-05T05:34:45.486201Z"
    }
   },
   "outputs": [
    {
     "data": {
      "text/plain": [
       "3"
      ]
     },
     "execution_count": 1,
     "metadata": {},
     "output_type": "execute_result"
    }
   ],
   "source": [
    "#q4\n",
    "# How many hurricanes named Florence are in the dataset?\n",
    "def count_by_name(name):\n",
    "    count = 0\n",
    "    name = name.lower()\n",
    "    for i in range(project.count()):\n",
    "        if project.get_name(i).lower() == name:\n",
    "            count += 1\n",
    "        else:\n",
    "            continue\n",
    "    return count\n",
    "count_by_name('Florence')"
   ]
  },
  {
   "cell_type": "code",
   "execution_count": 7,
   "metadata": {
    "execution": {
     "iopub.execute_input": "2021-03-05T05:34:45.492214Z",
     "iopub.status.busy": "2021-03-05T05:34:45.491201Z",
     "iopub.status.idle": "2021-03-05T05:34:45.495234Z",
     "shell.execute_reply": "2021-03-05T05:34:45.494198Z"
    }
   },
   "outputs": [
    {
     "data": {
      "text/plain": [
       "'Floyd'"
      ]
     },
     "execution_count": 1,
     "metadata": {},
     "output_type": "execute_result"
    }
   ],
   "source": [
    "#q5\n",
    "# What is the name of the slowest hurricane?\n",
    "def slowest_speed():\n",
    "    speed = project.get_mph(0)\n",
    "    for i in range(project.count()):\n",
    "        if project.get_mph(i) < speed:\n",
    "            speed = project.get_mph(i)\n",
    "            name = project.get_name(i)\n",
    "        else:\n",
    "            continue\n",
    "    return name\n",
    "slowest_speed()"
   ]
  },
  {
   "cell_type": "code",
   "execution_count": 8,
   "metadata": {
    "execution": {
     "iopub.execute_input": "2021-03-05T05:34:45.499199Z",
     "iopub.status.busy": "2021-03-05T05:34:45.499199Z",
     "iopub.status.idle": "2021-03-05T05:34:45.503516Z",
     "shell.execute_reply": "2021-03-05T05:34:45.503516Z"
    }
   },
   "outputs": [
    {
     "data": {
      "text/plain": [
       "190"
      ]
     },
     "execution_count": 1,
     "metadata": {},
     "output_type": "execute_result"
    }
   ],
   "source": [
    "#q6\n",
    "# What is the fastest MPH ever achieved by a hurricane?\n",
    "def fastest_speed():\n",
    "    speed = project.get_mph(0)\n",
    "    for i in range(project.count()):\n",
    "        if project.get_mph(i) > speed:\n",
    "            speed = project.get_mph(i)\n",
    "            name = project.get_name(i)\n",
    "        else:\n",
    "            continue\n",
    "    return speed\n",
    "fastest_speed()"
   ]
  },
  {
   "cell_type": "code",
   "execution_count": 9,
   "metadata": {
    "execution": {
     "iopub.execute_input": "2021-03-05T05:34:45.514516Z",
     "iopub.status.busy": "2021-03-05T05:34:45.512517Z",
     "iopub.status.idle": "2021-03-05T05:34:45.519551Z",
     "shell.execute_reply": "2021-03-05T05:34:45.519551Z"
    }
   },
   "outputs": [
    {
     "data": {
      "text/plain": [
       "6502484699"
      ]
     },
     "execution_count": 1,
     "metadata": {},
     "output_type": "execute_result"
    }
   ],
   "source": [
    "#q7\n",
    "# What is the average damage (in dollars) caused by all hurricanes?\n",
    "def format_damage(damage):\n",
    "    if damage.endswith('K'):\n",
    "        #print(int(float(damage.replace('K', '').split()[0]) * 10**3))\n",
    "        return int(float(damage.replace('K', '').split()[0]) * 10**3)\n",
    "    elif damage.endswith('M'):\n",
    "        #print(int(float(damage.replace('M', '').split()[0]) * 10**6))\n",
    "        return int(float(damage.replace('M', '').split()[0]) * 10**6)\n",
    "    elif damage.endswith('B'):\n",
    "        #print(int(float(damage.replace('B', '').split()[0]) * 10**9))\n",
    "        return int(float(damage.replace('B', '').split()[0]) * 10**9)\n",
    "    \n",
    "def average_damage():\n",
    "    total_damage = 0\n",
    "    hurricane_count = 0\n",
    "    for i in range(project.count()):\n",
    "        hurricane_count = hurricane_count + 1\n",
    "        if project.get_damage(i).endswith('K'):\n",
    "            #print(project.get_name(i), int(float(project.get_damage(i).replace('K', '').split()[0]) * 10**3))\n",
    "            total_damage = total_damage + int(float(project.get_damage(i).replace('K', '').split()[0]) * 10**3)\n",
    "        elif project.get_damage(i).endswith('M'):\n",
    "            #print(project.get_name(i), int(float(project.get_damage(i).replace('M', '').split()[0]) * 10**6))\n",
    "            total_damage = total_damage + int(float(project.get_damage(i).replace('M', '').split()[0]) * 10**6)\n",
    "        elif project.get_damage(i).endswith('B'):\n",
    "            #print(project.get_name(i), int(float(project.get_damage(i).replace('B', '').split()[0]) * 10**9))\n",
    "            total_damage = total_damage + int(float(project.get_damage(i).replace('B', '').split()[0]) * 10**9)\n",
    "    return int(total_damage/hurricane_count)\n",
    "average_damage()"
   ]
  },
  {
   "cell_type": "code",
   "execution_count": 10,
   "metadata": {
    "execution": {
     "iopub.execute_input": "2021-03-05T05:34:45.523517Z",
     "iopub.status.busy": "2021-03-05T05:34:45.522516Z",
     "iopub.status.idle": "2021-03-05T05:34:45.528551Z",
     "shell.execute_reply": "2021-03-05T05:34:45.527518Z"
    }
   },
   "outputs": [
    {
     "data": {
      "text/plain": [
       "2550000"
      ]
     },
     "execution_count": 1,
     "metadata": {},
     "output_type": "execute_result"
    }
   ],
   "source": [
    "format_damage(project.get_damage(0))"
   ]
  },
  {
   "cell_type": "code",
   "execution_count": 11,
   "metadata": {
    "execution": {
     "iopub.execute_input": "2021-03-05T05:34:45.532516Z",
     "iopub.status.busy": "2021-03-05T05:34:45.532516Z",
     "iopub.status.idle": "2021-03-05T05:34:45.537554Z",
     "shell.execute_reply": "2021-03-05T05:34:45.537554Z"
    }
   },
   "outputs": [
    {
     "data": {
      "text/plain": [
       "112"
      ]
     },
     "execution_count": 1,
     "metadata": {},
     "output_type": "execute_result"
    }
   ],
   "source": [
    "#q8\n",
    "# How many deaths did hurricane 'Gustav' cause?\n",
    "\n",
    "def death_count(name):\n",
    "    for i in range(project.count()):\n",
    "        if name == project.get_name(i):\n",
    "            return project.get_deaths(i)\n",
    "        else:\n",
    "            continue\n",
    "death_count('Gustav')"
   ]
  },
  {
   "cell_type": "code",
   "execution_count": 12,
   "metadata": {
    "execution": {
     "iopub.execute_input": "2021-03-05T05:34:45.542517Z",
     "iopub.status.busy": "2021-03-05T05:34:45.542517Z",
     "iopub.status.idle": "2021-03-05T05:34:45.545549Z",
     "shell.execute_reply": "2021-03-05T05:34:45.544517Z"
    }
   },
   "outputs": [
    {
     "data": {
      "text/plain": [
       "670"
      ]
     },
     "execution_count": 1,
     "metadata": {},
     "output_type": "execute_result"
    }
   ],
   "source": [
    "#q9\n",
    "# What is the total deaths caused by hurricanes with names starting with the letter C?\n",
    "def starts_with_death_count(letter):\n",
    "    total_deaths = 0\n",
    "    for i in range(project.count()):\n",
    "        if project.get_name(i).startswith(letter) == True:\n",
    "            total_deaths = total_deaths + project.get_deaths(i)\n",
    "        else:\n",
    "            continue\n",
    "    return total_deaths\n",
    "starts_with_death_count('C')"
   ]
  },
  {
   "cell_type": "code",
   "execution_count": 13,
   "metadata": {
    "execution": {
     "iopub.execute_input": "2021-03-05T05:34:45.552516Z",
     "iopub.status.busy": "2021-03-05T05:34:45.551530Z",
     "iopub.status.idle": "2021-03-05T05:34:45.556550Z",
     "shell.execute_reply": "2021-03-05T05:34:45.555525Z"
    }
   },
   "outputs": [],
   "source": [
    "def get_month(date):\n",
    "    '''Returns the month when the date is the in the 'mm/dd/yyyy' format'''\n",
    "    return int(date[:2])\n",
    "\n",
    "def get_day(date):\n",
    "    '''Returns the day when the date is the in the 'mm/dd/yyyy' format'''\n",
    "    #TODO: Use string slicing to return the day\n",
    "    return int(date[3:5])\n",
    "\n",
    "def get_year(date):\n",
    "    '''Returns the year when the date is the in the 'mm/dd/yyyy' format'''\n",
    "    pass #TODO: Use string slicing to return the year\n",
    "    return int(date[6:])\n",
    "\n",
    "# return index of deadliest hurricane over the given date range\n",
    "def deadliest_in_range(year1, year2):\n",
    "    worst_idx = 0\n",
    "    for i in range(project.count()):\n",
    "        if year1 < get_year(project.get_formed(i)) < year2:  # TODO: check if year is in range\n",
    "            #print(get_year(project.get_formed(i)))\n",
    "            if project.get_deaths(worst_idx) < project.get_deaths(i):  # TODO: it is worse than previous?\n",
    "                #print(project.get_deaths(worst_idx))\n",
    "                #print(project.get_deaths(i))\n",
    "                worst_idx = i # TODO: finish this code!\n",
    "                #print(i)\n",
    "                #print(worst_idx)\n",
    "            else:\n",
    "                continue\n",
    "        else:\n",
    "            continue\n",
    "    return worst_idx"
   ]
  },
  {
   "cell_type": "code",
   "execution_count": 14,
   "metadata": {
    "execution": {
     "iopub.execute_input": "2021-03-05T05:34:45.560517Z",
     "iopub.status.busy": "2021-03-05T05:34:45.559514Z",
     "iopub.status.idle": "2021-03-05T05:34:45.565550Z",
     "shell.execute_reply": "2021-03-05T05:34:45.564519Z"
    }
   },
   "outputs": [
    {
     "data": {
      "text/plain": [
       "'Inez'"
      ]
     },
     "execution_count": 1,
     "metadata": {},
     "output_type": "execute_result"
    }
   ],
   "source": [
    "#q10\n",
    "# What was the deadliest hurricane of the 20th century (1901 to 2000, both inclusive)?\n",
    "\n",
    "project.get_name(deadliest_in_range(1901, 2000))"
   ]
  },
  {
   "cell_type": "code",
   "execution_count": 15,
   "metadata": {
    "execution": {
     "iopub.execute_input": "2021-03-05T05:34:45.569517Z",
     "iopub.status.busy": "2021-03-05T05:34:45.569517Z",
     "iopub.status.idle": "2021-03-05T05:34:45.574550Z",
     "shell.execute_reply": "2021-03-05T05:34:45.573517Z"
    }
   },
   "outputs": [
    {
     "data": {
      "text/plain": [
       "'San Ciriaco'"
      ]
     },
     "execution_count": 1,
     "metadata": {},
     "output_type": "execute_result"
    }
   ],
   "source": [
    "#q11\n",
    "# What is the deadliest hurricane ever recorded?\n",
    "# deadliest_in_range(get_year(project.get_formed(0)), get_year(project.get_formed(-1)))\n",
    "project.get_name(deadliest_in_range(0, 10000))"
   ]
  },
  {
   "cell_type": "code",
   "execution_count": 16,
   "metadata": {
    "execution": {
     "iopub.execute_input": "2021-03-05T05:34:45.578517Z",
     "iopub.status.busy": "2021-03-05T05:34:45.577549Z",
     "iopub.status.idle": "2021-03-05T05:34:45.581517Z",
     "shell.execute_reply": "2021-03-05T05:34:45.580517Z"
    }
   },
   "outputs": [
    {
     "data": {
      "text/plain": [
       "1899"
      ]
     },
     "execution_count": 1,
     "metadata": {},
     "output_type": "execute_result"
    }
   ],
   "source": [
    "#q12\n",
    "# Between the years 1800 and 2016 (both inclusive), which year witnessed the deadliest hurricane?\n",
    "get_year(project.get_formed(deadliest_in_range(1800, 2016)))"
   ]
  },
  {
   "cell_type": "code",
   "execution_count": 17,
   "metadata": {
    "execution": {
     "iopub.execute_input": "2021-03-05T05:34:45.586552Z",
     "iopub.status.busy": "2021-03-05T05:34:45.585517Z",
     "iopub.status.idle": "2021-03-05T05:34:45.588516Z",
     "shell.execute_reply": "2021-03-05T05:34:45.589552Z"
    }
   },
   "outputs": [
    {
     "data": {
      "text/plain": [
       "226500000"
      ]
     },
     "execution_count": 1,
     "metadata": {},
     "output_type": "execute_result"
    }
   ],
   "source": [
    "#q13\n",
    "# How much damage (in dollars) was done by the deadliest hurricane between 1901 and 2000 (both inclusive)?\n",
    "format_damage(project.get_damage(deadliest_in_range(1901, 2000)))"
   ]
  },
  {
   "cell_type": "code",
   "execution_count": 18,
   "metadata": {
    "execution": {
     "iopub.execute_input": "2021-03-05T05:34:45.593516Z",
     "iopub.status.busy": "2021-03-05T05:34:45.593516Z",
     "iopub.status.idle": "2021-03-05T05:34:45.595517Z",
     "shell.execute_reply": "2021-03-05T05:34:45.596550Z"
    }
   },
   "outputs": [],
   "source": [
    "# return number of huricanes formed in month mm\n",
    "def hurricanes_in_month(mm):\n",
    "    num_of_hurricanes = 0\n",
    "    for i in range(project.count()):\n",
    "        if mm == get_month(project.get_formed(i)):\n",
    "            num_of_hurricanes += 1\n",
    "        else:\n",
    "            continue\n",
    "    return num_of_hurricanes"
   ]
  },
  {
   "cell_type": "code",
   "execution_count": 19,
   "metadata": {
    "execution": {
     "iopub.execute_input": "2021-03-05T05:34:45.600518Z",
     "iopub.status.busy": "2021-03-05T05:34:45.599517Z",
     "iopub.status.idle": "2021-03-05T05:34:45.603550Z",
     "shell.execute_reply": "2021-03-05T05:34:45.602517Z"
    }
   },
   "outputs": [
    {
     "data": {
      "text/plain": [
       "1"
      ]
     },
     "execution_count": 1,
     "metadata": {},
     "output_type": "execute_result"
    }
   ],
   "source": [
    "#q14\n",
    "# How many hurricanes were formed in the month of February?\n",
    "#get_month(project.get_formed(106))\n",
    "hurricanes_in_month(2)"
   ]
  },
  {
   "cell_type": "code",
   "execution_count": 20,
   "metadata": {
    "execution": {
     "iopub.execute_input": "2021-03-05T05:34:45.607518Z",
     "iopub.status.busy": "2021-03-05T05:34:45.607518Z",
     "iopub.status.idle": "2021-03-05T05:34:45.612551Z",
     "shell.execute_reply": "2021-03-05T05:34:45.611526Z"
    }
   },
   "outputs": [
    {
     "data": {
      "text/plain": [
       "118"
      ]
     },
     "execution_count": 1,
     "metadata": {},
     "output_type": "execute_result"
    }
   ],
   "source": [
    "#q15\n",
    "# How many hurricanes formed between June and October (inclusive)?\n",
    "def hurricanes_in_range_months(mm1, mm2):\n",
    "    total_hurricanes = 0\n",
    "    for mm in range(mm1, mm2+1):\n",
    "        # TODO: get the number of hurricanes for month mm\n",
    "        total_hurricanes += hurricanes_in_month(mm)\n",
    "        # TODO: finish this code!\n",
    "        continue\n",
    "    return total_hurricanes\n",
    "hurricanes_in_range_months(6,10)"
   ]
  },
  {
   "cell_type": "code",
   "execution_count": 21,
   "metadata": {
    "execution": {
     "iopub.execute_input": "2021-03-05T05:34:45.624515Z",
     "iopub.status.busy": "2021-03-05T05:34:45.619517Z",
     "iopub.status.idle": "2021-03-05T05:34:45.633524Z",
     "shell.execute_reply": "2021-03-05T05:34:45.633524Z"
    }
   },
   "outputs": [
    {
     "data": {
      "text/plain": [
       "9"
      ]
     },
     "execution_count": 1,
     "metadata": {},
     "output_type": "execute_result"
    }
   ],
   "source": [
    "#q16\n",
    "# Which month experienced the formation of most number of hurricanes?\n",
    "def most_hurricanes_in_month():\n",
    "    most_hurricanes = 0\n",
    "    most_hurricanes_month = 0\n",
    "    for i in range(project.count()):\n",
    "        num_of_hurricanes = 0\n",
    "        num_of_hurricanes += hurricanes_in_month(get_month(project.get_formed(i)))\n",
    "        if most_hurricanes < num_of_hurricanes:\n",
    "            most_hurricanes = num_of_hurricanes\n",
    "            most_hurricanes_month = i\n",
    "        else:\n",
    "            continue\n",
    "    return get_month(project.get_formed(most_hurricanes_month))\n",
    "most_hurricanes_in_month()"
   ]
  },
  {
   "cell_type": "code",
   "execution_count": 22,
   "metadata": {
    "execution": {
     "iopub.execute_input": "2021-03-05T05:34:45.638517Z",
     "iopub.status.busy": "2021-03-05T05:34:45.638517Z",
     "iopub.status.idle": "2021-03-05T05:34:45.641550Z",
     "shell.execute_reply": "2021-03-05T05:34:45.640517Z"
    }
   },
   "outputs": [
    {
     "data": {
      "text/plain": [
       "295500000"
      ]
     },
     "execution_count": 1,
     "metadata": {},
     "output_type": "execute_result"
    }
   ],
   "source": [
    "#q17\n",
    "# What is the total damage across all hurricanes that formed in the month of January, in dollars?\n",
    "def total_damage_in_month(mm):\n",
    "    damage_counter = 0\n",
    "    for i in range(project.count()):\n",
    "        if mm == get_month(project.get_formed(i)):\n",
    "            damage_counter += format_damage(project.get_damage(i))\n",
    "        else:\n",
    "            continue\n",
    "    return damage_counter\n",
    "total_damage_in_month(1)"
   ]
  },
  {
   "cell_type": "code",
   "execution_count": 23,
   "metadata": {
    "execution": {
     "iopub.execute_input": "2021-03-05T05:34:45.648517Z",
     "iopub.status.busy": "2021-03-05T05:34:45.648517Z",
     "iopub.status.idle": "2021-03-05T05:34:45.651517Z",
     "shell.execute_reply": "2021-03-05T05:34:45.651517Z"
    }
   },
   "outputs": [
    {
     "data": {
      "text/plain": [
       "25"
      ]
     },
     "execution_count": 1,
     "metadata": {},
     "output_type": "execute_result"
    }
   ],
   "source": [
    "#q18\n",
    "# How many hurricanes were formed in the decade 2001-2010 (inclusive)?\n",
    "def hurricanes_in_year(yyyy):\n",
    "    num_of_hurricanes = 0\n",
    "    for i in range(project.count()):\n",
    "        if yyyy == get_year(project.get_formed(i)):\n",
    "            num_of_hurricanes += 1\n",
    "        else:\n",
    "            continue\n",
    "    return num_of_hurricanes\n",
    "\n",
    "def hurricanes_in_range_years(yyyy1, yyyy2):\n",
    "    total_hurricanes = 0\n",
    "    for yyyy in range(yyyy1, yyyy2+1):\n",
    "        # TODO: get the number of hurricanes for month mm\n",
    "        total_hurricanes += hurricanes_in_year(yyyy)\n",
    "        # TODO: finish this code!\n",
    "        continue\n",
    "    return total_hurricanes\n",
    "hurricanes_in_range_years(2001, 2010)"
   ]
  },
  {
   "cell_type": "code",
   "execution_count": null,
   "metadata": {},
   "outputs": [],
   "source": []
  }
 ],
 "metadata": {
  "kernelspec": {
   "display_name": "Python 3",
   "language": "python",
   "name": "python3"
  },
  "language_info": {
   "codemirror_mode": {
    "name": "ipython",
    "version": 3
   },
   "file_extension": ".py",
   "mimetype": "text/x-python",
   "name": "python",
   "nbconvert_exporter": "python",
   "pygments_lexer": "ipython3",
   "version": "3.8.5"
  }
 },
 "nbformat": 4,
 "nbformat_minor": 4
}
