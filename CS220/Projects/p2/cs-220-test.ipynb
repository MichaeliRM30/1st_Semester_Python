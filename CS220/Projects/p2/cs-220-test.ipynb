{
 "cells": [
  {
   "cell_type": "code",
   "execution_count": 1,
   "metadata": {
    "execution": {
     "iopub.execute_input": "2021-02-09T15:28:12.833856Z",
     "iopub.status.busy": "2021-02-09T15:28:12.832857Z",
     "iopub.status.idle": "2021-02-09T15:28:12.837891Z",
     "shell.execute_reply": "2021-02-09T15:28:12.836858Z"
    }
   },
   "outputs": [],
   "source": [
    "# This line is a comment because it starts with a pound sign (#). That                                                                                                                                         \n",
    "# means Python ignores it.  A comment is just for a human reading the                                                                                                                                          \n",
    "# code.  This project involves 20 small problems to give you practice                                                                                                                                          \n",
    "# with operators, types, and boolean logic.  We'll give you directions                                                                                                                                         \n",
    "# (as comments) on what to do for each problem.                                                                                                                                                                \n",
    "#                                                                                                                                                                                                              \n",
    "# Before you get started, please tell us who you are, putting your\n",
    "# Net ID and your partner's Net ID below (or none if your working solo)                                                                                                                                      \n",
    "\n",
    "# project: p2\n",
    "# submitter: NETID1\n",
    "# partner: NETID2\n",
    "# hours: ????"
   ]
  },
  {
   "cell_type": "code",
   "execution_count": 2,
   "metadata": {
    "execution": {
     "iopub.execute_input": "2021-02-09T15:28:12.846860Z",
     "iopub.status.busy": "2021-02-09T15:28:12.845858Z",
     "iopub.status.idle": "2021-02-09T15:28:12.851864Z",
     "shell.execute_reply": "2021-02-09T15:28:12.852858Z"
    }
   },
   "outputs": [
    {
     "data": {
      "text/plain": [
       "2"
      ]
     },
     "execution_count": 1,
     "metadata": {},
     "output_type": "execute_result"
    }
   ],
   "source": [
    "#q1: what is 1+1?\n",
    "\n",
    "# we did this one for you :)\n",
    "\n",
    "1+1"
   ]
  },
  {
   "cell_type": "code",
   "execution_count": 3,
   "metadata": {
    "execution": {
     "iopub.execute_input": "2021-02-09T15:28:12.855857Z",
     "iopub.status.busy": "2021-02-09T15:28:12.855857Z",
     "iopub.status.idle": "2021-02-09T15:28:12.860857Z",
     "shell.execute_reply": "2021-02-09T15:28:12.859856Z"
    }
   },
   "outputs": [
    {
     "data": {
      "text/plain": [
       "41"
      ]
     },
     "execution_count": 1,
     "metadata": {},
     "output_type": "execute_result"
    }
   ],
   "source": [
    "#q2: what is 20 + 21?\n",
    "\n",
    "# We expect your answer to be similar to the answer for q1 and not just the final value of the expression\n",
    "\n",
    "20+21"
   ]
  },
  {
   "cell_type": "code",
   "execution_count": 4,
   "metadata": {
    "execution": {
     "iopub.execute_input": "2021-02-09T15:28:12.865892Z",
     "iopub.status.busy": "2021-02-09T15:28:12.865892Z",
     "iopub.status.idle": "2021-02-09T15:28:12.867992Z",
     "shell.execute_reply": "2021-02-09T15:28:12.868998Z"
    }
   },
   "outputs": [
    {
     "data": {
      "text/plain": [
       "int"
      ]
     },
     "execution_count": 1,
     "metadata": {},
     "output_type": "execute_result"
    }
   ],
   "source": [
    "#q3: what is the type of 1+1?\n",
    "\n",
    "# we did this one for you too...\n",
    "\n",
    "type(1+1)"
   ]
  },
  {
   "cell_type": "code",
   "execution_count": 5,
   "metadata": {
    "execution": {
     "iopub.execute_input": "2021-02-09T15:28:12.872052Z",
     "iopub.status.busy": "2021-02-09T15:28:12.872052Z",
     "iopub.status.idle": "2021-02-09T15:28:12.876034Z",
     "shell.execute_reply": "2021-02-09T15:28:12.874998Z"
    }
   },
   "outputs": [
    {
     "data": {
      "text/plain": [
       "float"
      ]
     },
     "execution_count": 1,
     "metadata": {},
     "output_type": "execute_result"
    }
   ],
   "source": [
    "#q4: what is the type of 2021.3?\n",
    "\n",
    "# We expect the answers for q4-q9 to be similar to the answer for q3 and not just the final type value\n",
    "\n",
    "type(2021.3)"
   ]
  },
  {
   "cell_type": "code",
   "execution_count": 6,
   "metadata": {
    "execution": {
     "iopub.execute_input": "2021-02-09T15:28:12.880004Z",
     "iopub.status.busy": "2021-02-09T15:28:12.879012Z",
     "iopub.status.idle": "2021-02-09T15:28:12.884000Z",
     "shell.execute_reply": "2021-02-09T15:28:12.884000Z"
    }
   },
   "outputs": [
    {
     "data": {
      "text/plain": [
       "int"
      ]
     },
     "execution_count": 1,
     "metadata": {},
     "output_type": "execute_result"
    }
   ],
   "source": [
    "#q5: what is the type of 2021//3?\n",
    "\n",
    "type(2021//3)"
   ]
  },
  {
   "cell_type": "code",
   "execution_count": 7,
   "metadata": {
    "execution": {
     "iopub.execute_input": "2021-02-09T15:28:12.889084Z",
     "iopub.status.busy": "2021-02-09T15:28:12.888059Z",
     "iopub.status.idle": "2021-02-09T15:28:12.891044Z",
     "shell.execute_reply": "2021-02-09T15:28:12.891044Z"
    }
   },
   "outputs": [
    {
     "data": {
      "text/plain": [
       "str"
      ]
     },
     "execution_count": 1,
     "metadata": {},
     "output_type": "execute_result"
    }
   ],
   "source": [
    "#q6: what is the type of \"2021\"?  Note the quotes!\n",
    "\n",
    "type(\"2021\")"
   ]
  },
  {
   "cell_type": "code",
   "execution_count": 8,
   "metadata": {
    "execution": {
     "iopub.execute_input": "2021-02-09T15:28:12.895081Z",
     "iopub.status.busy": "2021-02-09T15:28:12.895081Z",
     "iopub.status.idle": "2021-02-09T15:28:12.900080Z",
     "shell.execute_reply": "2021-02-09T15:28:12.900080Z"
    }
   },
   "outputs": [
    {
     "data": {
      "text/plain": [
       "str"
      ]
     },
     "execution_count": 1,
     "metadata": {},
     "output_type": "execute_result"
    }
   ],
   "source": [
    "#q7: what is the type of \"True\"?  Note the quotes!\n",
    "\n",
    "type(\"True\")"
   ]
  },
  {
   "cell_type": "code",
   "execution_count": 9,
   "metadata": {
    "execution": {
     "iopub.execute_input": "2021-02-09T15:28:12.904083Z",
     "iopub.status.busy": "2021-02-09T15:28:12.904083Z",
     "iopub.status.idle": "2021-02-09T15:28:12.908046Z",
     "shell.execute_reply": "2021-02-09T15:28:12.908046Z"
    }
   },
   "outputs": [
    {
     "data": {
      "text/plain": [
       "bool"
      ]
     },
     "execution_count": 1,
     "metadata": {},
     "output_type": "execute_result"
    }
   ],
   "source": [
    "#q8: what is the type of True?\n",
    "\n",
    "type(True)"
   ]
  },
  {
   "cell_type": "code",
   "execution_count": 10,
   "metadata": {
    "execution": {
     "iopub.execute_input": "2021-02-09T15:28:12.913045Z",
     "iopub.status.busy": "2021-02-09T15:28:12.912045Z",
     "iopub.status.idle": "2021-02-09T15:28:12.917044Z",
     "shell.execute_reply": "2021-02-09T15:28:12.916048Z"
    }
   },
   "outputs": [
    {
     "data": {
      "text/plain": [
       "bool"
      ]
     },
     "execution_count": 1,
     "metadata": {},
     "output_type": "execute_result"
    }
   ],
   "source": [
    "#q9: what is the type of 2021<2020?\n",
    "\n",
    "type(2021<2020)"
   ]
  },
  {
   "cell_type": "code",
   "execution_count": 11,
   "metadata": {
    "execution": {
     "iopub.execute_input": "2021-02-09T15:28:12.920373Z",
     "iopub.status.busy": "2021-02-09T15:28:12.920373Z",
     "iopub.status.idle": "2021-02-09T15:28:12.925080Z",
     "shell.execute_reply": "2021-02-09T15:28:12.924082Z"
    }
   },
   "outputs": [
    {
     "data": {
      "text/plain": [
       "2021"
      ]
     },
     "execution_count": 1,
     "metadata": {},
     "output_type": "execute_result"
    }
   ],
   "source": [
    "#q10: what is two thousand plus twenty one?\n",
    "\n",
    "# fix the below to make Python do an addition that produces 2021\n",
    "\n",
    "2000 + 21 \n"
   ]
  },
  {
   "cell_type": "code",
   "execution_count": 12,
   "metadata": {
    "execution": {
     "iopub.execute_input": "2021-02-09T15:28:12.929265Z",
     "iopub.status.busy": "2021-02-09T15:28:12.928265Z",
     "iopub.status.idle": "2021-02-09T15:28:12.932263Z",
     "shell.execute_reply": "2021-02-09T15:28:12.932263Z"
    }
   },
   "outputs": [
    {
     "data": {
      "text/plain": [
       "':):):):):):):-):-):-)'"
      ]
     },
     "execution_count": 1,
     "metadata": {},
     "output_type": "execute_result"
    }
   ],
   "source": [
    "#q11: please fix the following to display 6 smileys without a nose and 3 smileys with a nose\n",
    "\n",
    "\":)\" * 6 + \":-)\" * 3\n"
   ]
  },
  {
   "cell_type": "code",
   "execution_count": 13,
   "metadata": {
    "execution": {
     "iopub.execute_input": "2021-02-09T15:28:12.936266Z",
     "iopub.status.busy": "2021-02-09T15:28:12.935262Z",
     "iopub.status.idle": "2021-02-09T15:28:12.941298Z",
     "shell.execute_reply": "2021-02-09T15:28:12.940262Z"
    }
   },
   "outputs": [
    {
     "data": {
      "text/plain": [
       "42"
      ]
     },
     "execution_count": 1,
     "metadata": {},
     "output_type": "execute_result"
    }
   ],
   "source": [
    "#q12: please fix the following to get 42\n",
    "\n",
    "6 * 7 \n"
   ]
  },
  {
   "cell_type": "code",
   "execution_count": 14,
   "metadata": {
    "execution": {
     "iopub.execute_input": "2021-02-09T15:28:12.945262Z",
     "iopub.status.busy": "2021-02-09T15:28:12.943262Z",
     "iopub.status.idle": "2021-02-09T15:28:12.950266Z",
     "shell.execute_reply": "2021-02-09T15:28:12.951261Z"
    }
   },
   "outputs": [
    {
     "data": {
      "text/plain": [
       "216"
      ]
     },
     "execution_count": 1,
     "metadata": {},
     "output_type": "execute_result"
    }
   ],
   "source": [
    "#q13: what is the volume of a cube with side length of 6?\n",
    "\n",
    "# oops, it is currently computing the area of a square (please fix)\n",
    "\n",
    "6 ** 3\n"
   ]
  },
  {
   "cell_type": "code",
   "execution_count": 15,
   "metadata": {
    "execution": {
     "iopub.execute_input": "2021-02-09T15:28:12.955262Z",
     "iopub.status.busy": "2021-02-09T15:28:12.954262Z",
     "iopub.status.idle": "2021-02-09T15:28:12.958300Z",
     "shell.execute_reply": "2021-02-09T15:28:12.957262Z"
    }
   },
   "outputs": [
    {
     "data": {
      "text/plain": [
       "1620"
      ]
     },
     "execution_count": 1,
     "metadata": {},
     "output_type": "execute_result"
    }
   ],
   "source": [
    "#q14: you start with 20 dollars and triple your money every decade.\n",
    "# how much will you have after 4 decades?\n",
    "\n",
    "# We expect the answer to be a mathematical expression, and not just the final value\n",
    "\n",
    "# principal = 20\n",
    "# growth_rate = 3\n",
    "# number_years = 4\n",
    "\n",
    "# for x in range(number_years):\n",
    "    # principal = principal * growth_rate\n",
    "    \n",
    "# 20 60 180 540 1620\n",
    "    \n",
    "20 * 3 ** 4"
   ]
  },
  {
   "cell_type": "code",
   "execution_count": 16,
   "metadata": {
    "execution": {
     "iopub.execute_input": "2021-02-09T15:28:12.961263Z",
     "iopub.status.busy": "2021-02-09T15:28:12.961263Z",
     "iopub.status.idle": "2021-02-09T15:28:12.967263Z",
     "shell.execute_reply": "2021-02-09T15:28:12.967263Z"
    }
   },
   "outputs": [
    {
     "data": {
      "text/plain": [
       "True"
      ]
     },
     "execution_count": 1,
     "metadata": {},
     "output_type": "execute_result"
    }
   ],
   "source": [
    "#q15: fix the Python logic to match the English\n",
    "\n",
    "# In English: 200 is less than 2021 and greater than 120\n",
    "\n",
    "# In Python:\n",
    "200 < 2021 and 200 > 120 \n"
   ]
  },
  {
   "cell_type": "code",
   "execution_count": 17,
   "metadata": {
    "execution": {
     "iopub.execute_input": "2021-02-09T15:28:12.971264Z",
     "iopub.status.busy": "2021-02-09T15:28:12.970264Z",
     "iopub.status.idle": "2021-02-09T15:28:12.974262Z",
     "shell.execute_reply": "2021-02-09T15:28:12.975266Z"
    }
   },
   "outputs": [
    {
     "data": {
      "text/plain": [
       "True"
      ]
     },
     "execution_count": 1,
     "metadata": {},
     "output_type": "execute_result"
    }
   ],
   "source": [
    "#q16: change ONLY the value of x to get True for the output\n",
    "\n",
    "x = 201\n",
    "\n",
    "x < 2021 and x > 200"
   ]
  },
  {
   "cell_type": "code",
   "execution_count": 18,
   "metadata": {
    "execution": {
     "iopub.execute_input": "2021-02-09T15:28:12.979265Z",
     "iopub.status.busy": "2021-02-09T15:28:12.978302Z",
     "iopub.status.idle": "2021-02-09T15:28:12.982299Z",
     "shell.execute_reply": "2021-02-09T15:28:12.981262Z"
    }
   },
   "outputs": [
    {
     "data": {
      "text/plain": [
       "True"
      ]
     },
     "execution_count": 1,
     "metadata": {},
     "output_type": "execute_result"
    }
   ],
   "source": [
    "#q17: change ONLY the value of x to get True for the output\n",
    "\n",
    "x = 3021\n",
    "\n",
    "(x > 3000 and x < 3022) and (x >= 3021 and x < 3500)"
   ]
  },
  {
   "cell_type": "code",
   "execution_count": 19,
   "metadata": {
    "execution": {
     "iopub.execute_input": "2021-02-09T15:28:12.986395Z",
     "iopub.status.busy": "2021-02-09T15:28:12.985409Z",
     "iopub.status.idle": "2021-02-09T15:28:12.989432Z",
     "shell.execute_reply": "2021-02-09T15:28:12.988396Z"
    }
   },
   "outputs": [
    {
     "data": {
      "text/plain": [
       "True"
      ]
     },
     "execution_count": 1,
     "metadata": {},
     "output_type": "execute_result"
    }
   ],
   "source": [
    "#q18: Fix the following logic so that it checks whether x is \n",
    "# either -2021 or 2021. \n",
    "\n",
    "# The correct output should be True, \n",
    "# as x indeed equals to -2021 or 2021. \n",
    "# The problem is with types: to the left\n",
    "# of the or, we have a boolean, and to the right of\n",
    "# the or, we have an integer.  This semester, we will\n",
    "# always try to have a boolean to both the left and\n",
    "# right of logical operators such as or.\n",
    "\n",
    "x = 2021\n",
    "\n",
    "\n",
    "x == abs(2021)"
   ]
  },
  {
   "cell_type": "code",
   "execution_count": 20,
   "metadata": {
    "execution": {
     "iopub.execute_input": "2021-02-09T15:28:12.993399Z",
     "iopub.status.busy": "2021-02-09T15:28:12.992397Z",
     "iopub.status.idle": "2021-02-09T15:28:12.998432Z",
     "shell.execute_reply": "2021-02-09T15:28:12.997663Z"
    }
   },
   "outputs": [
    {
     "data": {
      "text/plain": [
       "True"
      ]
     },
     "execution_count": 1,
     "metadata": {},
     "output_type": "execute_result"
    }
   ],
   "source": [
    "#q19: we should win!\n",
    "\n",
    "number = 30 \n",
    "\n",
    "# There are three winners, with numbers 30, 200, and 2021\n",
    "# The following should output True if number is changed\n",
    "# to be any of these (but the logic is currently wrong).\n",
    "# Please update the following expression so we get True\n",
    "# if the number variable is changed to any of the winning\n",
    "# options.\n",
    "\n",
    "# Did we win?\n",
    "number == 30 or number == 200 or number == 2021"
   ]
  },
  {
   "cell_type": "code",
   "execution_count": 21,
   "metadata": {
    "execution": {
     "iopub.execute_input": "2021-02-09T15:28:13.002397Z",
     "iopub.status.busy": "2021-02-09T15:28:13.001395Z",
     "iopub.status.idle": "2021-02-09T15:28:13.004395Z",
     "shell.execute_reply": "2021-02-09T15:28:13.005431Z"
    }
   },
   "outputs": [
    {
     "data": {
      "text/plain": [
       "100.53096491487338"
      ]
     },
     "execution_count": 1,
     "metadata": {},
     "output_type": "execute_result"
    }
   ],
   "source": [
    "#q20: what is the volume of a cylinder with radius 4 and height 2?\n",
    "# you may assume PI is 3.14 \n",
    "\n",
    "# We expect the answer to be a mathematical expression, and not just the final value\n",
    "\n",
    "import math\n",
    "\n",
    "math.pi * 4 ** 2 * 2\n"
   ]
  }
 ],
 "metadata": {
  "anaconda-cloud": {},
  "kernelspec": {
   "display_name": "Python 3",
   "language": "python",
   "name": "python3"
  },
  "language_info": {
   "codemirror_mode": {
    "name": "ipython",
    "version": 3
   },
   "file_extension": ".py",
   "mimetype": "text/x-python",
   "name": "python",
   "nbconvert_exporter": "python",
   "pygments_lexer": "ipython3",
   "version": "3.8.5"
  }
 },
 "nbformat": 4,
 "nbformat_minor": 4
}
