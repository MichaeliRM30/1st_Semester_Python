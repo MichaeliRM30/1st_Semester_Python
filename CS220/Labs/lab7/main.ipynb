{
 "cells": [
  {
   "cell_type": "code",
   "execution_count": 1,
   "metadata": {},
   "outputs": [
    {
     "data": {
      "text/plain": [
       "{'t': 4,\n",
       " 'h': 2,\n",
       " 'r': 3,\n",
       " 'e': 11,\n",
       " ',': 12,\n",
       " ' ': 12,\n",
       " 'd': 1,\n",
       " 'o': 5,\n",
       " 'n': 6,\n",
       " 'f': 4,\n",
       " 'u': 1,\n",
       " 'i': 6,\n",
       " 'v': 3,\n",
       " 'w': 1,\n",
       " 's': 1,\n",
       " 'x': 1}"
      ]
     },
     "execution_count": 1,
     "metadata": {},
     "output_type": "execute_result"
    }
   ],
   "source": [
    "PI = \"three, dot, one, four, one, five, nine, two, six, five, three, five, nine\"\n",
    "counts = {}\n",
    "for char in PI:\n",
    "    if not char in counts:\n",
    "        counts[char] = 1\n",
    "    else:\n",
    "        counts[char] += 1\n",
    "counts"
   ]
  },
  {
   "cell_type": "code",
   "execution_count": 2,
   "metadata": {},
   "outputs": [
    {
     "data": {
      "text/plain": [
       "{'three,': 2,\n",
       " 'dot,': 1,\n",
       " 'one,': 2,\n",
       " 'four,': 1,\n",
       " 'five,': 3,\n",
       " 'nine,': 1,\n",
       " 'two,': 1,\n",
       " 'six,': 1,\n",
       " 'nine': 1}"
      ]
     },
     "execution_count": 2,
     "metadata": {},
     "output_type": "execute_result"
    }
   ],
   "source": [
    "PI = \"three, dot, one, four, one, five, nine, two, six, five, three, five, nine\"\n",
    "counts = {}\n",
    "for word in PI.split(' '):\n",
    "    if word in counts:\n",
    "        counts[word] += 1\n",
    "    else:\n",
    "        counts[word] = 1\n",
    "counts"
   ]
  },
  {
   "cell_type": "code",
   "execution_count": 3,
   "metadata": {},
   "outputs": [
    {
     "data": {
      "text/plain": [
       "{'two': 'dos', 'zero': 'cero'}"
      ]
     },
     "execution_count": 3,
     "metadata": {},
     "output_type": "execute_result"
    }
   ],
   "source": [
    "keys = [\"two\", \"zero\"]\n",
    "vals = [\"dos\", \"cero\"]\n",
    "en2sp = {} # empty dictionary\n",
    "for i in range(len(keys)):\n",
    "    en2sp[keys[i]] = vals[i]\n",
    "en2sp"
   ]
  },
  {
   "cell_type": "code",
   "execution_count": 4,
   "metadata": {},
   "outputs": [
    {
     "data": {
      "text/plain": [
       "'I love Comp Sci dos dos cero'"
      ]
     },
     "execution_count": 4,
     "metadata": {},
     "output_type": "execute_result"
    }
   ],
   "source": [
    "words = \"I love Comp Sci two two zero\".split(\" \")\n",
    "for i in range(len(words)):\n",
    "    default = words[i] # don't translate it\n",
    "    words[i] = en2sp.get(words[i], default)\n",
    "\" \".join(words)"
   ]
  },
  {
   "cell_type": "code",
   "execution_count": 5,
   "metadata": {},
   "outputs": [
    {
     "data": {
      "text/plain": [
       "{'dos': 'two', 'cero': 'zero'}"
      ]
     },
     "execution_count": 5,
     "metadata": {},
     "output_type": "execute_result"
    }
   ],
   "source": [
    "sp2en = {}\n",
    "for en in en2sp:\n",
    "    sp = en2sp[en]\n",
    "    sp2en[sp] = en\n",
    "sp2en"
   ]
  },
  {
   "cell_type": "code",
   "execution_count": 6,
   "metadata": {},
   "outputs": [
    {
     "data": {
      "text/plain": [
       "{'A': 0.5, 'B': 0.5, 'C': 0.75}"
      ]
     },
     "execution_count": 6,
     "metadata": {},
     "output_type": "execute_result"
    }
   ],
   "source": [
    "numerators = {\"A\": 1, \"B\": 2, \"C\": 3}\n",
    "denominators = {\"A\": 2, \"B\": 4, \"C\": 4}\n",
    "result = {}\n",
    "for key in numerators:\n",
    "    result[key] = numerators[key] / denominators[key]\n",
    "result"
   ]
  },
  {
   "cell_type": "code",
   "execution_count": 7,
   "metadata": {},
   "outputs": [
    {
     "name": "stdout",
     "output_type": "stream",
     "text": [
      "2016 10 **********\n",
      "2017 14 **************\n",
      "2018 13 *************\n",
      "2019 16 ****************\n",
      "2020 18 ******************\n",
      "2021 25 *************************\n"
     ]
    }
   ],
   "source": [
    "incidents = {2017: 14, 2020: 18, 2018: 13, 2019: 16, 2021: 25, 2016: 10}\n",
    "keys = sorted(list(incidents.keys()))\n",
    "for k in keys:\n",
    "    print(k, incidents[k], '*' * incidents[k])"
   ]
  },
  {
   "cell_type": "code",
   "execution_count": 8,
   "metadata": {},
   "outputs": [
    {
     "name": "stdout",
     "output_type": "stream",
     "text": [
      "Year 2021 had 25 incidents (the max)\n"
     ]
    }
   ],
   "source": [
    "incidents = {2017: 14, 2020: 18, 2018: 13, 2019: 16, 2021: 25, 2016: 10}\n",
    "best_key = None\n",
    "for key in incidents:\n",
    "    if best_key == None or incidents[key] > incidents[best_key]:\n",
    "        best_key = key\n",
    "print(\"Year\", best_key, \"had\", incidents[best_key], \"incidents (the max)\")"
   ]
  },
  {
   "cell_type": "code",
   "execution_count": 9,
   "metadata": {},
   "outputs": [
    {
     "name": "stdout",
     "output_type": "stream",
     "text": [
      "1\n",
      "2\n"
     ]
    }
   ],
   "source": [
    "d = {} \n",
    "d[1] = \"one\"\n",
    "d[2] = \"two\"\n",
    "for x in d:\n",
    "   print(x)"
   ]
  },
  {
   "cell_type": "code",
   "execution_count": 14,
   "metadata": {},
   "outputs": [
    {
     "ename": "NameError",
     "evalue": "name 'a' is not defined",
     "output_type": "error",
     "traceback": [
      "\u001b[1;31m---------------------------------------------------------------------------\u001b[0m",
      "\u001b[1;31mNameError\u001b[0m                                 Traceback (most recent call last)",
      "\u001b[1;32m<ipython-input-14-39cd607024a3>\u001b[0m in \u001b[0;36m<module>\u001b[1;34m\u001b[0m\n\u001b[0;32m      6\u001b[0m     \u001b[1;32melse\u001b[0m\u001b[1;33m:\u001b[0m\u001b[1;33m\u001b[0m\u001b[1;33m\u001b[0m\u001b[0m\n\u001b[0;32m      7\u001b[0m        \u001b[0mletter_dict\u001b[0m\u001b[1;33m[\u001b[0m\u001b[0mletter\u001b[0m\u001b[1;33m]\u001b[0m \u001b[1;33m=\u001b[0m \u001b[1;36m1\u001b[0m\u001b[1;33m\u001b[0m\u001b[1;33m\u001b[0m\u001b[0m\n\u001b[1;32m----> 8\u001b[1;33m \u001b[0mprint\u001b[0m\u001b[1;33m(\u001b[0m\u001b[0ma\u001b[0m \u001b[1;32min\u001b[0m \u001b[0mletter_dict\u001b[0m\u001b[1;33m)\u001b[0m\u001b[1;33m\u001b[0m\u001b[1;33m\u001b[0m\u001b[0m\n\u001b[0m",
      "\u001b[1;31mNameError\u001b[0m: name 'a' is not defined"
     ]
    }
   ],
   "source": [
    "word = \"Tallahassee\"\n",
    "letter_dict = dict()\n",
    "for letter in word:\n",
    "    if letter in letter_dict:\n",
    "       letter_dict[letter] += 1\n",
    "    else:\n",
    "       letter_dict[letter] = 1\n",
    "print(a in letter_dict)"
   ]
  },
  {
   "cell_type": "code",
   "execution_count": 15,
   "metadata": {},
   "outputs": [
    {
     "name": "stdout",
     "output_type": "stream",
     "text": [
      "1\n"
     ]
    }
   ],
   "source": [
    "lst = []\n",
    "header = [\"name\",\"number\"]\n",
    "A_info = [\"A\",1]\n",
    "B_info = [\"B\",2]\n",
    "C_info = [\"C\",3]\n",
    "lst.append(header)\n",
    "lst.append(A_info)\n",
    "lst.append(B_info)\n",
    "print(lst[-2][header.index(\"number\")])"
   ]
  },
  {
   "cell_type": "code",
   "execution_count": 17,
   "metadata": {},
   "outputs": [
    {
     "name": "stdout",
     "output_type": "stream",
     "text": [
      "{'Drama': ['Tenet', 'Joker', 'Parasite'], 'Thriller': ['Tenet', 'Parasite'], 'Psychological thriller': ['Joker'], 'Comedy': ['Parasite', 'Minions'], 'Adventure': ['Minions'], 'Animation': ['Minions']}\n"
     ]
    }
   ],
   "source": [
    "list_of_movies = [\n",
    "{'title':'Tenet','year':2020,'genre':['Drama','Thriller']},\n",
    "{'title':'Joker','year':2019,'genre':['Psychological thriller','Drama']},\n",
    "{'title':'Parasite','year':2018,'genre':['Comedy','Thriller','Drama']},\n",
    "{'title':'Minions','year':2018,'genre':['Comedy','Adventure','Animation']}\n",
    "]\n",
    "genre_movie_dict = {}\n",
    "for movie in list_of_movies:\n",
    "    for genre in movie['genre']:\n",
    "        if genre not in genre_movie_dict:\n",
    "            genre_movie_dict[genre] = []\n",
    "        if movie['title'] not in genre_movie_dict[genre] and genre in movie['genre']:\n",
    "            genre_movie_dict[genre].append(movie['title'])\n",
    "print(genre_movie_dict)"
   ]
  },
  {
   "cell_type": "code",
   "execution_count": 25,
   "metadata": {},
   "outputs": [
    {
     "data": {
      "text/plain": [
       "int"
      ]
     },
     "execution_count": 25,
     "metadata": {},
     "output_type": "execute_result"
    }
   ],
   "source": [
    "person = {}\n",
    "\n",
    "person['name'] = 'Bob'\n",
    "person['age'] = 45\n",
    "person['isAlive'] = True\n",
    "person['phone'] = [\n",
    "  {'type': 'office', 'number': '123-456-7890'},       \n",
    "  {'type': 'home', 'number': '789-456-1230'}\n",
    "]\n",
    "person['address'] = {'street': '1210 West Dayton Street', 'city': 'Madison', 'state': 'WI', 'zip': 53706}\n",
    "type(person['address']['zip'])"
   ]
  },
  {
   "cell_type": "code",
   "execution_count": 50,
   "metadata": {},
   "outputs": [
    {
     "ename": "TypeError",
     "evalue": "can only concatenate tuple (not \"int\") to tuple",
     "output_type": "error",
     "traceback": [
      "\u001b[1;31m---------------------------------------------------------------------------\u001b[0m",
      "\u001b[1;31mTypeError\u001b[0m                                 Traceback (most recent call last)",
      "\u001b[1;32m<ipython-input-50-f76a02da2953>\u001b[0m in \u001b[0;36m<module>\u001b[1;34m\u001b[0m\n\u001b[0;32m      2\u001b[0m \u001b[0mtotal_cost\u001b[0m \u001b[1;33m=\u001b[0m \u001b[1;33m(\u001b[0m\u001b[1;33m)\u001b[0m\u001b[1;33m\u001b[0m\u001b[1;33m\u001b[0m\u001b[0m\n\u001b[0;32m      3\u001b[0m \u001b[1;32mfor\u001b[0m \u001b[0mitem\u001b[0m \u001b[1;32min\u001b[0m \u001b[0mgrocery_list\u001b[0m\u001b[1;33m:\u001b[0m\u001b[1;33m\u001b[0m\u001b[1;33m\u001b[0m\u001b[0m\n\u001b[1;32m----> 4\u001b[1;33m     \u001b[0mtotal_cost\u001b[0m \u001b[1;33m+=\u001b[0m \u001b[1;33m(\u001b[0m\u001b[0mgrocery_list\u001b[0m\u001b[1;33m[\u001b[0m\u001b[0mitem\u001b[0m\u001b[1;33m]\u001b[0m\u001b[1;33m[\u001b[0m\u001b[1;34m'quantity'\u001b[0m\u001b[1;33m]\u001b[0m \u001b[1;33m*\u001b[0m \u001b[0mgrocery_list\u001b[0m\u001b[1;33m[\u001b[0m\u001b[0mitem\u001b[0m\u001b[1;33m]\u001b[0m\u001b[1;33m[\u001b[0m\u001b[1;34m'cost'\u001b[0m\u001b[1;33m]\u001b[0m\u001b[1;33m)\u001b[0m\u001b[1;33m\u001b[0m\u001b[1;33m\u001b[0m\u001b[0m\n\u001b[0m\u001b[0;32m      5\u001b[0m \u001b[0mprint\u001b[0m\u001b[1;33m(\u001b[0m\u001b[0mtotal_cost\u001b[0m\u001b[1;33m)\u001b[0m\u001b[1;33m\u001b[0m\u001b[1;33m\u001b[0m\u001b[0m\n",
      "\u001b[1;31mTypeError\u001b[0m: can only concatenate tuple (not \"int\") to tuple"
     ]
    }
   ],
   "source": [
    "grocery_list = {\"Milk\":{'quantity':2,'cost':10}, \"Eggs\":{'quantity':10,'cost':1}}\n",
    "total_cost = ()\n",
    "for item in grocery_list:\n",
    "    total_cost += (grocery_list[item]['quantity'] * grocery_list[item]['cost'])\n",
    "print(total_cost)   "
   ]
  },
  {
   "cell_type": "code",
   "execution_count": 31,
   "metadata": {},
   "outputs": [
    {
     "name": "stdout",
     "output_type": "stream",
     "text": [
      "3.0\n"
     ]
    }
   ],
   "source": [
    "rows = [ [\"x\", \"y\", \"name\"], [3, 4, \"Alice\"], [9, 1, \"Bob\"], [-3, 4, \"Cindy\"] ]\n",
    "header = rows[0]\n",
    "data = rows[1:]\n",
    "X = 0\n",
    "Y = 1\n",
    "NAME = 2\n",
    "print((data[0][X] + data[1][X] + data[2][X]) / 3)"
   ]
  },
  {
   "cell_type": "code",
   "execution_count": 35,
   "metadata": {},
   "outputs": [
    {
     "name": "stdout",
     "output_type": "stream",
     "text": [
      "COMP SCI 220\n",
      "324\n",
      "STAT\n"
     ]
    }
   ],
   "source": [
    "class_id_to_name = {\n",
    "11943: 'COMP SCI 220',\n",
    "206071:  'COMP SCI 200',\n",
    "24285: 'COMP SCI 300',\n",
    "151199: 'COMP SCI 320',\n",
    "98330: 'STATS 324'\n",
    "}\n",
    "print(class_id_to_name[11943])\n",
    "print(class_id_to_name[98330][-3:])\n",
    "print(class_id_to_name[98330][:4])"
   ]
  },
  {
   "cell_type": "code",
   "execution_count": 39,
   "metadata": {},
   "outputs": [
    {
     "name": "stdout",
     "output_type": "stream",
     "text": [
      "[{'a': 2, 'b': 2, 'c': 3}, 4, 6]\n"
     ]
    }
   ],
   "source": [
    "s = {\"a\": 1, \"b\": 2, \"c\" : 3}\n",
    "test = [s, 4, 5]\n",
    "def foo(arr):\n",
    "    arr[0][\"a\"] = 2\n",
    "    arr[2] = 6\n",
    "    print(test)\n",
    "foo(test)"
   ]
  },
  {
   "cell_type": "code",
   "execution_count": 49,
   "metadata": {},
   "outputs": [
    {
     "name": "stdout",
     "output_type": "stream",
     "text": [
      "-2\n",
      "5\n",
      "5\n",
      "5\n",
      "5\n",
      "5\n"
     ]
    }
   ],
   "source": [
    "header = [\"name\", \"x\", \"y\"]\n",
    "rows = [\n",
    "   [\"Alice\", 30, 20],\n",
    "   [\"Bob\", 5, 11],\n",
    "   [\"Cindy\", -2, 50],\n",
    "]\n",
    "\n",
    "vals = [\n",
    "{\"name\":\"Alice\", \"x\":30, \"y\":20},\n",
    "{\"name\":\"Bob\", \"x\":5, \"y\":11},\n",
    "{\"name\":\"Cindy\", \"x\":-2, \"y\":50},\n",
    "]\n",
    "print(rows[2][-2])\n",
    "print(rows[1][-2])\n",
    "#print(vals[1][\"Bob\"][\"x\"])\n",
    "print(rows[1][header.index(\"x\")])\n",
    "print(vals[-2][\"x\"])\n",
    "print(rows[1][-2])\n",
    "print(vals[1][\"x\"])"
   ]
  },
  {
   "cell_type": "code",
   "execution_count": null,
   "metadata": {},
   "outputs": [],
   "source": []
  }
 ],
 "metadata": {
  "kernelspec": {
   "display_name": "Python 3",
   "language": "python",
   "name": "python3"
  },
  "language_info": {
   "codemirror_mode": {
    "name": "ipython",
    "version": 3
   },
   "file_extension": ".py",
   "mimetype": "text/x-python",
   "name": "python",
   "nbconvert_exporter": "python",
   "pygments_lexer": "ipython3",
   "version": "3.8.5"
  }
 },
 "nbformat": 4,
 "nbformat_minor": 4
}
